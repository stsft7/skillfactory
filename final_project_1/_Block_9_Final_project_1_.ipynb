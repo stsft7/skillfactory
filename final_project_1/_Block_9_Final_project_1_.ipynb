{
  "cells": [
    {
      "cell_type": "markdown",
      "metadata": {
        "id": "IGg8TaD6sN24"
      },
      "source": [
        "# **Итоговый проект первого года обучения**\n",
        "\n",
        "# **Агенство недвижимости**"
      ]
    },
    {
      "cell_type": "markdown",
      "metadata": {
        "id": "EmjFCe776Dp7"
      },
      "source": [
        "# I. Определение задачи и планирование"
      ]
    },
    {
      "cell_type": "markdown",
      "metadata": {
        "id": "hs9i6QWt7bcP"
      },
      "source": [
        "## 1. Постановка задачи\n",
        "\n",
        "Поводом к работе явилось обращение представителя крупного агентства недвижимости со следующей проблемой:\n",
        "\n",
        "\"Мои риелторы тратят катастрофически много времени на сортировку\n",
        "объявлений и поиск выгодных предложений. Поэтому их скорость реакции, да\n",
        "и, сказать по правде, качество анализа не дотягивают до уровня конкурентов.\n",
        "Это сказывается на наших финансовых показателях.\n",
        "Ваша задача — разработать модель, которая позволила бы обойти\n",
        "конкурентов по скорости и качеству совершения сделок\""
      ]
    },
    {
      "cell_type": "markdown",
      "metadata": {
        "id": "PeNy3f_78cy7"
      },
      "source": [
        "### 1.1. Цель проекта\n",
        "\n",
        "\n",
        "*   Разработать сервис для предсказания стоимости домов на основе истории предложений.\n",
        "*   Для анализа доступны следующие данные:\n",
        "\n",
        "`status`: Статус объекта недвижимости. Может принимать значения, например: \"for sale\" (продается), \"sold\" (продано), \"pending\" (в ожидании), \"foreclosure\" (выкуп), и т.д.\n",
        "\n",
        "`private pool` & `PrivatePool`: Наличие частного бассейна. Вероятно, дублирующая колонка, одна из которых содержит больше пропущенных значений. Значения могут быть \"yes\", \"no\", True, False, 1, 0, или просто наличие какой-либо информации в одной из колонок, а в другой — NaN.\n",
        "\n",
        "`propertyType`: Тип недвижимости. Например: \"house\" (дом), \"condo\" (кондоминиум), \"apartment\" (квартира), \"townhouse\" (таунхаус), \"land\" (земля), \"multi-family\" (многоквартирный дом) и т.д.\n",
        "\n",
        "`street`: Адрес улицы объекта недвижимости.\n",
        "\n",
        "`baths`: Количество ванных комнат. Может быть целым числом или дробным (например, 2.5 для двух полных и одной половинной ванной).\n",
        "\n",
        "`homeFacts`: Различные характеристики дома, вероятно, в формате строки или списка. Может содержать информацию о годе постройки, материалах, особенностях и т.д. Требует дальнейшего исследования для точной интерпретации.\n",
        "\n",
        "`fireplace`: Наличие камина. \"yes\", \"no\", True, False, 1, 0, или просто наличие/отсутствие текста в ячейке.\n",
        "\n",
        "`city`: Город, в котором находится объект недвижимости.\n",
        "\n",
        "`schools`: Информация о школах, относящихся к данному адресу. Формат данных может варьироваться (строка, список, JSON). Может содержать названия школ, рейтинги, расстояние до объекта и т.д.\n",
        "\n",
        "`sqft`: Площадь объекта в квадратных футах.\n",
        "\n",
        "`zipcode`: Почтовый индекс.\n",
        "\n",
        "`beds`: Количество спален.\n",
        "\n",
        "`state`: Штат, в котором находится объект недвижимости (предположительно, данные по США).\n",
        "\n",
        "`stories`: Количество этажей в здании.\n",
        "\n",
        "`mls-id` & `MlsId`: Идентификатор объекта в системе MLS (Multiple Listing Service). MLS — это база данных, используемая агентами по недвижимости. Так же, как и с бассейнами, скорее всего дублирующая колонка.\n",
        "\n",
        "`target`: Целевая переменная. Её значение зависит от задачи, для которой собран датасет. Если это предсказание цены, то `target` будет ценой. Если это классификация (например, продастся ли объект быстро), то `target` будет категориальной переменной.\n",
        "\n",
        "\n",
        "\n",
        "*   Для оценки качества модели будем использовать следующие метрики - RMSE, MAE, R-квадрат\n",
        "\n",
        "### 1.2. Тип задачи\n",
        "\n",
        "В данном случае предстоит решить задачу регрессии (предсказание цены).\n",
        "\n",
        "### 1.3. Определение целевой переменной\n",
        "\n",
        "Целевой переменной в нашем проекте будет являться признак `target`\n",
        "\n",
        "### 1.4. Определение baseline\n",
        "\n",
        "Baseline (базовая линия, базовый уровень) в машинном обучении — это простое решение задачи, которое служит отправной точкой для сравнения более сложных моделей. Цель baseline - показать, насколько полученные модели превосходят наивное решение. Baseline модель может быть очень простой, но должна быть адекватной для данной задачи.\n",
        "\n",
        "В нашем случае с датасетом о недвижимости, baseline будет:\n",
        "\n",
        "* Регрессия (предсказание цены): средняя цена всех объектов.\n",
        "\n",
        "### 1.5 Определение бизнес-цели и KPI, на которые повлияет внедрение модели\n",
        "\n",
        "* Бизнес-цель: Увеличить количество успешных сделок и/или повысить доход агентства.\n",
        "* KPI:\n",
        "    * Конверсия (отношение количества сделок к количеству показов/обращений)\n",
        "    * Средняя комиссия с сделки\n",
        "    * Скорость продажи объектов\n",
        "    * Удовлетворенность клиентов (опросы, отзывы)\n",
        "    * Точность оценки рыночной стоимости (снижение количества переоценок)\n",
        "\n",
        "\n",
        "\n"
      ]
    },
    {
      "cell_type": "markdown",
      "metadata": {
        "id": "qK8HjjP6Dzbe"
      },
      "source": [
        "## 2. Сбор и анализ данных\n",
        "\n",
        "### 2.1. Источник данных"
      ]
    },
    {
      "cell_type": "code",
      "execution_count": 102,
      "metadata": {
        "colab": {
          "base_uri": "https://localhost:8080/"
        },
        "id": "epSMbyNxnVZo",
        "outputId": "1119cb2e-4a87-4676-8dfa-1d1aa04e9ebd"
      },
      "outputs": [],
      "source": [
        "#from google.colab import drive\n",
        "#drive.mount('/content/drive')"
      ]
    },
    {
      "cell_type": "code",
      "execution_count": 1,
      "metadata": {
        "id": "lyVbReEyngIN"
      },
      "outputs": [],
      "source": [
        "import pandas as pd\n",
        "\n",
        "data = pd.read_csv('C:\\SF\\Block_9_Final_project_of_the_first_year_of_study\\data_final_project.csv')"
      ]
    },
    {
      "cell_type": "code",
      "execution_count": 2,
      "metadata": {
        "colab": {
          "base_uri": "https://localhost:8080/",
          "height": 553
        },
        "id": "oKSb8SFZoANU",
        "outputId": "76f5fb9f-c0ae-4a11-a712-f02c1840f92e"
      },
      "outputs": [
        {
          "data": {
            "text/html": [
              "<div>\n",
              "<style scoped>\n",
              "    .dataframe tbody tr th:only-of-type {\n",
              "        vertical-align: middle;\n",
              "    }\n",
              "\n",
              "    .dataframe tbody tr th {\n",
              "        vertical-align: top;\n",
              "    }\n",
              "\n",
              "    .dataframe thead th {\n",
              "        text-align: right;\n",
              "    }\n",
              "</style>\n",
              "<table border=\"1\" class=\"dataframe\">\n",
              "  <thead>\n",
              "    <tr style=\"text-align: right;\">\n",
              "      <th></th>\n",
              "      <th>status</th>\n",
              "      <th>private pool</th>\n",
              "      <th>propertyType</th>\n",
              "      <th>street</th>\n",
              "      <th>baths</th>\n",
              "      <th>homeFacts</th>\n",
              "      <th>fireplace</th>\n",
              "      <th>city</th>\n",
              "      <th>schools</th>\n",
              "      <th>sqft</th>\n",
              "      <th>zipcode</th>\n",
              "      <th>beds</th>\n",
              "      <th>state</th>\n",
              "      <th>stories</th>\n",
              "      <th>mls-id</th>\n",
              "      <th>PrivatePool</th>\n",
              "      <th>MlsId</th>\n",
              "      <th>target</th>\n",
              "    </tr>\n",
              "  </thead>\n",
              "  <tbody>\n",
              "    <tr>\n",
              "      <th>0</th>\n",
              "      <td>Active</td>\n",
              "      <td>NaN</td>\n",
              "      <td>Single Family Home</td>\n",
              "      <td>240 Heather Ln</td>\n",
              "      <td>3.5</td>\n",
              "      <td>{'atAGlanceFacts': [{'factValue': '2019', 'fac...</td>\n",
              "      <td>Gas Logs</td>\n",
              "      <td>Southern Pines</td>\n",
              "      <td>[{'rating': ['4', '4', '7', 'NR', '4', '7', 'N...</td>\n",
              "      <td>2900</td>\n",
              "      <td>28387</td>\n",
              "      <td>4</td>\n",
              "      <td>NC</td>\n",
              "      <td>NaN</td>\n",
              "      <td>NaN</td>\n",
              "      <td>NaN</td>\n",
              "      <td>611019</td>\n",
              "      <td>$418,000</td>\n",
              "    </tr>\n",
              "    <tr>\n",
              "      <th>1</th>\n",
              "      <td>for sale</td>\n",
              "      <td>NaN</td>\n",
              "      <td>single-family home</td>\n",
              "      <td>12911 E Heroy Ave</td>\n",
              "      <td>3 Baths</td>\n",
              "      <td>{'atAGlanceFacts': [{'factValue': '2019', 'fac...</td>\n",
              "      <td>NaN</td>\n",
              "      <td>Spokane Valley</td>\n",
              "      <td>[{'rating': ['4/10', 'None/10', '4/10'], 'data...</td>\n",
              "      <td>1,947 sqft</td>\n",
              "      <td>99216</td>\n",
              "      <td>3 Beds</td>\n",
              "      <td>WA</td>\n",
              "      <td>2.0</td>\n",
              "      <td>NaN</td>\n",
              "      <td>NaN</td>\n",
              "      <td>201916904</td>\n",
              "      <td>$310,000</td>\n",
              "    </tr>\n",
              "    <tr>\n",
              "      <th>2</th>\n",
              "      <td>for sale</td>\n",
              "      <td>NaN</td>\n",
              "      <td>single-family home</td>\n",
              "      <td>2005 Westridge Rd</td>\n",
              "      <td>2 Baths</td>\n",
              "      <td>{'atAGlanceFacts': [{'factValue': '1961', 'fac...</td>\n",
              "      <td>yes</td>\n",
              "      <td>Los Angeles</td>\n",
              "      <td>[{'rating': ['8/10', '4/10', '8/10'], 'data': ...</td>\n",
              "      <td>3,000 sqft</td>\n",
              "      <td>90049</td>\n",
              "      <td>3 Beds</td>\n",
              "      <td>CA</td>\n",
              "      <td>1.0</td>\n",
              "      <td>NaN</td>\n",
              "      <td>yes</td>\n",
              "      <td>FR19221027</td>\n",
              "      <td>$2,895,000</td>\n",
              "    </tr>\n",
              "    <tr>\n",
              "      <th>3</th>\n",
              "      <td>for sale</td>\n",
              "      <td>NaN</td>\n",
              "      <td>single-family home</td>\n",
              "      <td>4311 Livingston Ave</td>\n",
              "      <td>8 Baths</td>\n",
              "      <td>{'atAGlanceFacts': [{'factValue': '2006', 'fac...</td>\n",
              "      <td>yes</td>\n",
              "      <td>Dallas</td>\n",
              "      <td>[{'rating': ['9/10', '9/10', '10/10', '9/10'],...</td>\n",
              "      <td>6,457 sqft</td>\n",
              "      <td>75205</td>\n",
              "      <td>5 Beds</td>\n",
              "      <td>TX</td>\n",
              "      <td>3.0</td>\n",
              "      <td>NaN</td>\n",
              "      <td>NaN</td>\n",
              "      <td>14191809</td>\n",
              "      <td>$2,395,000</td>\n",
              "    </tr>\n",
              "    <tr>\n",
              "      <th>4</th>\n",
              "      <td>for sale</td>\n",
              "      <td>NaN</td>\n",
              "      <td>lot/land</td>\n",
              "      <td>1524 Kiscoe St</td>\n",
              "      <td>NaN</td>\n",
              "      <td>{'atAGlanceFacts': [{'factValue': '', 'factLab...</td>\n",
              "      <td>NaN</td>\n",
              "      <td>Palm Bay</td>\n",
              "      <td>[{'rating': ['4/10', '5/10', '5/10'], 'data': ...</td>\n",
              "      <td>NaN</td>\n",
              "      <td>32908</td>\n",
              "      <td>NaN</td>\n",
              "      <td>FL</td>\n",
              "      <td>NaN</td>\n",
              "      <td>NaN</td>\n",
              "      <td>NaN</td>\n",
              "      <td>861745</td>\n",
              "      <td>$5,000</td>\n",
              "    </tr>\n",
              "  </tbody>\n",
              "</table>\n",
              "</div>"
            ],
            "text/plain": [
              "     status private pool        propertyType               street    baths   \n",
              "0    Active          NaN  Single Family Home       240 Heather Ln      3.5  \\\n",
              "1  for sale          NaN  single-family home    12911 E Heroy Ave  3 Baths   \n",
              "2  for sale          NaN  single-family home    2005 Westridge Rd  2 Baths   \n",
              "3  for sale          NaN  single-family home  4311 Livingston Ave  8 Baths   \n",
              "4  for sale          NaN            lot/land       1524 Kiscoe St      NaN   \n",
              "\n",
              "                                           homeFacts fireplace   \n",
              "0  {'atAGlanceFacts': [{'factValue': '2019', 'fac...  Gas Logs  \\\n",
              "1  {'atAGlanceFacts': [{'factValue': '2019', 'fac...       NaN   \n",
              "2  {'atAGlanceFacts': [{'factValue': '1961', 'fac...       yes   \n",
              "3  {'atAGlanceFacts': [{'factValue': '2006', 'fac...       yes   \n",
              "4  {'atAGlanceFacts': [{'factValue': '', 'factLab...       NaN   \n",
              "\n",
              "             city                                            schools   \n",
              "0  Southern Pines  [{'rating': ['4', '4', '7', 'NR', '4', '7', 'N...  \\\n",
              "1  Spokane Valley  [{'rating': ['4/10', 'None/10', '4/10'], 'data...   \n",
              "2     Los Angeles  [{'rating': ['8/10', '4/10', '8/10'], 'data': ...   \n",
              "3          Dallas  [{'rating': ['9/10', '9/10', '10/10', '9/10'],...   \n",
              "4        Palm Bay  [{'rating': ['4/10', '5/10', '5/10'], 'data': ...   \n",
              "\n",
              "         sqft zipcode    beds state stories mls-id PrivatePool       MlsId   \n",
              "0        2900   28387       4    NC     NaN    NaN         NaN      611019  \\\n",
              "1  1,947 sqft   99216  3 Beds    WA     2.0    NaN         NaN   201916904   \n",
              "2  3,000 sqft   90049  3 Beds    CA     1.0    NaN         yes  FR19221027   \n",
              "3  6,457 sqft   75205  5 Beds    TX     3.0    NaN         NaN    14191809   \n",
              "4         NaN   32908     NaN    FL     NaN    NaN         NaN      861745   \n",
              "\n",
              "       target  \n",
              "0    $418,000  \n",
              "1    $310,000  \n",
              "2  $2,895,000  \n",
              "3  $2,395,000  \n",
              "4      $5,000  "
            ]
          },
          "execution_count": 2,
          "metadata": {},
          "output_type": "execute_result"
        }
      ],
      "source": [
        "data.head()"
      ]
    },
    {
      "cell_type": "code",
      "execution_count": 3,
      "metadata": {
        "colab": {
          "base_uri": "https://localhost:8080/"
        },
        "id": "jhHvinJ_oH2D",
        "outputId": "84813663-dad8-49ea-8cc9-986789a80e3c"
      },
      "outputs": [
        {
          "name": "stdout",
          "output_type": "stream",
          "text": [
            "<class 'pandas.core.frame.DataFrame'>\n",
            "RangeIndex: 377185 entries, 0 to 377184\n",
            "Data columns (total 18 columns):\n",
            " #   Column        Non-Null Count   Dtype \n",
            "---  ------        --------------   ----- \n",
            " 0   status        337267 non-null  object\n",
            " 1   private pool  4181 non-null    object\n",
            " 2   propertyType  342452 non-null  object\n",
            " 3   street        377183 non-null  object\n",
            " 4   baths         270847 non-null  object\n",
            " 5   homeFacts     377185 non-null  object\n",
            " 6   fireplace     103114 non-null  object\n",
            " 7   city          377151 non-null  object\n",
            " 8   schools       377185 non-null  object\n",
            " 9   sqft          336608 non-null  object\n",
            " 10  zipcode       377185 non-null  object\n",
            " 11  beds          285903 non-null  object\n",
            " 12  state         377185 non-null  object\n",
            " 13  stories       226469 non-null  object\n",
            " 14  mls-id        24942 non-null   object\n",
            " 15  PrivatePool   40311 non-null   object\n",
            " 16  MlsId         310305 non-null  object\n",
            " 17  target        374704 non-null  object\n",
            "dtypes: object(18)\n",
            "memory usage: 51.8+ MB\n"
          ]
        }
      ],
      "source": [
        "data.info()"
      ]
    },
    {
      "cell_type": "markdown",
      "metadata": {
        "id": "BmJmJMukFvlu"
      },
      "source": [
        "### 2.2. Анализ пропущенных значений"
      ]
    },
    {
      "cell_type": "code",
      "execution_count": 4,
      "metadata": {
        "colab": {
          "base_uri": "https://localhost:8080/",
          "height": 989
        },
        "id": "-tp5YW27Gzsd",
        "outputId": "0c694946-0c95-4c34-d24c-631e59756758"
      },
      "outputs": [
        {
          "name": "stdout",
          "output_type": "stream",
          "text": [
            "Пропущенные значения:\n",
            "                Total    Percent\n",
            "private pool  373004  98.891525\n",
            "mls-id        352243  93.387330\n",
            "PrivatePool   336874  89.312672\n",
            "fireplace     274071  72.662221\n",
            "stories       150716  39.958111\n",
            "baths         106338  28.192532\n",
            "beds           91282  24.200856\n",
            "MlsId          66880  17.731352\n",
            "sqft           40577  10.757851\n",
            "status         39918  10.583136\n",
            "propertyType   34733   9.208479\n",
            "target          2481   0.657767\n",
            "city              34   0.009014\n",
            "street             2   0.000530\n",
            "zipcode            0   0.000000\n",
            "schools            0   0.000000\n",
            "state              0   0.000000\n",
            "homeFacts          0   0.000000\n"
          ]
        },
        {
          "data": {
            "image/png": "[encoded data removed]",
            "text/plain": [
              "<Figure size 1200x600 with 1 Axes>"
            ]
          },
          "metadata": {},
          "output_type": "display_data"
        }
      ],
      "source": [
        "import pandas as pd\n",
        "import matplotlib.pyplot as plt\n",
        "import seaborn as sns\n",
        "\n",
        "# 1. Анализ пропущенных значений\n",
        "missing_values = data.isnull().sum().sort_values(ascending=False)\n",
        "percent_missing = (missing_values / len(data)) * 100\n",
        "\n",
        "missing_data = pd.concat([missing_values, percent_missing], axis=1, keys=['Total', 'Percent'])\n",
        "print(\"Пропущенные значения:\\n\", missing_data)\n",
        "\n",
        "plt.figure(figsize=(12, 6))\n",
        "sns.barplot(x=missing_data.index, y=missing_data['Percent'])\n",
        "plt.xticks(rotation=90)\n",
        "plt.title('Процент пропущенных значений по признакам')\n",
        "plt.show()\n"
      ]
    },
    {
      "cell_type": "markdown",
      "metadata": {
        "id": "1PRm57L3HZpS"
      },
      "source": [
        "Вывод: Такие признаки как private pool, mls-id, PrivatePool, fireplace, stories имеют более 30% пропусков, что делает данные признаки малоинформативными для анализа. Напишем функцию для удаления данных признаков."
      ]
    },
    {
      "cell_type": "code",
      "execution_count": 5,
      "metadata": {
        "colab": {
          "base_uri": "https://localhost:8080/"
        },
        "id": "giYKOnp1JcBq",
        "outputId": "6f15f53e-b342-49ae-fa15-cec30e21bf89"
      },
      "outputs": [
        {
          "name": "stdout",
          "output_type": "stream",
          "text": [
            "Процент пропущенных значений:\n",
            " status          10.583136\n",
            "private pool    98.891525\n",
            "propertyType     9.208479\n",
            "street           0.000530\n",
            "baths           28.192532\n",
            "homeFacts        0.000000\n",
            "fireplace       72.662221\n",
            "city             0.009014\n",
            "schools          0.000000\n",
            "sqft            10.757851\n",
            "zipcode          0.000000\n",
            "beds            24.200856\n",
            "state            0.000000\n",
            "stories         39.958111\n",
            "mls-id          93.387330\n",
            "PrivatePool     89.312672\n",
            "MlsId           17.731352\n",
            "target           0.657767\n",
            "dtype: float64\n",
            "\n",
            "Форма исходного DataFrame: (377185, 18)\n",
            "Форма DataFrame после удаления столбцов: (377185, 13)\n"
          ]
        }
      ],
      "source": [
        "def handle_missing_values(data, threshold=0.3):\n",
        "\n",
        "    # Вычисление процента пропущенных значений\n",
        "    missing_percentage = (data.isnull().sum() / len(data)) * 100\n",
        "\n",
        "    # Выбор столбцов для удаления\n",
        "    columns_to_drop = missing_percentage[missing_percentage > threshold * 100].index\n",
        "\n",
        "    # Удаление столбцов\n",
        "    data_1 = data.drop(columns=columns_to_drop)\n",
        "\n",
        "    return data_1, missing_percentage\n",
        "\n",
        "data_1, missing_percentage = handle_missing_values(data.copy()) # передаем копию, чтобы не менять исходный датафрейм\n",
        "\n",
        "print(\"Процент пропущенных значений:\\n\", missing_percentage)\n",
        "print(\"\\nФорма исходного DataFrame:\", data.shape)\n",
        "print(\"Форма DataFrame после удаления столбцов:\", data_1.shape)"
      ]
    },
    {
      "cell_type": "code",
      "execution_count": 6,
      "metadata": {
        "colab": {
          "base_uri": "https://localhost:8080/"
        },
        "id": "nBuKBmi9LLsC",
        "outputId": "09383910-ff09-4d12-b7a7-b889392257d6"
      },
      "outputs": [
        {
          "name": "stdout",
          "output_type": "stream",
          "text": [
            "<class 'pandas.core.frame.DataFrame'>\n",
            "RangeIndex: 377185 entries, 0 to 377184\n",
            "Data columns (total 13 columns):\n",
            " #   Column        Non-Null Count   Dtype \n",
            "---  ------        --------------   ----- \n",
            " 0   status        337267 non-null  object\n",
            " 1   propertyType  342452 non-null  object\n",
            " 2   street        377183 non-null  object\n",
            " 3   baths         270847 non-null  object\n",
            " 4   homeFacts     377185 non-null  object\n",
            " 5   city          377151 non-null  object\n",
            " 6   schools       377185 non-null  object\n",
            " 7   sqft          336608 non-null  object\n",
            " 8   zipcode       377185 non-null  object\n",
            " 9   beds          285903 non-null  object\n",
            " 10  state         377185 non-null  object\n",
            " 11  MlsId         310305 non-null  object\n",
            " 12  target        374704 non-null  object\n",
            "dtypes: object(13)\n",
            "memory usage: 37.4+ MB\n"
          ]
        }
      ],
      "source": [
        "data_1.info()"
      ]
    },
    {
      "cell_type": "markdown",
      "metadata": {
        "id": "agX7iW9VzG3y"
      },
      "source": [
        "# II. Подготовка данных"
      ]
    },
    {
      "cell_type": "markdown",
      "metadata": {
        "id": "pH6AGXCQzii1"
      },
      "source": [
        "## 1. Очистка данных"
      ]
    },
    {
      "cell_type": "markdown",
      "metadata": {
        "id": "8F0w1XjpLrhp"
      },
      "source": [
        "### 1.1. Определение категориальных и цифровых признаков"
      ]
    },
    {
      "cell_type": "markdown",
      "metadata": {
        "id": "Qq-Rh3gHy3Xi"
      },
      "source": []
    },
    {
      "cell_type": "code",
      "execution_count": 7,
      "metadata": {
        "colab": {
          "base_uri": "https://localhost:8080/",
          "height": 293
        },
        "id": "rHljL9NqMTac",
        "outputId": "a317e19a-a6b7-4657-8c29-e58f22605da7"
      },
      "outputs": [
        {
          "data": {
            "text/html": [
              "<div>\n",
              "<style scoped>\n",
              "    .dataframe tbody tr th:only-of-type {\n",
              "        vertical-align: middle;\n",
              "    }\n",
              "\n",
              "    .dataframe tbody tr th {\n",
              "        vertical-align: top;\n",
              "    }\n",
              "\n",
              "    .dataframe thead th {\n",
              "        text-align: right;\n",
              "    }\n",
              "</style>\n",
              "<table border=\"1\" class=\"dataframe\">\n",
              "  <thead>\n",
              "    <tr style=\"text-align: right;\">\n",
              "      <th></th>\n",
              "      <th>status</th>\n",
              "      <th>propertyType</th>\n",
              "      <th>street</th>\n",
              "      <th>baths</th>\n",
              "      <th>homeFacts</th>\n",
              "      <th>city</th>\n",
              "      <th>schools</th>\n",
              "      <th>sqft</th>\n",
              "      <th>zipcode</th>\n",
              "      <th>beds</th>\n",
              "      <th>state</th>\n",
              "      <th>MlsId</th>\n",
              "      <th>target</th>\n",
              "    </tr>\n",
              "  </thead>\n",
              "  <tbody>\n",
              "    <tr>\n",
              "      <th>0</th>\n",
              "      <td>Active</td>\n",
              "      <td>Single Family Home</td>\n",
              "      <td>240 Heather Ln</td>\n",
              "      <td>3.5</td>\n",
              "      <td>{'atAGlanceFacts': [{'factValue': '2019', 'fac...</td>\n",
              "      <td>Southern Pines</td>\n",
              "      <td>[{'rating': ['4', '4', '7', 'NR', '4', '7', 'N...</td>\n",
              "      <td>2900</td>\n",
              "      <td>28387</td>\n",
              "      <td>4</td>\n",
              "      <td>NC</td>\n",
              "      <td>611019</td>\n",
              "      <td>$418,000</td>\n",
              "    </tr>\n",
              "    <tr>\n",
              "      <th>1</th>\n",
              "      <td>for sale</td>\n",
              "      <td>single-family home</td>\n",
              "      <td>12911 E Heroy Ave</td>\n",
              "      <td>3 Baths</td>\n",
              "      <td>{'atAGlanceFacts': [{'factValue': '2019', 'fac...</td>\n",
              "      <td>Spokane Valley</td>\n",
              "      <td>[{'rating': ['4/10', 'None/10', '4/10'], 'data...</td>\n",
              "      <td>1,947 sqft</td>\n",
              "      <td>99216</td>\n",
              "      <td>3 Beds</td>\n",
              "      <td>WA</td>\n",
              "      <td>201916904</td>\n",
              "      <td>$310,000</td>\n",
              "    </tr>\n",
              "    <tr>\n",
              "      <th>2</th>\n",
              "      <td>for sale</td>\n",
              "      <td>single-family home</td>\n",
              "      <td>2005 Westridge Rd</td>\n",
              "      <td>2 Baths</td>\n",
              "      <td>{'atAGlanceFacts': [{'factValue': '1961', 'fac...</td>\n",
              "      <td>Los Angeles</td>\n",
              "      <td>[{'rating': ['8/10', '4/10', '8/10'], 'data': ...</td>\n",
              "      <td>3,000 sqft</td>\n",
              "      <td>90049</td>\n",
              "      <td>3 Beds</td>\n",
              "      <td>CA</td>\n",
              "      <td>FR19221027</td>\n",
              "      <td>$2,895,000</td>\n",
              "    </tr>\n",
              "    <tr>\n",
              "      <th>3</th>\n",
              "      <td>for sale</td>\n",
              "      <td>single-family home</td>\n",
              "      <td>4311 Livingston Ave</td>\n",
              "      <td>8 Baths</td>\n",
              "      <td>{'atAGlanceFacts': [{'factValue': '2006', 'fac...</td>\n",
              "      <td>Dallas</td>\n",
              "      <td>[{'rating': ['9/10', '9/10', '10/10', '9/10'],...</td>\n",
              "      <td>6,457 sqft</td>\n",
              "      <td>75205</td>\n",
              "      <td>5 Beds</td>\n",
              "      <td>TX</td>\n",
              "      <td>14191809</td>\n",
              "      <td>$2,395,000</td>\n",
              "    </tr>\n",
              "    <tr>\n",
              "      <th>4</th>\n",
              "      <td>for sale</td>\n",
              "      <td>lot/land</td>\n",
              "      <td>1524 Kiscoe St</td>\n",
              "      <td>NaN</td>\n",
              "      <td>{'atAGlanceFacts': [{'factValue': '', 'factLab...</td>\n",
              "      <td>Palm Bay</td>\n",
              "      <td>[{'rating': ['4/10', '5/10', '5/10'], 'data': ...</td>\n",
              "      <td>NaN</td>\n",
              "      <td>32908</td>\n",
              "      <td>NaN</td>\n",
              "      <td>FL</td>\n",
              "      <td>861745</td>\n",
              "      <td>$5,000</td>\n",
              "    </tr>\n",
              "  </tbody>\n",
              "</table>\n",
              "</div>"
            ],
            "text/plain": [
              "     status        propertyType               street    baths   \n",
              "0    Active  Single Family Home       240 Heather Ln      3.5  \\\n",
              "1  for sale  single-family home    12911 E Heroy Ave  3 Baths   \n",
              "2  for sale  single-family home    2005 Westridge Rd  2 Baths   \n",
              "3  for sale  single-family home  4311 Livingston Ave  8 Baths   \n",
              "4  for sale            lot/land       1524 Kiscoe St      NaN   \n",
              "\n",
              "                                           homeFacts            city   \n",
              "0  {'atAGlanceFacts': [{'factValue': '2019', 'fac...  Southern Pines  \\\n",
              "1  {'atAGlanceFacts': [{'factValue': '2019', 'fac...  Spokane Valley   \n",
              "2  {'atAGlanceFacts': [{'factValue': '1961', 'fac...     Los Angeles   \n",
              "3  {'atAGlanceFacts': [{'factValue': '2006', 'fac...          Dallas   \n",
              "4  {'atAGlanceFacts': [{'factValue': '', 'factLab...        Palm Bay   \n",
              "\n",
              "                                             schools        sqft zipcode   \n",
              "0  [{'rating': ['4', '4', '7', 'NR', '4', '7', 'N...        2900   28387  \\\n",
              "1  [{'rating': ['4/10', 'None/10', '4/10'], 'data...  1,947 sqft   99216   \n",
              "2  [{'rating': ['8/10', '4/10', '8/10'], 'data': ...  3,000 sqft   90049   \n",
              "3  [{'rating': ['9/10', '9/10', '10/10', '9/10'],...  6,457 sqft   75205   \n",
              "4  [{'rating': ['4/10', '5/10', '5/10'], 'data': ...         NaN   32908   \n",
              "\n",
              "     beds state       MlsId      target  \n",
              "0       4    NC      611019    $418,000  \n",
              "1  3 Beds    WA   201916904    $310,000  \n",
              "2  3 Beds    CA  FR19221027  $2,895,000  \n",
              "3  5 Beds    TX    14191809  $2,395,000  \n",
              "4     NaN    FL      861745      $5,000  "
            ]
          },
          "execution_count": 7,
          "metadata": {},
          "output_type": "execute_result"
        }
      ],
      "source": [
        "data_1.head()"
      ]
    },
    {
      "cell_type": "code",
      "execution_count": 8,
      "metadata": {
        "id": "wI82XKHWMaWR"
      },
      "outputs": [],
      "source": [
        "categorical_features = ['status', 'propertyType', 'street', 'homeFacts', 'city', 'schools', 'state' ]\n",
        "numerical_features = ['baths', 'sqft', 'zipcode', 'beds', 'MlsId' ]\n",
        "target = 'target'"
      ]
    },
    {
      "cell_type": "markdown",
      "metadata": {
        "id": "SYZYhAXcP9Gq"
      },
      "source": [
        "### 1.2. Приведение цифровых признаков к цифровому виду"
      ]
    },
    {
      "cell_type": "code",
      "execution_count": 9,
      "metadata": {
        "id": "FFwyNBLTQJRH"
      },
      "outputs": [],
      "source": [
        "def convert_to_numeric(data_1, numerical_features):\n",
        "\n",
        "    df_converted = data_1.copy()\n",
        "\n",
        "    for feature in numerical_features:\n",
        "        if df_converted[feature].dtype == object: # Проверяем тип данных, если object - обрабатываем\n",
        "            df_converted[feature] = df_converted[feature].astype(str).str.replace(r'[^\\d.]', '', regex=True)\n",
        "            df_converted[feature] = pd.to_numeric(df_converted[feature], errors='coerce')\n",
        "\n",
        "    return df_converted\n",
        "\n",
        "\n",
        "numerical_features_1 = ['baths', 'sqft', 'zipcode', 'beds', 'MlsId', 'target' ]\n",
        "\n",
        "data_2 = convert_to_numeric(data_1, numerical_features_1)"
      ]
    },
    {
      "cell_type": "code",
      "execution_count": 10,
      "metadata": {
        "colab": {
          "base_uri": "https://localhost:8080/",
          "height": 293
        },
        "id": "CdPDYJ90R5DY",
        "outputId": "418cc427-65c4-474d-e51c-ae752fea87ef"
      },
      "outputs": [
        {
          "data": {
            "text/html": [
              "<div>\n",
              "<style scoped>\n",
              "    .dataframe tbody tr th:only-of-type {\n",
              "        vertical-align: middle;\n",
              "    }\n",
              "\n",
              "    .dataframe tbody tr th {\n",
              "        vertical-align: top;\n",
              "    }\n",
              "\n",
              "    .dataframe thead th {\n",
              "        text-align: right;\n",
              "    }\n",
              "</style>\n",
              "<table border=\"1\" class=\"dataframe\">\n",
              "  <thead>\n",
              "    <tr style=\"text-align: right;\">\n",
              "      <th></th>\n",
              "      <th>status</th>\n",
              "      <th>propertyType</th>\n",
              "      <th>street</th>\n",
              "      <th>baths</th>\n",
              "      <th>homeFacts</th>\n",
              "      <th>city</th>\n",
              "      <th>schools</th>\n",
              "      <th>sqft</th>\n",
              "      <th>zipcode</th>\n",
              "      <th>beds</th>\n",
              "      <th>state</th>\n",
              "      <th>MlsId</th>\n",
              "      <th>target</th>\n",
              "    </tr>\n",
              "  </thead>\n",
              "  <tbody>\n",
              "    <tr>\n",
              "      <th>0</th>\n",
              "      <td>Active</td>\n",
              "      <td>Single Family Home</td>\n",
              "      <td>240 Heather Ln</td>\n",
              "      <td>3.5</td>\n",
              "      <td>{'atAGlanceFacts': [{'factValue': '2019', 'fac...</td>\n",
              "      <td>Southern Pines</td>\n",
              "      <td>[{'rating': ['4', '4', '7', 'NR', '4', '7', 'N...</td>\n",
              "      <td>2900.0</td>\n",
              "      <td>28387.0</td>\n",
              "      <td>4.0</td>\n",
              "      <td>NC</td>\n",
              "      <td>611019.0</td>\n",
              "      <td>418000.0</td>\n",
              "    </tr>\n",
              "    <tr>\n",
              "      <th>1</th>\n",
              "      <td>for sale</td>\n",
              "      <td>single-family home</td>\n",
              "      <td>12911 E Heroy Ave</td>\n",
              "      <td>3.0</td>\n",
              "      <td>{'atAGlanceFacts': [{'factValue': '2019', 'fac...</td>\n",
              "      <td>Spokane Valley</td>\n",
              "      <td>[{'rating': ['4/10', 'None/10', '4/10'], 'data...</td>\n",
              "      <td>1947.0</td>\n",
              "      <td>99216.0</td>\n",
              "      <td>3.0</td>\n",
              "      <td>WA</td>\n",
              "      <td>201916904.0</td>\n",
              "      <td>310000.0</td>\n",
              "    </tr>\n",
              "    <tr>\n",
              "      <th>2</th>\n",
              "      <td>for sale</td>\n",
              "      <td>single-family home</td>\n",
              "      <td>2005 Westridge Rd</td>\n",
              "      <td>2.0</td>\n",
              "      <td>{'atAGlanceFacts': [{'factValue': '1961', 'fac...</td>\n",
              "      <td>Los Angeles</td>\n",
              "      <td>[{'rating': ['8/10', '4/10', '8/10'], 'data': ...</td>\n",
              "      <td>3000.0</td>\n",
              "      <td>90049.0</td>\n",
              "      <td>3.0</td>\n",
              "      <td>CA</td>\n",
              "      <td>19221027.0</td>\n",
              "      <td>2895000.0</td>\n",
              "    </tr>\n",
              "    <tr>\n",
              "      <th>3</th>\n",
              "      <td>for sale</td>\n",
              "      <td>single-family home</td>\n",
              "      <td>4311 Livingston Ave</td>\n",
              "      <td>8.0</td>\n",
              "      <td>{'atAGlanceFacts': [{'factValue': '2006', 'fac...</td>\n",
              "      <td>Dallas</td>\n",
              "      <td>[{'rating': ['9/10', '9/10', '10/10', '9/10'],...</td>\n",
              "      <td>6457.0</td>\n",
              "      <td>75205.0</td>\n",
              "      <td>5.0</td>\n",
              "      <td>TX</td>\n",
              "      <td>14191809.0</td>\n",
              "      <td>2395000.0</td>\n",
              "    </tr>\n",
              "    <tr>\n",
              "      <th>4</th>\n",
              "      <td>for sale</td>\n",
              "      <td>lot/land</td>\n",
              "      <td>1524 Kiscoe St</td>\n",
              "      <td>NaN</td>\n",
              "      <td>{'atAGlanceFacts': [{'factValue': '', 'factLab...</td>\n",
              "      <td>Palm Bay</td>\n",
              "      <td>[{'rating': ['4/10', '5/10', '5/10'], 'data': ...</td>\n",
              "      <td>NaN</td>\n",
              "      <td>32908.0</td>\n",
              "      <td>NaN</td>\n",
              "      <td>FL</td>\n",
              "      <td>861745.0</td>\n",
              "      <td>5000.0</td>\n",
              "    </tr>\n",
              "  </tbody>\n",
              "</table>\n",
              "</div>"
            ],
            "text/plain": [
              "     status        propertyType               street  baths   \n",
              "0    Active  Single Family Home       240 Heather Ln    3.5  \\\n",
              "1  for sale  single-family home    12911 E Heroy Ave    3.0   \n",
              "2  for sale  single-family home    2005 Westridge Rd    2.0   \n",
              "3  for sale  single-family home  4311 Livingston Ave    8.0   \n",
              "4  for sale            lot/land       1524 Kiscoe St    NaN   \n",
              "\n",
              "                                           homeFacts            city   \n",
              "0  {'atAGlanceFacts': [{'factValue': '2019', 'fac...  Southern Pines  \\\n",
              "1  {'atAGlanceFacts': [{'factValue': '2019', 'fac...  Spokane Valley   \n",
              "2  {'atAGlanceFacts': [{'factValue': '1961', 'fac...     Los Angeles   \n",
              "3  {'atAGlanceFacts': [{'factValue': '2006', 'fac...          Dallas   \n",
              "4  {'atAGlanceFacts': [{'factValue': '', 'factLab...        Palm Bay   \n",
              "\n",
              "                                             schools    sqft  zipcode  beds   \n",
              "0  [{'rating': ['4', '4', '7', 'NR', '4', '7', 'N...  2900.0  28387.0   4.0  \\\n",
              "1  [{'rating': ['4/10', 'None/10', '4/10'], 'data...  1947.0  99216.0   3.0   \n",
              "2  [{'rating': ['8/10', '4/10', '8/10'], 'data': ...  3000.0  90049.0   3.0   \n",
              "3  [{'rating': ['9/10', '9/10', '10/10', '9/10'],...  6457.0  75205.0   5.0   \n",
              "4  [{'rating': ['4/10', '5/10', '5/10'], 'data': ...     NaN  32908.0   NaN   \n",
              "\n",
              "  state        MlsId     target  \n",
              "0    NC     611019.0   418000.0  \n",
              "1    WA  201916904.0   310000.0  \n",
              "2    CA   19221027.0  2895000.0  \n",
              "3    TX   14191809.0  2395000.0  \n",
              "4    FL     861745.0     5000.0  "
            ]
          },
          "execution_count": 10,
          "metadata": {},
          "output_type": "execute_result"
        }
      ],
      "source": [
        "data_2.head()"
      ]
    },
    {
      "cell_type": "code",
      "execution_count": 11,
      "metadata": {
        "colab": {
          "base_uri": "https://localhost:8080/"
        },
        "id": "mVzGHcaqTX0l",
        "outputId": "0d101bd5-d8de-4736-a622-6206fed52777"
      },
      "outputs": [
        {
          "name": "stdout",
          "output_type": "stream",
          "text": [
            "<class 'pandas.core.frame.DataFrame'>\n",
            "RangeIndex: 377185 entries, 0 to 377184\n",
            "Data columns (total 13 columns):\n",
            " #   Column        Non-Null Count   Dtype  \n",
            "---  ------        --------------   -----  \n",
            " 0   status        337267 non-null  object \n",
            " 1   propertyType  342452 non-null  object \n",
            " 2   street        377183 non-null  object \n",
            " 3   baths         269347 non-null  float64\n",
            " 4   homeFacts     377185 non-null  object \n",
            " 5   city          377151 non-null  object \n",
            " 6   schools       377185 non-null  object \n",
            " 7   sqft          335788 non-null  float64\n",
            " 8   zipcode       377183 non-null  float64\n",
            " 9   beds          268320 non-null  float64\n",
            " 10  state         377185 non-null  object \n",
            " 11  MlsId         310199 non-null  float64\n",
            " 12  target        374704 non-null  float64\n",
            "dtypes: float64(6), object(7)\n",
            "memory usage: 37.4+ MB\n"
          ]
        }
      ],
      "source": [
        "data_2.info()"
      ]
    },
    {
      "cell_type": "markdown",
      "metadata": {
        "id": "pk0GYqbmV9Pc"
      },
      "source": [
        "### 1.3. Удаление мало информативного признака MlsId\n",
        "\n",
        "Основываясь на интуитивном подходе улаляем признак MlsId"
      ]
    },
    {
      "cell_type": "code",
      "execution_count": 12,
      "metadata": {
        "id": "GEo5riQMU_nV"
      },
      "outputs": [],
      "source": [
        "def preprocess_data(data_2):\n",
        "\n",
        "    df_processed = data_2.copy()\n",
        "\n",
        "    # Приведение названий столбцов к нижнему регистру\n",
        "    df_processed.columns = df_processed.columns.str.lower()\n",
        "\n",
        "    # Удаление столбца 'mlsid' (если он существует после переименования)\n",
        "    if 'mlsid' in df_processed.columns:\n",
        "        df_processed.drop(columns=['mlsid'], inplace=True)\n",
        "    elif 'mls-id' in df_processed.columns:\n",
        "        df_processed.drop(columns=['mls-id'], inplace=True) # Or mls-id if it wasn't renamed yet\n",
        "    elif 'MlsId' in df_processed.columns:\n",
        "        df_processed.drop(columns=['MlsId'], inplace=True)\n",
        "\n",
        "    return df_processed\n",
        "\n",
        "\n",
        "data_3 = preprocess_data(data_2)\n"
      ]
    },
    {
      "cell_type": "code",
      "execution_count": 13,
      "metadata": {
        "colab": {
          "base_uri": "https://localhost:8080/",
          "height": 275
        },
        "id": "J0iva_KgVxKS",
        "outputId": "6abd7946-6e6a-4162-f371-4fc2d1a89fa3"
      },
      "outputs": [
        {
          "data": {
            "text/html": [
              "<div>\n",
              "<style scoped>\n",
              "    .dataframe tbody tr th:only-of-type {\n",
              "        vertical-align: middle;\n",
              "    }\n",
              "\n",
              "    .dataframe tbody tr th {\n",
              "        vertical-align: top;\n",
              "    }\n",
              "\n",
              "    .dataframe thead th {\n",
              "        text-align: right;\n",
              "    }\n",
              "</style>\n",
              "<table border=\"1\" class=\"dataframe\">\n",
              "  <thead>\n",
              "    <tr style=\"text-align: right;\">\n",
              "      <th></th>\n",
              "      <th>status</th>\n",
              "      <th>propertytype</th>\n",
              "      <th>street</th>\n",
              "      <th>baths</th>\n",
              "      <th>homefacts</th>\n",
              "      <th>city</th>\n",
              "      <th>schools</th>\n",
              "      <th>sqft</th>\n",
              "      <th>zipcode</th>\n",
              "      <th>beds</th>\n",
              "      <th>state</th>\n",
              "      <th>target</th>\n",
              "    </tr>\n",
              "  </thead>\n",
              "  <tbody>\n",
              "    <tr>\n",
              "      <th>0</th>\n",
              "      <td>Active</td>\n",
              "      <td>Single Family Home</td>\n",
              "      <td>240 Heather Ln</td>\n",
              "      <td>3.5</td>\n",
              "      <td>{'atAGlanceFacts': [{'factValue': '2019', 'fac...</td>\n",
              "      <td>Southern Pines</td>\n",
              "      <td>[{'rating': ['4', '4', '7', 'NR', '4', '7', 'N...</td>\n",
              "      <td>2900.0</td>\n",
              "      <td>28387.0</td>\n",
              "      <td>4.0</td>\n",
              "      <td>NC</td>\n",
              "      <td>418000.0</td>\n",
              "    </tr>\n",
              "    <tr>\n",
              "      <th>1</th>\n",
              "      <td>for sale</td>\n",
              "      <td>single-family home</td>\n",
              "      <td>12911 E Heroy Ave</td>\n",
              "      <td>3.0</td>\n",
              "      <td>{'atAGlanceFacts': [{'factValue': '2019', 'fac...</td>\n",
              "      <td>Spokane Valley</td>\n",
              "      <td>[{'rating': ['4/10', 'None/10', '4/10'], 'data...</td>\n",
              "      <td>1947.0</td>\n",
              "      <td>99216.0</td>\n",
              "      <td>3.0</td>\n",
              "      <td>WA</td>\n",
              "      <td>310000.0</td>\n",
              "    </tr>\n",
              "    <tr>\n",
              "      <th>2</th>\n",
              "      <td>for sale</td>\n",
              "      <td>single-family home</td>\n",
              "      <td>2005 Westridge Rd</td>\n",
              "      <td>2.0</td>\n",
              "      <td>{'atAGlanceFacts': [{'factValue': '1961', 'fac...</td>\n",
              "      <td>Los Angeles</td>\n",
              "      <td>[{'rating': ['8/10', '4/10', '8/10'], 'data': ...</td>\n",
              "      <td>3000.0</td>\n",
              "      <td>90049.0</td>\n",
              "      <td>3.0</td>\n",
              "      <td>CA</td>\n",
              "      <td>2895000.0</td>\n",
              "    </tr>\n",
              "    <tr>\n",
              "      <th>3</th>\n",
              "      <td>for sale</td>\n",
              "      <td>single-family home</td>\n",
              "      <td>4311 Livingston Ave</td>\n",
              "      <td>8.0</td>\n",
              "      <td>{'atAGlanceFacts': [{'factValue': '2006', 'fac...</td>\n",
              "      <td>Dallas</td>\n",
              "      <td>[{'rating': ['9/10', '9/10', '10/10', '9/10'],...</td>\n",
              "      <td>6457.0</td>\n",
              "      <td>75205.0</td>\n",
              "      <td>5.0</td>\n",
              "      <td>TX</td>\n",
              "      <td>2395000.0</td>\n",
              "    </tr>\n",
              "    <tr>\n",
              "      <th>4</th>\n",
              "      <td>for sale</td>\n",
              "      <td>lot/land</td>\n",
              "      <td>1524 Kiscoe St</td>\n",
              "      <td>NaN</td>\n",
              "      <td>{'atAGlanceFacts': [{'factValue': '', 'factLab...</td>\n",
              "      <td>Palm Bay</td>\n",
              "      <td>[{'rating': ['4/10', '5/10', '5/10'], 'data': ...</td>\n",
              "      <td>NaN</td>\n",
              "      <td>32908.0</td>\n",
              "      <td>NaN</td>\n",
              "      <td>FL</td>\n",
              "      <td>5000.0</td>\n",
              "    </tr>\n",
              "  </tbody>\n",
              "</table>\n",
              "</div>"
            ],
            "text/plain": [
              "     status        propertytype               street  baths   \n",
              "0    Active  Single Family Home       240 Heather Ln    3.5  \\\n",
              "1  for sale  single-family home    12911 E Heroy Ave    3.0   \n",
              "2  for sale  single-family home    2005 Westridge Rd    2.0   \n",
              "3  for sale  single-family home  4311 Livingston Ave    8.0   \n",
              "4  for sale            lot/land       1524 Kiscoe St    NaN   \n",
              "\n",
              "                                           homefacts            city   \n",
              "0  {'atAGlanceFacts': [{'factValue': '2019', 'fac...  Southern Pines  \\\n",
              "1  {'atAGlanceFacts': [{'factValue': '2019', 'fac...  Spokane Valley   \n",
              "2  {'atAGlanceFacts': [{'factValue': '1961', 'fac...     Los Angeles   \n",
              "3  {'atAGlanceFacts': [{'factValue': '2006', 'fac...          Dallas   \n",
              "4  {'atAGlanceFacts': [{'factValue': '', 'factLab...        Palm Bay   \n",
              "\n",
              "                                             schools    sqft  zipcode  beds   \n",
              "0  [{'rating': ['4', '4', '7', 'NR', '4', '7', 'N...  2900.0  28387.0   4.0  \\\n",
              "1  [{'rating': ['4/10', 'None/10', '4/10'], 'data...  1947.0  99216.0   3.0   \n",
              "2  [{'rating': ['8/10', '4/10', '8/10'], 'data': ...  3000.0  90049.0   3.0   \n",
              "3  [{'rating': ['9/10', '9/10', '10/10', '9/10'],...  6457.0  75205.0   5.0   \n",
              "4  [{'rating': ['4/10', '5/10', '5/10'], 'data': ...     NaN  32908.0   NaN   \n",
              "\n",
              "  state     target  \n",
              "0    NC   418000.0  \n",
              "1    WA   310000.0  \n",
              "2    CA  2895000.0  \n",
              "3    TX  2395000.0  \n",
              "4    FL     5000.0  "
            ]
          },
          "execution_count": 13,
          "metadata": {},
          "output_type": "execute_result"
        }
      ],
      "source": [
        "data_3.head()"
      ]
    },
    {
      "cell_type": "markdown",
      "metadata": {
        "id": "ahGITJlm-Bd2"
      },
      "source": [
        "### 1.4. Удаление признака \"schools\"\n",
        "\n",
        "Основываясь на интуитивном подходе удаляем признак \"schools\""
      ]
    },
    {
      "cell_type": "code",
      "execution_count": 14,
      "metadata": {
        "id": "AOFnL1qK_DmI"
      },
      "outputs": [],
      "source": [
        "data_3 = data_3.drop('schools', axis=1)\n"
      ]
    },
    {
      "cell_type": "code",
      "execution_count": 15,
      "metadata": {
        "colab": {
          "base_uri": "https://localhost:8080/"
        },
        "id": "_fjNTuF4XIym",
        "outputId": "300765bc-7bfc-4afd-9700-71f70eececc6"
      },
      "outputs": [
        {
          "name": "stdout",
          "output_type": "stream",
          "text": [
            "<class 'pandas.core.frame.DataFrame'>\n",
            "RangeIndex: 377185 entries, 0 to 377184\n",
            "Data columns (total 11 columns):\n",
            " #   Column        Non-Null Count   Dtype  \n",
            "---  ------        --------------   -----  \n",
            " 0   status        337267 non-null  object \n",
            " 1   propertytype  342452 non-null  object \n",
            " 2   street        377183 non-null  object \n",
            " 3   baths         269347 non-null  float64\n",
            " 4   homefacts     377185 non-null  object \n",
            " 5   city          377151 non-null  object \n",
            " 6   sqft          335788 non-null  float64\n",
            " 7   zipcode       377183 non-null  float64\n",
            " 8   beds          268320 non-null  float64\n",
            " 9   state         377185 non-null  object \n",
            " 10  target        374704 non-null  float64\n",
            "dtypes: float64(5), object(6)\n",
            "memory usage: 31.7+ MB\n"
          ]
        }
      ],
      "source": [
        "data_3.info()"
      ]
    },
    {
      "cell_type": "markdown",
      "metadata": {
        "id": "Wjras6Zt0BZh"
      },
      "source": [
        "## 2. Преобразование признаков"
      ]
    },
    {
      "cell_type": "markdown",
      "metadata": {
        "id": "sawwPW6BCwkc"
      },
      "source": [
        "### 2.1. Проектирование новых признаков\n",
        "\n",
        "Признак 'homefacts' представлен в виде словаря. Извлекаем информацию из словаря с созданием новых признаков."
      ]
    },
    {
      "cell_type": "code",
      "execution_count": 16,
      "metadata": {
        "colab": {
          "base_uri": "https://localhost:8080/",
          "height": 397
        },
        "id": "2kw8jCouZ597",
        "outputId": "1f3eef9f-ebb2-4b5b-ea4d-a6b156b20511"
      },
      "outputs": [
        {
          "data": {
            "text/html": [
              "<div>\n",
              "<style scoped>\n",
              "    .dataframe tbody tr th:only-of-type {\n",
              "        vertical-align: middle;\n",
              "    }\n",
              "\n",
              "    .dataframe tbody tr th {\n",
              "        vertical-align: top;\n",
              "    }\n",
              "\n",
              "    .dataframe thead th {\n",
              "        text-align: right;\n",
              "    }\n",
              "</style>\n",
              "<table border=\"1\" class=\"dataframe\">\n",
              "  <thead>\n",
              "    <tr style=\"text-align: right;\">\n",
              "      <th></th>\n",
              "      <th>status</th>\n",
              "      <th>propertytype</th>\n",
              "      <th>street</th>\n",
              "      <th>baths</th>\n",
              "      <th>homefacts</th>\n",
              "      <th>city</th>\n",
              "      <th>sqft</th>\n",
              "      <th>zipcode</th>\n",
              "      <th>beds</th>\n",
              "      <th>state</th>\n",
              "      <th>target</th>\n",
              "      <th>Year built</th>\n",
              "      <th>Remodeled year</th>\n",
              "      <th>Heating</th>\n",
              "      <th>Cooling</th>\n",
              "      <th>Parking</th>\n",
              "      <th>lotsize</th>\n",
              "      <th>Price/sqft</th>\n",
              "    </tr>\n",
              "  </thead>\n",
              "  <tbody>\n",
              "    <tr>\n",
              "      <th>0</th>\n",
              "      <td>Active</td>\n",
              "      <td>Single Family Home</td>\n",
              "      <td>240 Heather Ln</td>\n",
              "      <td>3.5</td>\n",
              "      <td>{'atAGlanceFacts': [{'factValue': '2019', 'fac...</td>\n",
              "      <td>Southern Pines</td>\n",
              "      <td>2900.0</td>\n",
              "      <td>28387.0</td>\n",
              "      <td>4.0</td>\n",
              "      <td>NC</td>\n",
              "      <td>418000.0</td>\n",
              "      <td>2019</td>\n",
              "      <td></td>\n",
              "      <td>Central A/C, Heat Pump</td>\n",
              "      <td></td>\n",
              "      <td></td>\n",
              "      <td>None</td>\n",
              "      <td>$144</td>\n",
              "    </tr>\n",
              "    <tr>\n",
              "      <th>1</th>\n",
              "      <td>for sale</td>\n",
              "      <td>single-family home</td>\n",
              "      <td>12911 E Heroy Ave</td>\n",
              "      <td>3.0</td>\n",
              "      <td>{'atAGlanceFacts': [{'factValue': '2019', 'fac...</td>\n",
              "      <td>Spokane Valley</td>\n",
              "      <td>1947.0</td>\n",
              "      <td>99216.0</td>\n",
              "      <td>3.0</td>\n",
              "      <td>WA</td>\n",
              "      <td>310000.0</td>\n",
              "      <td>2019</td>\n",
              "      <td></td>\n",
              "      <td></td>\n",
              "      <td></td>\n",
              "      <td></td>\n",
              "      <td>5828 sqft</td>\n",
              "      <td>$159/sqft</td>\n",
              "    </tr>\n",
              "    <tr>\n",
              "      <th>2</th>\n",
              "      <td>for sale</td>\n",
              "      <td>single-family home</td>\n",
              "      <td>2005 Westridge Rd</td>\n",
              "      <td>2.0</td>\n",
              "      <td>{'atAGlanceFacts': [{'factValue': '1961', 'fac...</td>\n",
              "      <td>Los Angeles</td>\n",
              "      <td>3000.0</td>\n",
              "      <td>90049.0</td>\n",
              "      <td>3.0</td>\n",
              "      <td>CA</td>\n",
              "      <td>2895000.0</td>\n",
              "      <td>1961</td>\n",
              "      <td>1967</td>\n",
              "      <td>Forced Air</td>\n",
              "      <td>Central</td>\n",
              "      <td>Attached Garage</td>\n",
              "      <td>8,626 sqft</td>\n",
              "      <td>$965/sqft</td>\n",
              "    </tr>\n",
              "    <tr>\n",
              "      <th>3</th>\n",
              "      <td>for sale</td>\n",
              "      <td>single-family home</td>\n",
              "      <td>4311 Livingston Ave</td>\n",
              "      <td>8.0</td>\n",
              "      <td>{'atAGlanceFacts': [{'factValue': '2006', 'fac...</td>\n",
              "      <td>Dallas</td>\n",
              "      <td>6457.0</td>\n",
              "      <td>75205.0</td>\n",
              "      <td>5.0</td>\n",
              "      <td>TX</td>\n",
              "      <td>2395000.0</td>\n",
              "      <td>2006</td>\n",
              "      <td>2006</td>\n",
              "      <td>Forced Air</td>\n",
              "      <td>Central</td>\n",
              "      <td>Detached Garage</td>\n",
              "      <td>8,220 sqft</td>\n",
              "      <td>$371/sqft</td>\n",
              "    </tr>\n",
              "    <tr>\n",
              "      <th>4</th>\n",
              "      <td>for sale</td>\n",
              "      <td>lot/land</td>\n",
              "      <td>1524 Kiscoe St</td>\n",
              "      <td>NaN</td>\n",
              "      <td>{'atAGlanceFacts': [{'factValue': '', 'factLab...</td>\n",
              "      <td>Palm Bay</td>\n",
              "      <td>NaN</td>\n",
              "      <td>32908.0</td>\n",
              "      <td>NaN</td>\n",
              "      <td>FL</td>\n",
              "      <td>5000.0</td>\n",
              "      <td></td>\n",
              "      <td></td>\n",
              "      <td></td>\n",
              "      <td></td>\n",
              "      <td></td>\n",
              "      <td>10,019 sqft</td>\n",
              "      <td>None</td>\n",
              "    </tr>\n",
              "  </tbody>\n",
              "</table>\n",
              "</div>"
            ],
            "text/plain": [
              "     status        propertytype               street  baths   \n",
              "0    Active  Single Family Home       240 Heather Ln    3.5  \\\n",
              "1  for sale  single-family home    12911 E Heroy Ave    3.0   \n",
              "2  for sale  single-family home    2005 Westridge Rd    2.0   \n",
              "3  for sale  single-family home  4311 Livingston Ave    8.0   \n",
              "4  for sale            lot/land       1524 Kiscoe St    NaN   \n",
              "\n",
              "                                           homefacts            city    sqft   \n",
              "0  {'atAGlanceFacts': [{'factValue': '2019', 'fac...  Southern Pines  2900.0  \\\n",
              "1  {'atAGlanceFacts': [{'factValue': '2019', 'fac...  Spokane Valley  1947.0   \n",
              "2  {'atAGlanceFacts': [{'factValue': '1961', 'fac...     Los Angeles  3000.0   \n",
              "3  {'atAGlanceFacts': [{'factValue': '2006', 'fac...          Dallas  6457.0   \n",
              "4  {'atAGlanceFacts': [{'factValue': '', 'factLab...        Palm Bay     NaN   \n",
              "\n",
              "   zipcode  beds state     target Year built Remodeled year   \n",
              "0  28387.0   4.0    NC   418000.0       2019                 \\\n",
              "1  99216.0   3.0    WA   310000.0       2019                  \n",
              "2  90049.0   3.0    CA  2895000.0       1961           1967   \n",
              "3  75205.0   5.0    TX  2395000.0       2006           2006   \n",
              "4  32908.0   NaN    FL     5000.0                             \n",
              "\n",
              "                  Heating  Cooling          Parking      lotsize Price/sqft  \n",
              "0  Central A/C, Heat Pump                                   None       $144  \n",
              "1                                                      5828 sqft  $159/sqft  \n",
              "2              Forced Air  Central  Attached Garage   8,626 sqft  $965/sqft  \n",
              "3              Forced Air  Central  Detached Garage   8,220 sqft  $371/sqft  \n",
              "4                                                    10,019 sqft       None  "
            ]
          },
          "execution_count": 16,
          "metadata": {},
          "output_type": "execute_result"
        }
      ],
      "source": [
        "import ast\n",
        "# Функция для извлечения информации из homeFacts\n",
        "def extract_home_facts(home_facts):\n",
        "    # Преобразуем строку в словарь, если это необходимо\n",
        "    if isinstance(home_facts, str):\n",
        "        home_facts = ast.literal_eval(home_facts)\n",
        "\n",
        "    facts = {fact['factLabel']: fact['factValue'] for fact in home_facts['atAGlanceFacts']}\n",
        "    return pd.Series({\n",
        "        'Year built': facts.get('Year built'),\n",
        "        'Remodeled year': facts.get('Remodeled year'),\n",
        "        'Heating': facts.get('Heating'),\n",
        "        'Cooling': facts.get('Cooling'),\n",
        "        'Parking': facts.get('Parking'),\n",
        "        'lotsize': facts.get('lotsize'),\n",
        "        'Price/sqft': facts.get('Price/sqft')\n",
        "    })\n",
        "\n",
        "# Применение функции к столбцу homeFacts\n",
        "new_facts = data_3['homefacts'].apply(extract_home_facts)\n",
        "\n",
        "# Создание нового датафрейма с новыми признаками\n",
        "data_4 = pd.concat([data_3.reset_index(drop=True), new_facts.reset_index(drop=True)], axis=1)\n",
        "\n",
        "# Результат\n",
        "data_4.head()\n",
        "\n",
        "\n",
        "\n"
      ]
    },
    {
      "cell_type": "markdown",
      "metadata": {
        "id": "9WdSZghaD83C"
      },
      "source": [
        "### 2.2. Анализ пропусков\n",
        "\n",
        "Ввиду создания новых признаков проведем их оценку на пропуски и удалим признаки, которые содержат более 30% пропусков."
      ]
    },
    {
      "cell_type": "code",
      "execution_count": 17,
      "metadata": {
        "colab": {
          "base_uri": "https://localhost:8080/",
          "height": 1000
        },
        "id": "_hfnbTYeEWEA",
        "outputId": "d7da3205-adad-4548-9a5b-b4713e636186"
      },
      "outputs": [
        {
          "name": "stdout",
          "output_type": "stream",
          "text": [
            "Пропущенные значения:\n",
            "                  Total    Percent\n",
            "beds            108865  28.862495\n",
            "baths           107838  28.590214\n",
            "Price/sqft       58553  15.523682\n",
            "sqft             41397  10.975251\n",
            "status           39918  10.583136\n",
            "propertytype     34733   9.208479\n",
            "lotsize          28388   7.526280\n",
            "Remodeled year   26569   7.044023\n",
            "Year built        3613   0.957885\n",
            "Heating           3533   0.936676\n",
            "Cooling           3533   0.936676\n",
            "Parking           3533   0.936676\n",
            "target            2481   0.657767\n",
            "city                34   0.009014\n",
            "zipcode              2   0.000530\n",
            "street               2   0.000530\n",
            "homefacts            0   0.000000\n",
            "state                0   0.000000\n"
          ]
        },
        {
          "data": {
            "image/png": "[encoded data removed]",
            "text/plain": [
              "<Figure size 1200x600 with 1 Axes>"
            ]
          },
          "metadata": {},
          "output_type": "display_data"
        }
      ],
      "source": [
        "missing_values = data_4.isnull().sum().sort_values(ascending=False)\n",
        "percent_missing = (missing_values / len(data)) * 100\n",
        "\n",
        "missing_data_1 = pd.concat([missing_values, percent_missing], axis=1, keys=['Total', 'Percent'])\n",
        "print(\"Пропущенные значения:\\n\", missing_data_1)\n",
        "\n",
        "plt.figure(figsize=(12, 6))\n",
        "sns.barplot(x=missing_data_1.index, y=missing_data_1['Percent'])\n",
        "plt.xticks(rotation=90)\n",
        "plt.title('Процент пропущенных значений по признакам')\n",
        "plt.show()"
      ]
    },
    {
      "cell_type": "markdown",
      "metadata": {
        "id": "WBjDooBWE6Ak"
      },
      "source": [
        "Вывод: Все признаки имеют менее 30% пропусков. Оставляем все вновь полученные признаки."
      ]
    },
    {
      "cell_type": "markdown",
      "metadata": {
        "id": "zJ6fC4wQGUjq"
      },
      "source": [
        "### 2.3. Удаляем признак \"homefacts\"\n",
        "\n",
        "Удаляем признак \"homefacts\" так из него извлечена вся необходимая информация."
      ]
    },
    {
      "cell_type": "code",
      "execution_count": 18,
      "metadata": {
        "id": "MUESnLMAGwZk"
      },
      "outputs": [],
      "source": [
        "data_4 = data_4.drop('homefacts', axis=1)"
      ]
    },
    {
      "cell_type": "code",
      "execution_count": 19,
      "metadata": {
        "colab": {
          "base_uri": "https://localhost:8080/",
          "height": 554
        },
        "id": "t_mHjMQzF2_q",
        "outputId": "e9d371fe-b85b-451f-d664-9fcbae86527c"
      },
      "outputs": [
        {
          "data": {
            "text/html": [
              "<div>\n",
              "<style scoped>\n",
              "    .dataframe tbody tr th:only-of-type {\n",
              "        vertical-align: middle;\n",
              "    }\n",
              "\n",
              "    .dataframe tbody tr th {\n",
              "        vertical-align: top;\n",
              "    }\n",
              "\n",
              "    .dataframe thead th {\n",
              "        text-align: right;\n",
              "    }\n",
              "</style>\n",
              "<table border=\"1\" class=\"dataframe\">\n",
              "  <thead>\n",
              "    <tr style=\"text-align: right;\">\n",
              "      <th></th>\n",
              "      <th>status</th>\n",
              "      <th>propertytype</th>\n",
              "      <th>street</th>\n",
              "      <th>baths</th>\n",
              "      <th>city</th>\n",
              "      <th>sqft</th>\n",
              "      <th>zipcode</th>\n",
              "      <th>beds</th>\n",
              "      <th>state</th>\n",
              "      <th>target</th>\n",
              "      <th>Year built</th>\n",
              "      <th>Remodeled year</th>\n",
              "      <th>Heating</th>\n",
              "      <th>Cooling</th>\n",
              "      <th>Parking</th>\n",
              "      <th>lotsize</th>\n",
              "      <th>Price/sqft</th>\n",
              "    </tr>\n",
              "  </thead>\n",
              "  <tbody>\n",
              "    <tr>\n",
              "      <th>0</th>\n",
              "      <td>Active</td>\n",
              "      <td>Single Family Home</td>\n",
              "      <td>240 Heather Ln</td>\n",
              "      <td>3.5</td>\n",
              "      <td>Southern Pines</td>\n",
              "      <td>2900.0</td>\n",
              "      <td>28387.0</td>\n",
              "      <td>4.0</td>\n",
              "      <td>NC</td>\n",
              "      <td>418000.0</td>\n",
              "      <td>2019</td>\n",
              "      <td></td>\n",
              "      <td>Central A/C, Heat Pump</td>\n",
              "      <td></td>\n",
              "      <td></td>\n",
              "      <td>None</td>\n",
              "      <td>$144</td>\n",
              "    </tr>\n",
              "    <tr>\n",
              "      <th>1</th>\n",
              "      <td>for sale</td>\n",
              "      <td>single-family home</td>\n",
              "      <td>12911 E Heroy Ave</td>\n",
              "      <td>3.0</td>\n",
              "      <td>Spokane Valley</td>\n",
              "      <td>1947.0</td>\n",
              "      <td>99216.0</td>\n",
              "      <td>3.0</td>\n",
              "      <td>WA</td>\n",
              "      <td>310000.0</td>\n",
              "      <td>2019</td>\n",
              "      <td></td>\n",
              "      <td></td>\n",
              "      <td></td>\n",
              "      <td></td>\n",
              "      <td>5828 sqft</td>\n",
              "      <td>$159/sqft</td>\n",
              "    </tr>\n",
              "    <tr>\n",
              "      <th>2</th>\n",
              "      <td>for sale</td>\n",
              "      <td>single-family home</td>\n",
              "      <td>2005 Westridge Rd</td>\n",
              "      <td>2.0</td>\n",
              "      <td>Los Angeles</td>\n",
              "      <td>3000.0</td>\n",
              "      <td>90049.0</td>\n",
              "      <td>3.0</td>\n",
              "      <td>CA</td>\n",
              "      <td>2895000.0</td>\n",
              "      <td>1961</td>\n",
              "      <td>1967</td>\n",
              "      <td>Forced Air</td>\n",
              "      <td>Central</td>\n",
              "      <td>Attached Garage</td>\n",
              "      <td>8,626 sqft</td>\n",
              "      <td>$965/sqft</td>\n",
              "    </tr>\n",
              "    <tr>\n",
              "      <th>3</th>\n",
              "      <td>for sale</td>\n",
              "      <td>single-family home</td>\n",
              "      <td>4311 Livingston Ave</td>\n",
              "      <td>8.0</td>\n",
              "      <td>Dallas</td>\n",
              "      <td>6457.0</td>\n",
              "      <td>75205.0</td>\n",
              "      <td>5.0</td>\n",
              "      <td>TX</td>\n",
              "      <td>2395000.0</td>\n",
              "      <td>2006</td>\n",
              "      <td>2006</td>\n",
              "      <td>Forced Air</td>\n",
              "      <td>Central</td>\n",
              "      <td>Detached Garage</td>\n",
              "      <td>8,220 sqft</td>\n",
              "      <td>$371/sqft</td>\n",
              "    </tr>\n",
              "    <tr>\n",
              "      <th>4</th>\n",
              "      <td>for sale</td>\n",
              "      <td>lot/land</td>\n",
              "      <td>1524 Kiscoe St</td>\n",
              "      <td>NaN</td>\n",
              "      <td>Palm Bay</td>\n",
              "      <td>NaN</td>\n",
              "      <td>32908.0</td>\n",
              "      <td>NaN</td>\n",
              "      <td>FL</td>\n",
              "      <td>5000.0</td>\n",
              "      <td></td>\n",
              "      <td></td>\n",
              "      <td></td>\n",
              "      <td></td>\n",
              "      <td></td>\n",
              "      <td>10,019 sqft</td>\n",
              "      <td>None</td>\n",
              "    </tr>\n",
              "    <tr>\n",
              "      <th>5</th>\n",
              "      <td>for sale</td>\n",
              "      <td>townhouse</td>\n",
              "      <td>1624 S Newkirk St</td>\n",
              "      <td>NaN</td>\n",
              "      <td>Philadelphia</td>\n",
              "      <td>897.0</td>\n",
              "      <td>19145.0</td>\n",
              "      <td>2.0</td>\n",
              "      <td>PA</td>\n",
              "      <td>209000.0</td>\n",
              "      <td>1920</td>\n",
              "      <td></td>\n",
              "      <td>Forced Air</td>\n",
              "      <td>Central</td>\n",
              "      <td></td>\n",
              "      <td>680 sqft</td>\n",
              "      <td>$233/sqft</td>\n",
              "    </tr>\n",
              "    <tr>\n",
              "      <th>6</th>\n",
              "      <td>Active</td>\n",
              "      <td>Florida</td>\n",
              "      <td>552 Casanova Ct</td>\n",
              "      <td>NaN</td>\n",
              "      <td>POINCIANA</td>\n",
              "      <td>1507.0</td>\n",
              "      <td>34759.0</td>\n",
              "      <td>NaN</td>\n",
              "      <td>FL</td>\n",
              "      <td>181500.0</td>\n",
              "      <td>2006</td>\n",
              "      <td>2006</td>\n",
              "      <td>Electric, Heat Pump</td>\n",
              "      <td>Central Air</td>\n",
              "      <td></td>\n",
              "      <td>4,996 Sq. Ft.</td>\n",
              "      <td>$120 / Sq. Ft.</td>\n",
              "    </tr>\n",
              "    <tr>\n",
              "      <th>7</th>\n",
              "      <td>Active</td>\n",
              "      <td>NaN</td>\n",
              "      <td>6094 Mingle Dr</td>\n",
              "      <td>NaN</td>\n",
              "      <td>Memphis</td>\n",
              "      <td>NaN</td>\n",
              "      <td>38115.0</td>\n",
              "      <td>NaN</td>\n",
              "      <td>TN</td>\n",
              "      <td>68000.0</td>\n",
              "      <td>1976</td>\n",
              "      <td></td>\n",
              "      <td></td>\n",
              "      <td></td>\n",
              "      <td></td>\n",
              "      <td>8,750 Sq. Ft.</td>\n",
              "      <td>$57 / Sq. Ft.</td>\n",
              "    </tr>\n",
              "    <tr>\n",
              "      <th>8</th>\n",
              "      <td>Active</td>\n",
              "      <td>Single Family Home</td>\n",
              "      <td>11182 Owl Ave</td>\n",
              "      <td>2.0</td>\n",
              "      <td>Mason City</td>\n",
              "      <td>3588.0</td>\n",
              "      <td>50401.0</td>\n",
              "      <td>3.0</td>\n",
              "      <td>IA</td>\n",
              "      <td>244900.0</td>\n",
              "      <td>1970</td>\n",
              "      <td></td>\n",
              "      <td>Forced Air</td>\n",
              "      <td>Central</td>\n",
              "      <td></td>\n",
              "      <td>124582</td>\n",
              "      <td>$68</td>\n",
              "    </tr>\n",
              "    <tr>\n",
              "      <th>9</th>\n",
              "      <td>NaN</td>\n",
              "      <td>Single Family</td>\n",
              "      <td>8612 Cedar Plains Ln</td>\n",
              "      <td>3.0</td>\n",
              "      <td>Houston</td>\n",
              "      <td>1930.0</td>\n",
              "      <td>77080.0</td>\n",
              "      <td>3.0</td>\n",
              "      <td>TX</td>\n",
              "      <td>311995.0</td>\n",
              "      <td>2019</td>\n",
              "      <td>None</td>\n",
              "      <td>Gas</td>\n",
              "      <td>Central</td>\n",
              "      <td>Attached Garage</td>\n",
              "      <td>2,056 sqft</td>\n",
              "      <td>$162</td>\n",
              "    </tr>\n",
              "  </tbody>\n",
              "</table>\n",
              "</div>"
            ],
            "text/plain": [
              "     status        propertytype                street  baths            city   \n",
              "0    Active  Single Family Home        240 Heather Ln    3.5  Southern Pines  \\\n",
              "1  for sale  single-family home     12911 E Heroy Ave    3.0  Spokane Valley   \n",
              "2  for sale  single-family home     2005 Westridge Rd    2.0     Los Angeles   \n",
              "3  for sale  single-family home   4311 Livingston Ave    8.0          Dallas   \n",
              "4  for sale            lot/land        1524 Kiscoe St    NaN        Palm Bay   \n",
              "5  for sale           townhouse     1624 S Newkirk St    NaN    Philadelphia   \n",
              "6    Active             Florida      552 Casanova Ct     NaN       POINCIANA   \n",
              "7    Active                 NaN       6094 Mingle Dr     NaN         Memphis   \n",
              "8    Active  Single Family Home         11182 Owl Ave    2.0      Mason City   \n",
              "9       NaN       Single Family  8612 Cedar Plains Ln    3.0         Houston   \n",
              "\n",
              "     sqft  zipcode  beds state     target Year built Remodeled year   \n",
              "0  2900.0  28387.0   4.0    NC   418000.0       2019                 \\\n",
              "1  1947.0  99216.0   3.0    WA   310000.0       2019                  \n",
              "2  3000.0  90049.0   3.0    CA  2895000.0       1961           1967   \n",
              "3  6457.0  75205.0   5.0    TX  2395000.0       2006           2006   \n",
              "4     NaN  32908.0   NaN    FL     5000.0                             \n",
              "5   897.0  19145.0   2.0    PA   209000.0       1920                  \n",
              "6  1507.0  34759.0   NaN    FL   181500.0       2006           2006   \n",
              "7     NaN  38115.0   NaN    TN    68000.0       1976                  \n",
              "8  3588.0  50401.0   3.0    IA   244900.0       1970                  \n",
              "9  1930.0  77080.0   3.0    TX   311995.0       2019           None   \n",
              "\n",
              "                  Heating      Cooling          Parking        lotsize   \n",
              "0  Central A/C, Heat Pump                                         None  \\\n",
              "1                                                            5828 sqft   \n",
              "2              Forced Air      Central  Attached Garage     8,626 sqft   \n",
              "3              Forced Air      Central  Detached Garage     8,220 sqft   \n",
              "4                                                          10,019 sqft   \n",
              "5              Forced Air      Central                        680 sqft   \n",
              "6     Electric, Heat Pump  Central Air                   4,996 Sq. Ft.   \n",
              "7                                                        8,750 Sq. Ft.   \n",
              "8              Forced Air      Central                          124582   \n",
              "9                     Gas      Central  Attached Garage     2,056 sqft   \n",
              "\n",
              "       Price/sqft  \n",
              "0            $144  \n",
              "1       $159/sqft  \n",
              "2       $965/sqft  \n",
              "3       $371/sqft  \n",
              "4            None  \n",
              "5       $233/sqft  \n",
              "6  $120 / Sq. Ft.  \n",
              "7   $57 / Sq. Ft.  \n",
              "8             $68  \n",
              "9            $162  "
            ]
          },
          "execution_count": 19,
          "metadata": {},
          "output_type": "execute_result"
        }
      ],
      "source": [
        "data_4.head(10)"
      ]
    },
    {
      "cell_type": "code",
      "execution_count": 20,
      "metadata": {
        "colab": {
          "base_uri": "https://localhost:8080/"
        },
        "id": "0rslQWSYMDNl",
        "outputId": "92d7a378-a358-4264-cebc-c7dd1ed96059"
      },
      "outputs": [
        {
          "name": "stdout",
          "output_type": "stream",
          "text": [
            "<class 'pandas.core.frame.DataFrame'>\n",
            "RangeIndex: 377185 entries, 0 to 377184\n",
            "Data columns (total 17 columns):\n",
            " #   Column          Non-Null Count   Dtype  \n",
            "---  ------          --------------   -----  \n",
            " 0   status          337267 non-null  object \n",
            " 1   propertytype    342452 non-null  object \n",
            " 2   street          377183 non-null  object \n",
            " 3   baths           269347 non-null  float64\n",
            " 4   city            377151 non-null  object \n",
            " 5   sqft            335788 non-null  float64\n",
            " 6   zipcode         377183 non-null  float64\n",
            " 7   beds            268320 non-null  float64\n",
            " 8   state           377185 non-null  object \n",
            " 9   target          374704 non-null  float64\n",
            " 10  Year built      373572 non-null  object \n",
            " 11  Remodeled year  350616 non-null  object \n",
            " 12  Heating         373652 non-null  object \n",
            " 13  Cooling         373652 non-null  object \n",
            " 14  Parking         373652 non-null  object \n",
            " 15  lotsize         348797 non-null  object \n",
            " 16  Price/sqft      318632 non-null  object \n",
            "dtypes: float64(5), object(12)\n",
            "memory usage: 48.9+ MB\n"
          ]
        }
      ],
      "source": [
        "data_4.info()"
      ]
    },
    {
      "cell_type": "markdown",
      "metadata": {
        "id": "30U67xuRFXvK"
      },
      "source": [
        "### 2.4. Уточняем цифровые и категориальные признаки"
      ]
    },
    {
      "cell_type": "code",
      "execution_count": 21,
      "metadata": {
        "id": "_UGbOg-mFlPY"
      },
      "outputs": [],
      "source": [
        "categorical_features = ['status', 'propertytype', 'street', 'city', 'state', 'Heating', 'Cooling', 'Parking' ]\n",
        "numerical_features = ['baths', 'sqft', 'zipcode', 'beds', 'Year built', 'Remodeled year', 'lotsize', 'Price/sqft' ]\n",
        "target = 'target'"
      ]
    },
    {
      "cell_type": "markdown",
      "metadata": {
        "id": "dWSbLNXxIcCS"
      },
      "source": [
        "### 2.5. Приведение цифровых признаков к цифровому виду"
      ]
    },
    {
      "cell_type": "code",
      "execution_count": 22,
      "metadata": {
        "colab": {
          "base_uri": "https://localhost:8080/",
          "height": 310
        },
        "id": "cyqOJE-VIlwi",
        "outputId": "58ab83ba-d97d-4219-fdfd-2e51c95bf4fc"
      },
      "outputs": [
        {
          "data": {
            "text/html": [
              "<div>\n",
              "<style scoped>\n",
              "    .dataframe tbody tr th:only-of-type {\n",
              "        vertical-align: middle;\n",
              "    }\n",
              "\n",
              "    .dataframe tbody tr th {\n",
              "        vertical-align: top;\n",
              "    }\n",
              "\n",
              "    .dataframe thead th {\n",
              "        text-align: right;\n",
              "    }\n",
              "</style>\n",
              "<table border=\"1\" class=\"dataframe\">\n",
              "  <thead>\n",
              "    <tr style=\"text-align: right;\">\n",
              "      <th></th>\n",
              "      <th>status</th>\n",
              "      <th>propertytype</th>\n",
              "      <th>street</th>\n",
              "      <th>baths</th>\n",
              "      <th>city</th>\n",
              "      <th>sqft</th>\n",
              "      <th>zipcode</th>\n",
              "      <th>beds</th>\n",
              "      <th>state</th>\n",
              "      <th>target</th>\n",
              "      <th>Year built</th>\n",
              "      <th>Remodeled year</th>\n",
              "      <th>Heating</th>\n",
              "      <th>Cooling</th>\n",
              "      <th>Parking</th>\n",
              "      <th>lotsize</th>\n",
              "      <th>Price/sqft</th>\n",
              "    </tr>\n",
              "  </thead>\n",
              "  <tbody>\n",
              "    <tr>\n",
              "      <th>0</th>\n",
              "      <td>Active</td>\n",
              "      <td>Single Family Home</td>\n",
              "      <td>240 Heather Ln</td>\n",
              "      <td>3.5</td>\n",
              "      <td>Southern Pines</td>\n",
              "      <td>2900.0</td>\n",
              "      <td>28387.0</td>\n",
              "      <td>4.0</td>\n",
              "      <td>NC</td>\n",
              "      <td>418000.0</td>\n",
              "      <td>2019.0</td>\n",
              "      <td>NaN</td>\n",
              "      <td>Central A/C, Heat Pump</td>\n",
              "      <td></td>\n",
              "      <td></td>\n",
              "      <td>NaN</td>\n",
              "      <td>144.0</td>\n",
              "    </tr>\n",
              "    <tr>\n",
              "      <th>1</th>\n",
              "      <td>for sale</td>\n",
              "      <td>single-family home</td>\n",
              "      <td>12911 E Heroy Ave</td>\n",
              "      <td>3.0</td>\n",
              "      <td>Spokane Valley</td>\n",
              "      <td>1947.0</td>\n",
              "      <td>99216.0</td>\n",
              "      <td>3.0</td>\n",
              "      <td>WA</td>\n",
              "      <td>310000.0</td>\n",
              "      <td>2019.0</td>\n",
              "      <td>NaN</td>\n",
              "      <td></td>\n",
              "      <td></td>\n",
              "      <td></td>\n",
              "      <td>5828.0</td>\n",
              "      <td>159.0</td>\n",
              "    </tr>\n",
              "    <tr>\n",
              "      <th>2</th>\n",
              "      <td>for sale</td>\n",
              "      <td>single-family home</td>\n",
              "      <td>2005 Westridge Rd</td>\n",
              "      <td>2.0</td>\n",
              "      <td>Los Angeles</td>\n",
              "      <td>3000.0</td>\n",
              "      <td>90049.0</td>\n",
              "      <td>3.0</td>\n",
              "      <td>CA</td>\n",
              "      <td>2895000.0</td>\n",
              "      <td>1961.0</td>\n",
              "      <td>1967.0</td>\n",
              "      <td>Forced Air</td>\n",
              "      <td>Central</td>\n",
              "      <td>Attached Garage</td>\n",
              "      <td>8626.0</td>\n",
              "      <td>965.0</td>\n",
              "    </tr>\n",
              "    <tr>\n",
              "      <th>3</th>\n",
              "      <td>for sale</td>\n",
              "      <td>single-family home</td>\n",
              "      <td>4311 Livingston Ave</td>\n",
              "      <td>8.0</td>\n",
              "      <td>Dallas</td>\n",
              "      <td>6457.0</td>\n",
              "      <td>75205.0</td>\n",
              "      <td>5.0</td>\n",
              "      <td>TX</td>\n",
              "      <td>2395000.0</td>\n",
              "      <td>2006.0</td>\n",
              "      <td>2006.0</td>\n",
              "      <td>Forced Air</td>\n",
              "      <td>Central</td>\n",
              "      <td>Detached Garage</td>\n",
              "      <td>8220.0</td>\n",
              "      <td>371.0</td>\n",
              "    </tr>\n",
              "    <tr>\n",
              "      <th>4</th>\n",
              "      <td>for sale</td>\n",
              "      <td>lot/land</td>\n",
              "      <td>1524 Kiscoe St</td>\n",
              "      <td>NaN</td>\n",
              "      <td>Palm Bay</td>\n",
              "      <td>NaN</td>\n",
              "      <td>32908.0</td>\n",
              "      <td>NaN</td>\n",
              "      <td>FL</td>\n",
              "      <td>5000.0</td>\n",
              "      <td>NaN</td>\n",
              "      <td>NaN</td>\n",
              "      <td></td>\n",
              "      <td></td>\n",
              "      <td></td>\n",
              "      <td>10019.0</td>\n",
              "      <td>NaN</td>\n",
              "    </tr>\n",
              "  </tbody>\n",
              "</table>\n",
              "</div>"
            ],
            "text/plain": [
              "     status        propertytype               street  baths            city   \n",
              "0    Active  Single Family Home       240 Heather Ln    3.5  Southern Pines  \\\n",
              "1  for sale  single-family home    12911 E Heroy Ave    3.0  Spokane Valley   \n",
              "2  for sale  single-family home    2005 Westridge Rd    2.0     Los Angeles   \n",
              "3  for sale  single-family home  4311 Livingston Ave    8.0          Dallas   \n",
              "4  for sale            lot/land       1524 Kiscoe St    NaN        Palm Bay   \n",
              "\n",
              "     sqft  zipcode  beds state     target  Year built  Remodeled year   \n",
              "0  2900.0  28387.0   4.0    NC   418000.0      2019.0             NaN  \\\n",
              "1  1947.0  99216.0   3.0    WA   310000.0      2019.0             NaN   \n",
              "2  3000.0  90049.0   3.0    CA  2895000.0      1961.0          1967.0   \n",
              "3  6457.0  75205.0   5.0    TX  2395000.0      2006.0          2006.0   \n",
              "4     NaN  32908.0   NaN    FL     5000.0         NaN             NaN   \n",
              "\n",
              "                  Heating  Cooling          Parking  lotsize  Price/sqft  \n",
              "0  Central A/C, Heat Pump                                NaN       144.0  \n",
              "1                                                     5828.0       159.0  \n",
              "2              Forced Air  Central  Attached Garage   8626.0       965.0  \n",
              "3              Forced Air  Central  Detached Garage   8220.0       371.0  \n",
              "4                                                    10019.0         NaN  "
            ]
          },
          "execution_count": 22,
          "metadata": {},
          "output_type": "execute_result"
        }
      ],
      "source": [
        "def convert_to_numeric(data_4, numerical_features_1):\n",
        "\n",
        "    df_converted = data_4.copy()\n",
        "\n",
        "    for feature in numerical_features:\n",
        "        if df_converted[feature].dtype == object: # Проверяем тип данных, если object - обрабатываем\n",
        "            df_converted[feature] = df_converted[feature].astype(str).str.replace(r'[^\\d.]', '', regex=True)\n",
        "            df_converted[feature] = pd.to_numeric(df_converted[feature], errors='coerce')\n",
        "\n",
        "    return df_converted\n",
        "\n",
        "\n",
        "numerical_features_1 = ['Year built', 'Remodeled year', 'lotsize', 'Price/sqft' ]\n",
        "\n",
        "data_5 = convert_to_numeric(data_4, numerical_features_1)\n",
        "data_5.head()"
      ]
    },
    {
      "cell_type": "code",
      "execution_count": 23,
      "metadata": {
        "colab": {
          "base_uri": "https://localhost:8080/"
        },
        "id": "ojjeWVtNN9Hh",
        "outputId": "c9760c1c-cd0b-43f0-bd33-5eec3571bf6b"
      },
      "outputs": [
        {
          "name": "stdout",
          "output_type": "stream",
          "text": [
            "<class 'pandas.core.frame.DataFrame'>\n",
            "RangeIndex: 377185 entries, 0 to 377184\n",
            "Data columns (total 17 columns):\n",
            " #   Column          Non-Null Count   Dtype  \n",
            "---  ------          --------------   -----  \n",
            " 0   status          337267 non-null  object \n",
            " 1   propertytype    342452 non-null  object \n",
            " 2   street          377183 non-null  object \n",
            " 3   baths           269347 non-null  float64\n",
            " 4   city            377151 non-null  object \n",
            " 5   sqft            335788 non-null  float64\n",
            " 6   zipcode         377183 non-null  float64\n",
            " 7   beds            268320 non-null  float64\n",
            " 8   state           377185 non-null  object \n",
            " 9   target          374704 non-null  float64\n",
            " 10  Year built      313589 non-null  float64\n",
            " 11  Remodeled year  151075 non-null  float64\n",
            " 12  Heating         373652 non-null  object \n",
            " 13  Cooling         373652 non-null  object \n",
            " 14  Parking         373652 non-null  object \n",
            " 15  lotsize         253635 non-null  float64\n",
            " 16  Price/sqft      260997 non-null  float64\n",
            "dtypes: float64(9), object(8)\n",
            "memory usage: 48.9+ MB\n"
          ]
        }
      ],
      "source": [
        "data_5.info()"
      ]
    },
    {
      "cell_type": "markdown",
      "metadata": {
        "id": "HPo_csxgRr7W"
      },
      "source": [
        "###2.6. Заполняем пропуски цифровых признаков медианными значениями"
      ]
    },
    {
      "cell_type": "code",
      "execution_count": 24,
      "metadata": {
        "colab": {
          "base_uri": "https://localhost:8080/"
        },
        "collapsed": true,
        "id": "z-uLvtgeQXK1",
        "outputId": "7a55f814-3f1c-4577-93e5-90aabd7c98ce"
      },
      "outputs": [],
      "source": [
        "import numpy as np\n",
        "def fill_numerical_missing_values(data_5, numerical_features):\n",
        "\n",
        "    df_filled = data_5.copy()\n",
        "\n",
        "    for feature in numerical_features:\n",
        "        if df_filled[feature].isnull().any(): # Проверяем, есть ли пропуски в столбце\n",
        "            median_value = df_filled[feature].median()\n",
        "            df_filled[feature].fillna(median_value, inplace=True)\n",
        "        # Приводим к int, если тип данных - float и значения целые.\n",
        "        if df_filled[feature].dtype == np.float64 and all(x.is_integer() for x in df_filled[feature].dropna()):\n",
        "            df_filled[feature] = df_filled[feature].astype(int)\n",
        "\n",
        "    return df_filled\n",
        "\n",
        "\n",
        "\n",
        "# Пример использования (замените data_5 на ваш DataFrame)\n",
        "numerical_features = ['baths', 'sqft', 'zipcode', 'beds', 'Year built', 'Remodeled year', 'lotsize', 'Price/sqft']\n",
        "data_6 = fill_numerical_missing_values(data_5, numerical_features)\n",
        "\n",
        "\n"
      ]
    },
    {
      "cell_type": "code",
      "execution_count": 25,
      "metadata": {
        "colab": {
          "base_uri": "https://localhost:8080/",
          "height": 293
        },
        "id": "X0UI2EUHRWDL",
        "outputId": "431ddc13-0b7e-4932-c3d1-50bd2b01af4e"
      },
      "outputs": [
        {
          "data": {
            "text/html": [
              "<div>\n",
              "<style scoped>\n",
              "    .dataframe tbody tr th:only-of-type {\n",
              "        vertical-align: middle;\n",
              "    }\n",
              "\n",
              "    .dataframe tbody tr th {\n",
              "        vertical-align: top;\n",
              "    }\n",
              "\n",
              "    .dataframe thead th {\n",
              "        text-align: right;\n",
              "    }\n",
              "</style>\n",
              "<table border=\"1\" class=\"dataframe\">\n",
              "  <thead>\n",
              "    <tr style=\"text-align: right;\">\n",
              "      <th></th>\n",
              "      <th>status</th>\n",
              "      <th>propertytype</th>\n",
              "      <th>street</th>\n",
              "      <th>baths</th>\n",
              "      <th>city</th>\n",
              "      <th>sqft</th>\n",
              "      <th>zipcode</th>\n",
              "      <th>beds</th>\n",
              "      <th>state</th>\n",
              "      <th>target</th>\n",
              "      <th>Year built</th>\n",
              "      <th>Remodeled year</th>\n",
              "      <th>Heating</th>\n",
              "      <th>Cooling</th>\n",
              "      <th>Parking</th>\n",
              "      <th>lotsize</th>\n",
              "      <th>Price/sqft</th>\n",
              "    </tr>\n",
              "  </thead>\n",
              "  <tbody>\n",
              "    <tr>\n",
              "      <th>0</th>\n",
              "      <td>Active</td>\n",
              "      <td>Single Family Home</td>\n",
              "      <td>240 Heather Ln</td>\n",
              "      <td>3.5</td>\n",
              "      <td>Southern Pines</td>\n",
              "      <td>2900</td>\n",
              "      <td>28387</td>\n",
              "      <td>4.0</td>\n",
              "      <td>NC</td>\n",
              "      <td>418000.0</td>\n",
              "      <td>2019</td>\n",
              "      <td>1986</td>\n",
              "      <td>Central A/C, Heat Pump</td>\n",
              "      <td></td>\n",
              "      <td></td>\n",
              "      <td>4578.0</td>\n",
              "      <td>144</td>\n",
              "    </tr>\n",
              "    <tr>\n",
              "      <th>1</th>\n",
              "      <td>for sale</td>\n",
              "      <td>single-family home</td>\n",
              "      <td>12911 E Heroy Ave</td>\n",
              "      <td>3.0</td>\n",
              "      <td>Spokane Valley</td>\n",
              "      <td>1947</td>\n",
              "      <td>99216</td>\n",
              "      <td>3.0</td>\n",
              "      <td>WA</td>\n",
              "      <td>310000.0</td>\n",
              "      <td>2019</td>\n",
              "      <td>1986</td>\n",
              "      <td></td>\n",
              "      <td></td>\n",
              "      <td></td>\n",
              "      <td>5828.0</td>\n",
              "      <td>159</td>\n",
              "    </tr>\n",
              "    <tr>\n",
              "      <th>2</th>\n",
              "      <td>for sale</td>\n",
              "      <td>single-family home</td>\n",
              "      <td>2005 Westridge Rd</td>\n",
              "      <td>2.0</td>\n",
              "      <td>Los Angeles</td>\n",
              "      <td>3000</td>\n",
              "      <td>90049</td>\n",
              "      <td>3.0</td>\n",
              "      <td>CA</td>\n",
              "      <td>2895000.0</td>\n",
              "      <td>1961</td>\n",
              "      <td>1967</td>\n",
              "      <td>Forced Air</td>\n",
              "      <td>Central</td>\n",
              "      <td>Attached Garage</td>\n",
              "      <td>8626.0</td>\n",
              "      <td>965</td>\n",
              "    </tr>\n",
              "    <tr>\n",
              "      <th>3</th>\n",
              "      <td>for sale</td>\n",
              "      <td>single-family home</td>\n",
              "      <td>4311 Livingston Ave</td>\n",
              "      <td>8.0</td>\n",
              "      <td>Dallas</td>\n",
              "      <td>6457</td>\n",
              "      <td>75205</td>\n",
              "      <td>5.0</td>\n",
              "      <td>TX</td>\n",
              "      <td>2395000.0</td>\n",
              "      <td>2006</td>\n",
              "      <td>2006</td>\n",
              "      <td>Forced Air</td>\n",
              "      <td>Central</td>\n",
              "      <td>Detached Garage</td>\n",
              "      <td>8220.0</td>\n",
              "      <td>371</td>\n",
              "    </tr>\n",
              "    <tr>\n",
              "      <th>4</th>\n",
              "      <td>for sale</td>\n",
              "      <td>lot/land</td>\n",
              "      <td>1524 Kiscoe St</td>\n",
              "      <td>2.5</td>\n",
              "      <td>Palm Bay</td>\n",
              "      <td>1800</td>\n",
              "      <td>32908</td>\n",
              "      <td>3.0</td>\n",
              "      <td>FL</td>\n",
              "      <td>5000.0</td>\n",
              "      <td>1985</td>\n",
              "      <td>1986</td>\n",
              "      <td></td>\n",
              "      <td></td>\n",
              "      <td></td>\n",
              "      <td>10019.0</td>\n",
              "      <td>176</td>\n",
              "    </tr>\n",
              "  </tbody>\n",
              "</table>\n",
              "</div>"
            ],
            "text/plain": [
              "     status        propertytype               street  baths            city   \n",
              "0    Active  Single Family Home       240 Heather Ln    3.5  Southern Pines  \\\n",
              "1  for sale  single-family home    12911 E Heroy Ave    3.0  Spokane Valley   \n",
              "2  for sale  single-family home    2005 Westridge Rd    2.0     Los Angeles   \n",
              "3  for sale  single-family home  4311 Livingston Ave    8.0          Dallas   \n",
              "4  for sale            lot/land       1524 Kiscoe St    2.5        Palm Bay   \n",
              "\n",
              "   sqft  zipcode  beds state     target  Year built  Remodeled year   \n",
              "0  2900    28387   4.0    NC   418000.0        2019            1986  \\\n",
              "1  1947    99216   3.0    WA   310000.0        2019            1986   \n",
              "2  3000    90049   3.0    CA  2895000.0        1961            1967   \n",
              "3  6457    75205   5.0    TX  2395000.0        2006            2006   \n",
              "4  1800    32908   3.0    FL     5000.0        1985            1986   \n",
              "\n",
              "                  Heating  Cooling          Parking  lotsize  Price/sqft  \n",
              "0  Central A/C, Heat Pump                             4578.0         144  \n",
              "1                                                     5828.0         159  \n",
              "2              Forced Air  Central  Attached Garage   8626.0         965  \n",
              "3              Forced Air  Central  Detached Garage   8220.0         371  \n",
              "4                                                    10019.0         176  "
            ]
          },
          "execution_count": 25,
          "metadata": {},
          "output_type": "execute_result"
        }
      ],
      "source": [
        "data_6.head()"
      ]
    },
    {
      "cell_type": "markdown",
      "metadata": {
        "id": "cDVKLxgqVYLR"
      },
      "source": [
        "### 2.7. Группировка значений признака \"status\" по ключевым словам"
      ]
    },
    {
      "cell_type": "code",
      "execution_count": 26,
      "metadata": {
        "colab": {
          "base_uri": "https://localhost:8080/"
        },
        "id": "fxxH85robGan",
        "outputId": "9e22445a-cfc2-4974-ff7d-6951e13426ea"
      },
      "outputs": [
        {
          "name": "stdout",
          "output_type": "stream",
          "text": [
            "status\n",
            "for sale                             156104\n",
            "Active                               105207\n",
            "For sale                              43465\n",
            "foreclosure                            6426\n",
            "New construction                       5475\n",
            "Pending                                4702\n",
            "Pre-foreclosure                        2119\n",
            "Pre-foreclosure / auction              1560\n",
            "P                                      1488\n",
            "Under Contract Show                    1183\n",
            " / auction                              936\n",
            "Under Contract   Showing                793\n",
            "Active Under Contract                   718\n",
            "New                                     690\n",
            "Under Contract                          690\n",
            "Contingent                              581\n",
            "Price Change                            563\n",
            "Auction                                 536\n",
            "Foreclosed                              459\n",
            "A Active                                443\n",
            "for rent                                398\n",
            "Foreclosure                             343\n",
            "recently sold                           287\n",
            "Under Contract Backups                  252\n",
            "Contingent Finance And Inspection       240\n",
            "Pending Continue To Show                194\n",
            "Option Pending                          110\n",
            "Back on Market                          106\n",
            "pending                                 105\n",
            "Contingent Show                         101\n",
            "Name: count, dtype: int64\n"
          ]
        }
      ],
      "source": [
        "top_30_status = data_6['status'].value_counts().nlargest(30)\n",
        "\n",
        "print(top_30_status)"
      ]
    },
    {
      "cell_type": "code",
      "execution_count": 27,
      "metadata": {
        "id": "bueXGRDAoP0O"
      },
      "outputs": [],
      "source": [
        "import pandas as pd\n",
        "import re\n",
        "\n",
        "def clean_status(status):\n",
        "  \"\"\"Приводит статус к нижнему регистру и удаляет знаки препинания.\"\"\"\n",
        "  if pd.isna(status):\n",
        "    return status # Возвращаем NaN как есть, если значение пропущено\n",
        "\n",
        "  status = status.lower()\n",
        "  status = re.sub(r'[^\\w\\s]', '', status)\n",
        "  return status\n",
        "\n",
        "\n",
        "data_6['status'] = data_6['status'].apply(clean_status)\n",
        "\n"
      ]
    },
    {
      "cell_type": "code",
      "execution_count": 28,
      "metadata": {
        "colab": {
          "base_uri": "https://localhost:8080/"
        },
        "id": "QkMajLaeouZd",
        "outputId": "351e70b9-68bc-47c2-9fab-5f1593ebdc23"
      },
      "outputs": [
        {
          "name": "stdout",
          "output_type": "stream",
          "text": [
            "status\n",
            "for sale                             199571\n",
            "active                               105207\n",
            "foreclosure                            6769\n",
            "new construction                       5475\n",
            "pending                                4807\n",
            "preforeclosure                         2119\n",
            "preforeclosure  auction                1560\n",
            "p                                      1488\n",
            "under contract show                    1183\n",
            "  auction                               936\n",
            "under contract   showing                793\n",
            "active under contract                   718\n",
            "under contract                          692\n",
            "new                                     690\n",
            "contingent                              581\n",
            "price change                            563\n",
            "auction                                 536\n",
            "foreclosed                              459\n",
            "a active                                443\n",
            "for rent                                398\n",
            "recently sold                           287\n",
            "under contract backups                  252\n",
            "contingent finance and inspection       245\n",
            "pending continue to show                195\n",
            "back on market                          112\n",
            "option pending                          110\n",
            "contingent show                         101\n",
            "pending taking backups                   63\n",
            "option contract                          54\n",
            "active with offer                        49\n",
            "Name: count, dtype: int64\n"
          ]
        }
      ],
      "source": [
        "top_30_status = data_6['status'].value_counts().nlargest(30)\n",
        "\n",
        "print(top_30_status)"
      ]
    },
    {
      "cell_type": "code",
      "execution_count": 29,
      "metadata": {
        "id": "FSsBgwoso3xU"
      },
      "outputs": [],
      "source": [
        "# Формируем список ключевых слов: sale, active, foreclosure, new, pending, preforeclosure, contract, auction, rent, sold"
      ]
    },
    {
      "cell_type": "code",
      "execution_count": 30,
      "metadata": {
        "id": "PGRu4rYnqxvq"
      },
      "outputs": [],
      "source": [
        "import pandas as pd\n",
        "\n",
        "def categorize_status(status):\n",
        "    \"\"\"Категоризирует статус на основе ключевых слов.\"\"\"\n",
        "    if pd.isna(status):\n",
        "        return 'other' # Обработка NaN\n",
        "\n",
        "    keywords = ['sale', 'active', 'foreclosure', 'new', 'pending', 'preforeclosure', 'contract', 'auction', 'rent', 'sold']\n",
        "    for keyword in keywords:\n",
        "        if keyword in status: # Проверка наличия подстроки\n",
        "            return keyword\n",
        "    return 'other'\n",
        "\n",
        "data_6['status'] = data_6['status'].apply(categorize_status)\n"
      ]
    },
    {
      "cell_type": "code",
      "execution_count": 31,
      "metadata": {
        "colab": {
          "base_uri": "https://localhost:8080/"
        },
        "id": "JCANAWv4q2kW",
        "outputId": "a79f01fd-1afd-4930-8ab1-d226c32c18c4"
      },
      "outputs": [
        {
          "name": "stdout",
          "output_type": "stream",
          "text": [
            "status\n",
            "sale           199634\n",
            "active         106555\n",
            "other           43831\n",
            "foreclosure     10450\n",
            "new              6165\n",
            "pending          5327\n",
            "contract         3050\n",
            "auction          1472\n",
            "rent              412\n",
            "sold              289\n",
            "Name: count, dtype: int64\n"
          ]
        }
      ],
      "source": [
        "top_30_status = data_6['status'].value_counts().nlargest(30)\n",
        "\n",
        "print(top_30_status)"
      ]
    },
    {
      "cell_type": "markdown",
      "metadata": {
        "id": "5vs8LW6BhXg7"
      },
      "source": [
        "### 2.8. Группировка значений признака \"propertytype\""
      ]
    },
    {
      "cell_type": "code",
      "execution_count": 32,
      "metadata": {
        "colab": {
          "base_uri": "https://localhost:8080/"
        },
        "id": "8V23_lPVY0qW",
        "outputId": "1bfc735a-ea70-4d12-ae18-279a62767151"
      },
      "outputs": [
        {
          "name": "stdout",
          "output_type": "stream",
          "text": [
            "propertytype\n",
            "single-family home               92206\n",
            "Single Family                    62869\n",
            "Single Family Home               31728\n",
            "condo                            25968\n",
            "lot/land                         20552\n",
            "Condo                            16561\n",
            "townhouse                        11464\n",
            "Land                             10934\n",
            "multi-family                      7900\n",
            "Condo/Townhome/Row Home/Co-Op     7701\n",
            "Townhouse                         6936\n",
            "Traditional                       5913\n",
            "coop                              3266\n",
            "Multi Family                      2794\n",
            "High Rise                         1823\n",
            "Ranch                             1781\n",
            "mobile/manufactured               1618\n",
            "Detached, One Story               1614\n",
            "Single Detached, Traditional      1581\n",
            "Contemporary                      1557\n",
            "Multi-Family Home                 1501\n",
            "1 Story                           1234\n",
            "Colonial                          1205\n",
            "Mobile / Manufactured             1066\n",
            "Contemporary/Modern               1000\n",
            "2 Stories                          911\n",
            "Mfd/Mobile Home                    792\n",
            "Single Detached                    751\n",
            "Detached, Two Story                638\n",
            "Apartment                          609\n",
            "Name: count, dtype: int64\n"
          ]
        }
      ],
      "source": [
        "top_30_property_types = data_6['propertytype'].value_counts().nlargest(30)\n",
        "\n",
        "print(top_30_property_types)"
      ]
    },
    {
      "cell_type": "code",
      "execution_count": 33,
      "metadata": {
        "id": "5pxXuBZzhyot"
      },
      "outputs": [],
      "source": [
        "# Формируем список ключевых слов\n",
        "propertytype_key_words = ['single', 'condo', 'townhouse', 'land', 'traditional', 'coop', 'multi', 'rise', 'ranch', 'detached', 'apartment']"
      ]
    },
    {
      "cell_type": "code",
      "execution_count": 34,
      "metadata": {
        "id": "Z-IWAhairSCq"
      },
      "outputs": [],
      "source": [
        "import pandas as pd\n",
        "\n",
        "def categorize_propertytype(propertytype):\n",
        "    \"\"\"Категоризирует тип недвижимости на основе ключевых слов.\"\"\"\n",
        "    if pd.isna(propertytype):\n",
        "        return 'other'\n",
        "\n",
        "    keywords = ['single', 'condo', 'townhouse', 'land', 'traditional', 'coop', 'multi', 'rise', 'ranch', 'detached', 'apartment']\n",
        "    propertytype = str(propertytype).lower() # Приведение к нижнему регистру для надежности\n",
        "    for keyword in keywords:\n",
        "        if keyword in propertytype:\n",
        "            return keyword\n",
        "    return 'other'\n",
        "\n",
        "data_6['propertytype'] = data_6['propertytype'].apply(categorize_propertytype)\n"
      ]
    },
    {
      "cell_type": "code",
      "execution_count": 35,
      "metadata": {
        "colab": {
          "base_uri": "https://localhost:8080/"
        },
        "id": "oItCZTpZr869",
        "outputId": "b6c587a8-c679-45cb-99f7-1f4228b007b9"
      },
      "outputs": [
        {
          "name": "stdout",
          "output_type": "stream",
          "text": [
            "propertytype\n",
            "single         190447\n",
            "other           53110\n",
            "condo           51225\n",
            "land            31494\n",
            "townhouse       18572\n",
            "multi           12499\n",
            "traditional      7566\n",
            "coop             3801\n",
            "ranch            2802\n",
            "detached         2553\n",
            "rise             2175\n",
            "apartment         941\n",
            "Name: count, dtype: int64\n"
          ]
        }
      ],
      "source": [
        "top_30_property_types = data_6['propertytype'].value_counts().nlargest(30)\n",
        "\n",
        "print(top_30_property_types)"
      ]
    },
    {
      "cell_type": "code",
      "execution_count": 36,
      "metadata": {
        "colab": {
          "base_uri": "https://localhost:8080/",
          "height": 293
        },
        "id": "eV3c4eonsQ0a",
        "outputId": "8f40c747-65e9-4155-8bf0-f418b6f3617f"
      },
      "outputs": [
        {
          "data": {
            "text/html": [
              "<div>\n",
              "<style scoped>\n",
              "    .dataframe tbody tr th:only-of-type {\n",
              "        vertical-align: middle;\n",
              "    }\n",
              "\n",
              "    .dataframe tbody tr th {\n",
              "        vertical-align: top;\n",
              "    }\n",
              "\n",
              "    .dataframe thead th {\n",
              "        text-align: right;\n",
              "    }\n",
              "</style>\n",
              "<table border=\"1\" class=\"dataframe\">\n",
              "  <thead>\n",
              "    <tr style=\"text-align: right;\">\n",
              "      <th></th>\n",
              "      <th>status</th>\n",
              "      <th>propertytype</th>\n",
              "      <th>street</th>\n",
              "      <th>baths</th>\n",
              "      <th>city</th>\n",
              "      <th>sqft</th>\n",
              "      <th>zipcode</th>\n",
              "      <th>beds</th>\n",
              "      <th>state</th>\n",
              "      <th>target</th>\n",
              "      <th>Year built</th>\n",
              "      <th>Remodeled year</th>\n",
              "      <th>Heating</th>\n",
              "      <th>Cooling</th>\n",
              "      <th>Parking</th>\n",
              "      <th>lotsize</th>\n",
              "      <th>Price/sqft</th>\n",
              "    </tr>\n",
              "  </thead>\n",
              "  <tbody>\n",
              "    <tr>\n",
              "      <th>0</th>\n",
              "      <td>active</td>\n",
              "      <td>single</td>\n",
              "      <td>240 Heather Ln</td>\n",
              "      <td>3.5</td>\n",
              "      <td>Southern Pines</td>\n",
              "      <td>2900</td>\n",
              "      <td>28387</td>\n",
              "      <td>4.0</td>\n",
              "      <td>NC</td>\n",
              "      <td>418000.0</td>\n",
              "      <td>2019</td>\n",
              "      <td>1986</td>\n",
              "      <td>Central A/C, Heat Pump</td>\n",
              "      <td></td>\n",
              "      <td></td>\n",
              "      <td>4578.0</td>\n",
              "      <td>144</td>\n",
              "    </tr>\n",
              "    <tr>\n",
              "      <th>1</th>\n",
              "      <td>sale</td>\n",
              "      <td>single</td>\n",
              "      <td>12911 E Heroy Ave</td>\n",
              "      <td>3.0</td>\n",
              "      <td>Spokane Valley</td>\n",
              "      <td>1947</td>\n",
              "      <td>99216</td>\n",
              "      <td>3.0</td>\n",
              "      <td>WA</td>\n",
              "      <td>310000.0</td>\n",
              "      <td>2019</td>\n",
              "      <td>1986</td>\n",
              "      <td></td>\n",
              "      <td></td>\n",
              "      <td></td>\n",
              "      <td>5828.0</td>\n",
              "      <td>159</td>\n",
              "    </tr>\n",
              "    <tr>\n",
              "      <th>2</th>\n",
              "      <td>sale</td>\n",
              "      <td>single</td>\n",
              "      <td>2005 Westridge Rd</td>\n",
              "      <td>2.0</td>\n",
              "      <td>Los Angeles</td>\n",
              "      <td>3000</td>\n",
              "      <td>90049</td>\n",
              "      <td>3.0</td>\n",
              "      <td>CA</td>\n",
              "      <td>2895000.0</td>\n",
              "      <td>1961</td>\n",
              "      <td>1967</td>\n",
              "      <td>Forced Air</td>\n",
              "      <td>Central</td>\n",
              "      <td>Attached Garage</td>\n",
              "      <td>8626.0</td>\n",
              "      <td>965</td>\n",
              "    </tr>\n",
              "    <tr>\n",
              "      <th>3</th>\n",
              "      <td>sale</td>\n",
              "      <td>single</td>\n",
              "      <td>4311 Livingston Ave</td>\n",
              "      <td>8.0</td>\n",
              "      <td>Dallas</td>\n",
              "      <td>6457</td>\n",
              "      <td>75205</td>\n",
              "      <td>5.0</td>\n",
              "      <td>TX</td>\n",
              "      <td>2395000.0</td>\n",
              "      <td>2006</td>\n",
              "      <td>2006</td>\n",
              "      <td>Forced Air</td>\n",
              "      <td>Central</td>\n",
              "      <td>Detached Garage</td>\n",
              "      <td>8220.0</td>\n",
              "      <td>371</td>\n",
              "    </tr>\n",
              "    <tr>\n",
              "      <th>4</th>\n",
              "      <td>sale</td>\n",
              "      <td>land</td>\n",
              "      <td>1524 Kiscoe St</td>\n",
              "      <td>2.5</td>\n",
              "      <td>Palm Bay</td>\n",
              "      <td>1800</td>\n",
              "      <td>32908</td>\n",
              "      <td>3.0</td>\n",
              "      <td>FL</td>\n",
              "      <td>5000.0</td>\n",
              "      <td>1985</td>\n",
              "      <td>1986</td>\n",
              "      <td></td>\n",
              "      <td></td>\n",
              "      <td></td>\n",
              "      <td>10019.0</td>\n",
              "      <td>176</td>\n",
              "    </tr>\n",
              "  </tbody>\n",
              "</table>\n",
              "</div>"
            ],
            "text/plain": [
              "   status propertytype               street  baths            city  sqft   \n",
              "0  active       single       240 Heather Ln    3.5  Southern Pines  2900  \\\n",
              "1    sale       single    12911 E Heroy Ave    3.0  Spokane Valley  1947   \n",
              "2    sale       single    2005 Westridge Rd    2.0     Los Angeles  3000   \n",
              "3    sale       single  4311 Livingston Ave    8.0          Dallas  6457   \n",
              "4    sale         land       1524 Kiscoe St    2.5        Palm Bay  1800   \n",
              "\n",
              "   zipcode  beds state     target  Year built  Remodeled year   \n",
              "0    28387   4.0    NC   418000.0        2019            1986  \\\n",
              "1    99216   3.0    WA   310000.0        2019            1986   \n",
              "2    90049   3.0    CA  2895000.0        1961            1967   \n",
              "3    75205   5.0    TX  2395000.0        2006            2006   \n",
              "4    32908   3.0    FL     5000.0        1985            1986   \n",
              "\n",
              "                  Heating  Cooling          Parking  lotsize  Price/sqft  \n",
              "0  Central A/C, Heat Pump                             4578.0         144  \n",
              "1                                                     5828.0         159  \n",
              "2              Forced Air  Central  Attached Garage   8626.0         965  \n",
              "3              Forced Air  Central  Detached Garage   8220.0         371  \n",
              "4                                                    10019.0         176  "
            ]
          },
          "execution_count": 36,
          "metadata": {},
          "output_type": "execute_result"
        }
      ],
      "source": [
        "data_6.head()"
      ]
    },
    {
      "cell_type": "markdown",
      "metadata": {
        "id": "NBq2DM83uzee"
      },
      "source": [
        "### 2.9. Преобразуем признак \"street\"\n",
        "\n"
      ]
    },
    {
      "cell_type": "code",
      "execution_count": 37,
      "metadata": {
        "colab": {
          "base_uri": "https://localhost:8080/"
        },
        "id": "PIqDvaTDycH1",
        "outputId": "ea9b59e0-34d9-40c6-feb9-9867194a217f"
      },
      "outputs": [
        {
          "name": "stdout",
          "output_type": "stream",
          "text": [
            "street\n",
            "Address Not Disclosed          672\n",
            "Undisclosed Address            517\n",
            "(undisclosed Address)          391\n",
            "Address Not Available          175\n",
            "Unknown Address                 72\n",
            "2103 E State Hwy 21             57\n",
            "11305 Gulf Fwy                  54\n",
            "17030 Youngblood Rd.            38\n",
            "NE 58th Cir                     34\n",
            "9470 Lancaster Rd. SW           32\n",
            "1 Palmer Dr                     27\n",
            "8426 Terrace Valley Circle      25\n",
            "9845 Basil Western Rd NW        25\n",
            "6320 SW 89th Court Road         24\n",
            "8447 SW 99th Street Rd          22\n",
            "5221 S. Zapata Hwy              20\n",
            "Whitetail Trail                 19\n",
            "Stone Bluff Drive               18\n",
            "3435 Heather Garden Trail       17\n",
            "2005 West Happy Valley Road     17\n",
            "3423 Heather Garden Trail       17\n",
            "Boncher Blvd                    17\n",
            "1365 Neihart Way                17\n",
            "24423 Ferdossa Drive            17\n",
            "1727 Opal Field Lane            17\n",
            "50 Leanni Way                   16\n",
            "606 Vineyard Hollow Court       16\n",
            "11 Pheasant Drive               16\n",
            "1024 Dali Blvd.                 16\n",
            "9915 Camellia Gardens Drive     15\n",
            "Name: count, dtype: int64\n"
          ]
        }
      ],
      "source": [
        "# Посмотрим топ 30 уникальных значений\n",
        "top_30_street = data_6['street'].value_counts().nlargest(30)\n",
        "\n",
        "print(top_30_street)"
      ]
    },
    {
      "cell_type": "code",
      "execution_count": 38,
      "metadata": {
        "id": "DdtS0dox04BW"
      },
      "outputs": [],
      "source": [
        "#Заменим пропуски и статусы, обозначающие отсутствие данных на \"other\"\n",
        "data_6['street'] = data_6['street'].fillna('other') # Заменяем NaN на 'other'\n",
        "data_6['street'] = data_6['street'].replace(['Address Not Disclosed', 'Undisclosed Address', '(undisclosed Address)', 'Address Not Available', 'Unknown Address'], 'other')"
      ]
    },
    {
      "cell_type": "code",
      "execution_count": 39,
      "metadata": {
        "colab": {
          "base_uri": "https://localhost:8080/"
        },
        "id": "MxWEGUdG0856",
        "outputId": "7f934582-8625-4c6f-acca-a3603b3d60b8"
      },
      "outputs": [
        {
          "name": "stdout",
          "output_type": "stream",
          "text": [
            "street\n",
            "other                            1829\n",
            "2103 E State Hwy 21                57\n",
            "11305 Gulf Fwy                     54\n",
            "17030 Youngblood Rd.               38\n",
            "NE 58th Cir                        34\n",
            "9470 Lancaster Rd. SW              32\n",
            "1 Palmer Dr                        27\n",
            "8426 Terrace Valley Circle         25\n",
            "9845 Basil Western Rd NW           25\n",
            "6320 SW 89th Court Road            24\n",
            "8447 SW 99th Street Rd             22\n",
            "5221 S. Zapata Hwy                 20\n",
            "Whitetail Trail                    19\n",
            "Stone Bluff Drive                  18\n",
            "1727 Opal Field Lane               17\n",
            "Boncher Blvd                       17\n",
            "3423 Heather Garden Trail          17\n",
            "2005 West Happy Valley Road        17\n",
            "3435 Heather Garden Trail          17\n",
            "24423 Ferdossa Drive               17\n",
            "1365 Neihart Way                   17\n",
            "11 Pheasant Drive                  16\n",
            "606 Vineyard Hollow Court          16\n",
            "50 Leanni Way                      16\n",
            "1024 Dali Blvd.                    16\n",
            "9915 Camellia Gardens Drive        15\n",
            "13410 Canterbury Castle Drive      15\n",
            "1009 Rio De Janeiro Ave            15\n",
            "4707 Staffordshire Lane            14\n",
            "2914 Karlissa Trail                14\n",
            "Name: count, dtype: int64\n"
          ]
        }
      ],
      "source": [
        "top_30_street = data_6['street'].value_counts().nlargest(30)\n",
        "\n",
        "print(top_30_street)"
      ]
    },
    {
      "cell_type": "code",
      "execution_count": 40,
      "metadata": {
        "colab": {
          "base_uri": "https://localhost:8080/"
        },
        "id": "dk9DjVhx0_1l",
        "outputId": "86364391-e8d2-40ff-90b9-1501dc5fcf99"
      },
      "outputs": [
        {
          "name": "stdout",
          "output_type": "stream",
          "text": [
            "<class 'pandas.core.frame.DataFrame'>\n",
            "RangeIndex: 377185 entries, 0 to 377184\n",
            "Data columns (total 17 columns):\n",
            " #   Column          Non-Null Count   Dtype  \n",
            "---  ------          --------------   -----  \n",
            " 0   status          377185 non-null  object \n",
            " 1   propertytype    377185 non-null  object \n",
            " 2   street          377185 non-null  object \n",
            " 3   baths           377185 non-null  float64\n",
            " 4   city            377151 non-null  object \n",
            " 5   sqft            377185 non-null  int32  \n",
            " 6   zipcode         377185 non-null  int32  \n",
            " 7   beds            377185 non-null  float64\n",
            " 8   state           377185 non-null  object \n",
            " 9   target          374704 non-null  float64\n",
            " 10  Year built      377185 non-null  int32  \n",
            " 11  Remodeled year  377185 non-null  int32  \n",
            " 12  Heating         373652 non-null  object \n",
            " 13  Cooling         373652 non-null  object \n",
            " 14  Parking         373652 non-null  object \n",
            " 15  lotsize         377185 non-null  float64\n",
            " 16  Price/sqft      377185 non-null  int32  \n",
            "dtypes: float64(4), int32(5), object(8)\n",
            "memory usage: 41.7+ MB\n"
          ]
        }
      ],
      "source": [
        "data_6.info()"
      ]
    },
    {
      "cell_type": "code",
      "execution_count": 41,
      "metadata": {
        "colab": {
          "base_uri": "https://localhost:8080/"
        },
        "id": "blauctZD1aAK",
        "outputId": "af83acd1-a6de-4dc2-83b4-d4985cf153d3"
      },
      "outputs": [
        {
          "name": "stdout",
          "output_type": "stream",
          "text": [
            "Количество уникальных статусов в 'street': 337072\n"
          ]
        }
      ],
      "source": [
        "n_unique_streets = data_6['street'].nunique()\n",
        "print(f\"Количество уникальных статусов в 'street': {n_unique_streets}\")\n"
      ]
    },
    {
      "cell_type": "markdown",
      "metadata": {
        "id": "HHU2ZKvd4lm2"
      },
      "source": [
        "В данном случае, когда признак \"street\" представляет собой адрес недвижимости, а целевая переменная - стоимость недвижимости, можно рассмотреть следующие методы кодирования:\n",
        "\n",
        "1. **Target Encoding**: Этот метод может быть особенно полезен в вашем случае. Вы можете заменить каждое уникальное значение в признаке \"street\" на среднюю стоимость недвижимости (target) для этого адреса. Это позволит сохранить информацию о влиянии каждого адреса на стоимость."
      ]
    },
    {
      "cell_type": "code",
      "execution_count": 42,
      "metadata": {
        "colab": {
          "base_uri": "https://localhost:8080/",
          "height": 293
        },
        "id": "btGsA0gS5UXM",
        "outputId": "520db0fc-afb4-421a-de92-4f19891e7371"
      },
      "outputs": [
        {
          "data": {
            "text/html": [
              "<div>\n",
              "<style scoped>\n",
              "    .dataframe tbody tr th:only-of-type {\n",
              "        vertical-align: middle;\n",
              "    }\n",
              "\n",
              "    .dataframe tbody tr th {\n",
              "        vertical-align: top;\n",
              "    }\n",
              "\n",
              "    .dataframe thead th {\n",
              "        text-align: right;\n",
              "    }\n",
              "</style>\n",
              "<table border=\"1\" class=\"dataframe\">\n",
              "  <thead>\n",
              "    <tr style=\"text-align: right;\">\n",
              "      <th></th>\n",
              "      <th>status</th>\n",
              "      <th>propertytype</th>\n",
              "      <th>street</th>\n",
              "      <th>baths</th>\n",
              "      <th>city</th>\n",
              "      <th>sqft</th>\n",
              "      <th>zipcode</th>\n",
              "      <th>beds</th>\n",
              "      <th>state</th>\n",
              "      <th>target</th>\n",
              "      <th>Year built</th>\n",
              "      <th>Remodeled year</th>\n",
              "      <th>Heating</th>\n",
              "      <th>Cooling</th>\n",
              "      <th>Parking</th>\n",
              "      <th>lotsize</th>\n",
              "      <th>Price/sqft</th>\n",
              "    </tr>\n",
              "  </thead>\n",
              "  <tbody>\n",
              "    <tr>\n",
              "      <th>0</th>\n",
              "      <td>active</td>\n",
              "      <td>single</td>\n",
              "      <td>240 Heather Ln</td>\n",
              "      <td>3.5</td>\n",
              "      <td>Southern Pines</td>\n",
              "      <td>2900</td>\n",
              "      <td>28387</td>\n",
              "      <td>4.0</td>\n",
              "      <td>NC</td>\n",
              "      <td>418000.0</td>\n",
              "      <td>2019</td>\n",
              "      <td>1986</td>\n",
              "      <td>Central A/C, Heat Pump</td>\n",
              "      <td></td>\n",
              "      <td></td>\n",
              "      <td>4578.0</td>\n",
              "      <td>144</td>\n",
              "    </tr>\n",
              "    <tr>\n",
              "      <th>1</th>\n",
              "      <td>sale</td>\n",
              "      <td>single</td>\n",
              "      <td>12911 E Heroy Ave</td>\n",
              "      <td>3.0</td>\n",
              "      <td>Spokane Valley</td>\n",
              "      <td>1947</td>\n",
              "      <td>99216</td>\n",
              "      <td>3.0</td>\n",
              "      <td>WA</td>\n",
              "      <td>310000.0</td>\n",
              "      <td>2019</td>\n",
              "      <td>1986</td>\n",
              "      <td></td>\n",
              "      <td></td>\n",
              "      <td></td>\n",
              "      <td>5828.0</td>\n",
              "      <td>159</td>\n",
              "    </tr>\n",
              "    <tr>\n",
              "      <th>2</th>\n",
              "      <td>sale</td>\n",
              "      <td>single</td>\n",
              "      <td>2005 Westridge Rd</td>\n",
              "      <td>2.0</td>\n",
              "      <td>Los Angeles</td>\n",
              "      <td>3000</td>\n",
              "      <td>90049</td>\n",
              "      <td>3.0</td>\n",
              "      <td>CA</td>\n",
              "      <td>2895000.0</td>\n",
              "      <td>1961</td>\n",
              "      <td>1967</td>\n",
              "      <td>Forced Air</td>\n",
              "      <td>Central</td>\n",
              "      <td>Attached Garage</td>\n",
              "      <td>8626.0</td>\n",
              "      <td>965</td>\n",
              "    </tr>\n",
              "    <tr>\n",
              "      <th>3</th>\n",
              "      <td>sale</td>\n",
              "      <td>single</td>\n",
              "      <td>4311 Livingston Ave</td>\n",
              "      <td>8.0</td>\n",
              "      <td>Dallas</td>\n",
              "      <td>6457</td>\n",
              "      <td>75205</td>\n",
              "      <td>5.0</td>\n",
              "      <td>TX</td>\n",
              "      <td>2395000.0</td>\n",
              "      <td>2006</td>\n",
              "      <td>2006</td>\n",
              "      <td>Forced Air</td>\n",
              "      <td>Central</td>\n",
              "      <td>Detached Garage</td>\n",
              "      <td>8220.0</td>\n",
              "      <td>371</td>\n",
              "    </tr>\n",
              "    <tr>\n",
              "      <th>4</th>\n",
              "      <td>sale</td>\n",
              "      <td>land</td>\n",
              "      <td>1524 Kiscoe St</td>\n",
              "      <td>2.5</td>\n",
              "      <td>Palm Bay</td>\n",
              "      <td>1800</td>\n",
              "      <td>32908</td>\n",
              "      <td>3.0</td>\n",
              "      <td>FL</td>\n",
              "      <td>5000.0</td>\n",
              "      <td>1985</td>\n",
              "      <td>1986</td>\n",
              "      <td></td>\n",
              "      <td></td>\n",
              "      <td></td>\n",
              "      <td>10019.0</td>\n",
              "      <td>176</td>\n",
              "    </tr>\n",
              "  </tbody>\n",
              "</table>\n",
              "</div>"
            ],
            "text/plain": [
              "   status propertytype               street  baths            city  sqft   \n",
              "0  active       single       240 Heather Ln    3.5  Southern Pines  2900  \\\n",
              "1    sale       single    12911 E Heroy Ave    3.0  Spokane Valley  1947   \n",
              "2    sale       single    2005 Westridge Rd    2.0     Los Angeles  3000   \n",
              "3    sale       single  4311 Livingston Ave    8.0          Dallas  6457   \n",
              "4    sale         land       1524 Kiscoe St    2.5        Palm Bay  1800   \n",
              "\n",
              "   zipcode  beds state     target  Year built  Remodeled year   \n",
              "0    28387   4.0    NC   418000.0        2019            1986  \\\n",
              "1    99216   3.0    WA   310000.0        2019            1986   \n",
              "2    90049   3.0    CA  2895000.0        1961            1967   \n",
              "3    75205   5.0    TX  2395000.0        2006            2006   \n",
              "4    32908   3.0    FL     5000.0        1985            1986   \n",
              "\n",
              "                  Heating  Cooling          Parking  lotsize  Price/sqft  \n",
              "0  Central A/C, Heat Pump                             4578.0         144  \n",
              "1                                                     5828.0         159  \n",
              "2              Forced Air  Central  Attached Garage   8626.0         965  \n",
              "3              Forced Air  Central  Detached Garage   8220.0         371  \n",
              "4                                                    10019.0         176  "
            ]
          },
          "execution_count": 42,
          "metadata": {},
          "output_type": "execute_result"
        }
      ],
      "source": [
        "data_6.head()"
      ]
    },
    {
      "cell_type": "markdown",
      "metadata": {
        "id": "ir8Nfut95mEQ"
      },
      "source": [
        "### 2.10. Преобразуем признак \"city\""
      ]
    },
    {
      "cell_type": "code",
      "execution_count": 43,
      "metadata": {
        "colab": {
          "base_uri": "https://localhost:8080/"
        },
        "id": "D5fO_oyE56OR",
        "outputId": "e9135fde-8294-44a7-d032-42e166a92ff5"
      },
      "outputs": [
        {
          "name": "stdout",
          "output_type": "stream",
          "text": [
            "city\n",
            "Houston             24442\n",
            "San Antonio         15592\n",
            "Miami               15524\n",
            "Jacksonville        10015\n",
            "Dallas               8856\n",
            "Brooklyn             7291\n",
            "Chicago              6968\n",
            "New York             6919\n",
            "Charlotte            6543\n",
            "Las Vegas            6006\n",
            "Fort Worth           5518\n",
            "Orlando              5230\n",
            "Austin               5155\n",
            "Fort Lauderdale      5103\n",
            "Cleveland            5029\n",
            "Nashville            5011\n",
            "Tampa                4833\n",
            "Philadelphia         4797\n",
            "Washington           4674\n",
            "Los Angeles          4174\n",
            "Seattle              4081\n",
            "Atlanta              3976\n",
            "Ocala                3323\n",
            "Palm Coast           3248\n",
            "Detroit              3134\n",
            "Kissimmee            3116\n",
            "Indianapolis         2709\n",
            "Miami Beach          2634\n",
            "Saint Petersburg     2551\n",
            "Memphis              2506\n",
            "Name: count, dtype: int64\n"
          ]
        }
      ],
      "source": [
        "# Посмотрим топ 30 уникальных значений\n",
        "top_30_city = data_6['city'].value_counts().nlargest(30)\n",
        "\n",
        "print(top_30_city)"
      ]
    },
    {
      "cell_type": "code",
      "execution_count": 44,
      "metadata": {
        "id": "g_Bi8PI06YdX"
      },
      "outputs": [],
      "source": [
        "#Заменим пропуски и статусы, обозначающие отсутствие данных на \"other\"\n",
        "data_6['city'] = data_6['city'].fillna('other') # Заменяем NaN на 'other'"
      ]
    },
    {
      "cell_type": "markdown",
      "metadata": {
        "id": "7MYhi3vr6uBE"
      },
      "source": [
        "### 2.11. Преобразуем признак \"Heating\""
      ]
    },
    {
      "cell_type": "code",
      "execution_count": 45,
      "metadata": {
        "colab": {
          "base_uri": "https://localhost:8080/"
        },
        "id": "nC--xoQu7AB9",
        "outputId": "9a6c7390-c1eb-47bf-c6e9-46a5b53727ba"
      },
      "outputs": [
        {
          "name": "stdout",
          "output_type": "stream",
          "text": [
            "Heating\n",
            "                               105799\n",
            "Forced Air                      82807\n",
            "Forced air                      51506\n",
            "Other                           29623\n",
            "Electric                        10211\n",
            "Gas                              9296\n",
            "No Data                          8611\n",
            "Central Air                      7814\n",
            "Central Electric                 7112\n",
            "Central                          6247\n",
            "Heat Pump                        6104\n",
            "Central, Electric                4253\n",
            "Baseboard                        3815\n",
            "Wall                             3301\n",
            "Electric Heat                    3064\n",
            "Heat pump                        2747\n",
            "Heating System                   2709\n",
            "Forced air, Heat pump            1727\n",
            "Radiant                          1485\n",
            "Central Air, Ceiling Fan(s)      1432\n",
            "Natural Gas Heat                 1383\n",
            "Central Furnace                  1036\n",
            "Forced Air, Gas                   962\n",
            "Central Electric, Zoned           873\n",
            "Forced Air Heating                810\n",
            ", Gas Hot Air/Furnace             776\n",
            "Gas Heat                          769\n",
            "Forced Air, Natural Gas           737\n",
            "Central Heating                   646\n",
            "Central Gas                       632\n",
            "Name: count, dtype: int64\n"
          ]
        }
      ],
      "source": [
        "# Посмотрим топ 30 уникальных значений\n",
        "top_30_Heating = data_6['Heating'].value_counts().nlargest(30)\n",
        "\n",
        "print(top_30_Heating)"
      ]
    },
    {
      "cell_type": "code",
      "execution_count": 46,
      "metadata": {
        "colab": {
          "base_uri": "https://localhost:8080/"
        },
        "id": "r1Dg1A_W0QzD",
        "outputId": "02c4a354-15ae-45ad-f100-fbab34c80c88"
      },
      "outputs": [
        {
          "name": "stdout",
          "output_type": "stream",
          "text": [
            "Heating\n",
            "                               105799\n",
            "Forced Air                      82807\n",
            "Forced air                      51506\n",
            "Other                           29623\n",
            "Electric                        10211\n",
            "Gas                              9296\n",
            "No Data                          8611\n",
            "Central Air                      7814\n",
            "Central Electric                 7112\n",
            "Central                          6247\n",
            "Heat Pump                        6104\n",
            "Central, Electric                4253\n",
            "Baseboard                        3815\n",
            "Wall                             3301\n",
            "Electric Heat                    3064\n",
            "Heat pump                        2747\n",
            "Heating System                   2709\n",
            "Forced air, Heat pump            1727\n",
            "Radiant                          1485\n",
            "Central Air, Ceiling Fan(s)      1432\n",
            "Natural Gas Heat                 1383\n",
            "Central Furnace                  1036\n",
            "Forced Air, Gas                   962\n",
            "Central Electric, Zoned           873\n",
            "Forced Air Heating                810\n",
            ", Gas Hot Air/Furnace             776\n",
            "Gas Heat                          769\n",
            "Forced Air, Natural Gas           737\n",
            "Central Heating                   646\n",
            "Central Gas                       632\n",
            "Name: count, dtype: int64\n"
          ]
        }
      ],
      "source": [
        "# Посмотрим топ 30 уникальных значений\n",
        "top_30_Heating = data_6['Heating'].value_counts().nlargest(30)\n",
        "\n",
        "print(top_30_Heating)"
      ]
    },
    {
      "cell_type": "markdown",
      "metadata": {
        "id": "3Beb4rNJ6A8P"
      },
      "source": [
        "При выводе топ 30 уникальных значений признака 'Heating' видно, что есть пустое значение признака, но как пропуск это значение не читается. Судя по выводу, статус с частотой 105799 представлен пробелами. Pandas не распознает его как NaN, но при выводе `value_counts()` он отображается как пустая строка. Проведем преобразования ниже:"
      ]
    },
    {
      "cell_type": "code",
      "execution_count": 47,
      "metadata": {
        "colab": {
          "base_uri": "https://localhost:8080/"
        },
        "id": "QS3lwSnU1-Xn",
        "outputId": "76a51c56-0964-4f50-dd94-f69fb8df7161"
      },
      "outputs": [
        {
          "name": "stdout",
          "output_type": "stream",
          "text": [
            "Количество пустых строк в 'Heating': 105799\n",
            "Heating\n",
            "other                                                           109332\n",
            "Forced Air                                                       82807\n",
            "Forced air                                                       51506\n",
            "Other                                                            29623\n",
            "Electric                                                         10211\n",
            "                                                                 ...  \n",
            "Natural Gas, Space Heater                                            1\n",
            "Exhaust Fans                                                         1\n",
            "Central, Exhaust Fans, Natural Gas, Zoned                            1\n",
            "BR Closet-Electric - new                                             1\n",
            "Baseboard, Hot Water, Programmable Thermostat, Radiant Floor         1\n",
            "Name: count, Length: 1984, dtype: int64\n"
          ]
        }
      ],
      "source": [
        "# Выводим количество строк с пустым значением 'Heating'\n",
        "empty_heating_count = data_6['Heating'][data_6['Heating'] == ''].count()\n",
        "print(f\"Количество пустых строк в 'Heating': {empty_heating_count}\")\n",
        "\n",
        "# Заменяем пустые строки на 'other'\n",
        "data_6['Heating'] = data_6['Heating'].replace('', 'other')\n",
        "data_6['Heating'] = data_6['Heating'].fillna('other') # заполняем пропуски\n",
        "\n",
        "# Проверяем результат\n",
        "heating_counts = data_6['Heating'].value_counts()\n",
        "print(heating_counts)\n"
      ]
    },
    {
      "cell_type": "code",
      "execution_count": 48,
      "metadata": {
        "colab": {
          "base_uri": "https://localhost:8080/"
        },
        "id": "rLkrygEz7iMK",
        "outputId": "a205674f-209d-4f03-eaf1-64b14822f616"
      },
      "outputs": [
        {
          "name": "stdout",
          "output_type": "stream",
          "text": [
            "Heating\n",
            "other                          109332\n",
            "Forced Air                      82807\n",
            "Forced air                      51506\n",
            "Other                           29623\n",
            "Electric                        10211\n",
            "Gas                              9296\n",
            "No Data                          8611\n",
            "Central Air                      7814\n",
            "Central Electric                 7112\n",
            "Central                          6247\n",
            "Heat Pump                        6104\n",
            "Central, Electric                4253\n",
            "Baseboard                        3815\n",
            "Wall                             3301\n",
            "Electric Heat                    3064\n",
            "Heat pump                        2747\n",
            "Heating System                   2709\n",
            "Forced air, Heat pump            1727\n",
            "Radiant                          1485\n",
            "Central Air, Ceiling Fan(s)      1432\n",
            "Natural Gas Heat                 1383\n",
            "Central Furnace                  1036\n",
            "Forced Air, Gas                   962\n",
            "Central Electric, Zoned           873\n",
            "Forced Air Heating                810\n",
            ", Gas Hot Air/Furnace             776\n",
            "Gas Heat                          769\n",
            "Forced Air, Natural Gas           737\n",
            "Central Heating                   646\n",
            "Central Gas                       632\n",
            "Name: count, dtype: int64\n"
          ]
        }
      ],
      "source": [
        "# Посмотрим топ 30 уникальных значений\n",
        "top_30_Heating = data_6['Heating'].value_counts().nlargest(30)\n",
        "\n",
        "print(top_30_Heating)"
      ]
    },
    {
      "cell_type": "code",
      "execution_count": 49,
      "metadata": {
        "id": "KvyBHoPf7pVk"
      },
      "outputs": [],
      "source": [
        "# Создадим словарь ключевых слов\n",
        "heating_key_words = ['forced', 'electric', 'gas', 'pump', 'central', 'baseboard', 'radiant']"
      ]
    },
    {
      "cell_type": "code",
      "execution_count": 50,
      "metadata": {
        "id": "lKcN77av-O_P"
      },
      "outputs": [],
      "source": [
        "def replace_heating_status(status):\n",
        "    for keyword in heating_key_words:\n",
        "        if keyword in status:\n",
        "            return keyword\n",
        "    return 'other'\n",
        "\n",
        "data_6['Heating'] = data_6['Heating'].apply(replace_heating_status)"
      ]
    },
    {
      "cell_type": "code",
      "execution_count": 51,
      "metadata": {
        "colab": {
          "base_uri": "https://localhost:8080/"
        },
        "id": "wnkry9by-XiM",
        "outputId": "11e175ab-ddc3-4686-c435-0296ace827d5"
      },
      "outputs": [
        {
          "name": "stdout",
          "output_type": "stream",
          "text": [
            "Heating\n",
            "other       372392\n",
            "pump          4727\n",
            "electric        44\n",
            "gas             21\n",
            "central          1\n",
            "Name: count, dtype: int64\n"
          ]
        }
      ],
      "source": [
        "# Посмотрим топ 30 уникальных значений\n",
        "top_30_Heating = data_6['Heating'].value_counts().nlargest(30)\n",
        "\n",
        "print(top_30_Heating)"
      ]
    },
    {
      "cell_type": "code",
      "execution_count": 52,
      "metadata": {
        "colab": {
          "base_uri": "https://localhost:8080/",
          "height": 293
        },
        "id": "QkwTTqgr-hsS",
        "outputId": "7570ec69-4c11-4fcc-e1a9-991a112d075a"
      },
      "outputs": [
        {
          "data": {
            "text/html": [
              "<div>\n",
              "<style scoped>\n",
              "    .dataframe tbody tr th:only-of-type {\n",
              "        vertical-align: middle;\n",
              "    }\n",
              "\n",
              "    .dataframe tbody tr th {\n",
              "        vertical-align: top;\n",
              "    }\n",
              "\n",
              "    .dataframe thead th {\n",
              "        text-align: right;\n",
              "    }\n",
              "</style>\n",
              "<table border=\"1\" class=\"dataframe\">\n",
              "  <thead>\n",
              "    <tr style=\"text-align: right;\">\n",
              "      <th></th>\n",
              "      <th>status</th>\n",
              "      <th>propertytype</th>\n",
              "      <th>street</th>\n",
              "      <th>baths</th>\n",
              "      <th>city</th>\n",
              "      <th>sqft</th>\n",
              "      <th>zipcode</th>\n",
              "      <th>beds</th>\n",
              "      <th>state</th>\n",
              "      <th>target</th>\n",
              "      <th>Year built</th>\n",
              "      <th>Remodeled year</th>\n",
              "      <th>Heating</th>\n",
              "      <th>Cooling</th>\n",
              "      <th>Parking</th>\n",
              "      <th>lotsize</th>\n",
              "      <th>Price/sqft</th>\n",
              "    </tr>\n",
              "  </thead>\n",
              "  <tbody>\n",
              "    <tr>\n",
              "      <th>0</th>\n",
              "      <td>active</td>\n",
              "      <td>single</td>\n",
              "      <td>240 Heather Ln</td>\n",
              "      <td>3.5</td>\n",
              "      <td>Southern Pines</td>\n",
              "      <td>2900</td>\n",
              "      <td>28387</td>\n",
              "      <td>4.0</td>\n",
              "      <td>NC</td>\n",
              "      <td>418000.0</td>\n",
              "      <td>2019</td>\n",
              "      <td>1986</td>\n",
              "      <td>other</td>\n",
              "      <td></td>\n",
              "      <td></td>\n",
              "      <td>4578.0</td>\n",
              "      <td>144</td>\n",
              "    </tr>\n",
              "    <tr>\n",
              "      <th>1</th>\n",
              "      <td>sale</td>\n",
              "      <td>single</td>\n",
              "      <td>12911 E Heroy Ave</td>\n",
              "      <td>3.0</td>\n",
              "      <td>Spokane Valley</td>\n",
              "      <td>1947</td>\n",
              "      <td>99216</td>\n",
              "      <td>3.0</td>\n",
              "      <td>WA</td>\n",
              "      <td>310000.0</td>\n",
              "      <td>2019</td>\n",
              "      <td>1986</td>\n",
              "      <td>other</td>\n",
              "      <td></td>\n",
              "      <td></td>\n",
              "      <td>5828.0</td>\n",
              "      <td>159</td>\n",
              "    </tr>\n",
              "    <tr>\n",
              "      <th>2</th>\n",
              "      <td>sale</td>\n",
              "      <td>single</td>\n",
              "      <td>2005 Westridge Rd</td>\n",
              "      <td>2.0</td>\n",
              "      <td>Los Angeles</td>\n",
              "      <td>3000</td>\n",
              "      <td>90049</td>\n",
              "      <td>3.0</td>\n",
              "      <td>CA</td>\n",
              "      <td>2895000.0</td>\n",
              "      <td>1961</td>\n",
              "      <td>1967</td>\n",
              "      <td>other</td>\n",
              "      <td>Central</td>\n",
              "      <td>Attached Garage</td>\n",
              "      <td>8626.0</td>\n",
              "      <td>965</td>\n",
              "    </tr>\n",
              "    <tr>\n",
              "      <th>3</th>\n",
              "      <td>sale</td>\n",
              "      <td>single</td>\n",
              "      <td>4311 Livingston Ave</td>\n",
              "      <td>8.0</td>\n",
              "      <td>Dallas</td>\n",
              "      <td>6457</td>\n",
              "      <td>75205</td>\n",
              "      <td>5.0</td>\n",
              "      <td>TX</td>\n",
              "      <td>2395000.0</td>\n",
              "      <td>2006</td>\n",
              "      <td>2006</td>\n",
              "      <td>other</td>\n",
              "      <td>Central</td>\n",
              "      <td>Detached Garage</td>\n",
              "      <td>8220.0</td>\n",
              "      <td>371</td>\n",
              "    </tr>\n",
              "    <tr>\n",
              "      <th>4</th>\n",
              "      <td>sale</td>\n",
              "      <td>land</td>\n",
              "      <td>1524 Kiscoe St</td>\n",
              "      <td>2.5</td>\n",
              "      <td>Palm Bay</td>\n",
              "      <td>1800</td>\n",
              "      <td>32908</td>\n",
              "      <td>3.0</td>\n",
              "      <td>FL</td>\n",
              "      <td>5000.0</td>\n",
              "      <td>1985</td>\n",
              "      <td>1986</td>\n",
              "      <td>other</td>\n",
              "      <td></td>\n",
              "      <td></td>\n",
              "      <td>10019.0</td>\n",
              "      <td>176</td>\n",
              "    </tr>\n",
              "  </tbody>\n",
              "</table>\n",
              "</div>"
            ],
            "text/plain": [
              "   status propertytype               street  baths            city  sqft   \n",
              "0  active       single       240 Heather Ln    3.5  Southern Pines  2900  \\\n",
              "1    sale       single    12911 E Heroy Ave    3.0  Spokane Valley  1947   \n",
              "2    sale       single    2005 Westridge Rd    2.0     Los Angeles  3000   \n",
              "3    sale       single  4311 Livingston Ave    8.0          Dallas  6457   \n",
              "4    sale         land       1524 Kiscoe St    2.5        Palm Bay  1800   \n",
              "\n",
              "   zipcode  beds state     target  Year built  Remodeled year Heating   \n",
              "0    28387   4.0    NC   418000.0        2019            1986   other  \\\n",
              "1    99216   3.0    WA   310000.0        2019            1986   other   \n",
              "2    90049   3.0    CA  2895000.0        1961            1967   other   \n",
              "3    75205   5.0    TX  2395000.0        2006            2006   other   \n",
              "4    32908   3.0    FL     5000.0        1985            1986   other   \n",
              "\n",
              "   Cooling          Parking  lotsize  Price/sqft  \n",
              "0                             4578.0         144  \n",
              "1                             5828.0         159  \n",
              "2  Central  Attached Garage   8626.0         965  \n",
              "3  Central  Detached Garage   8220.0         371  \n",
              "4                            10019.0         176  "
            ]
          },
          "execution_count": 52,
          "metadata": {},
          "output_type": "execute_result"
        }
      ],
      "source": [
        "data_6.head()"
      ]
    },
    {
      "cell_type": "markdown",
      "metadata": {
        "id": "rq-g9XSE-1n5"
      },
      "source": [
        "### 2.12. Преобразуем признак \"Cooling\""
      ]
    },
    {
      "cell_type": "code",
      "execution_count": 53,
      "metadata": {
        "colab": {
          "base_uri": "https://localhost:8080/"
        },
        "id": "zoU-iBkt_JQE",
        "outputId": "702e46a3-9268-4614-d22c-85371455f362"
      },
      "outputs": [
        {
          "name": "stdout",
          "output_type": "stream",
          "text": [
            "Cooling\n",
            "Central                                            158754\n",
            "                                                   120434\n",
            "Central Air                                         14384\n",
            "No Data                                             10616\n",
            "Has Cooling                                          9730\n",
            "None                                                 7390\n",
            "Central Electric                                     6154\n",
            "Wall                                                 4018\n",
            "Central Gas                                          3573\n",
            "Central Heating                                      2807\n",
            "Cooling System                                       2700\n",
            "Central A/C                                          2051\n",
            "Other                                                1840\n",
            "Central A/C (Electric), Central Heat (Gas)           1646\n",
            "Central A/C (Electric), Central Heat (Electric)      1429\n",
            "Refrigeration                                        1075\n",
            "Central, Electric                                    1060\n",
            "Electric                                             1012\n",
            "Evaporative                                          1011\n",
            "Central Air, Gas Hot Air/Furnace                      827\n",
            "Refrigeration, Ceiling Fan(s)                         787\n",
            "Central Gas, Zoned                                    747\n",
            "Central, Wall                                         724\n",
            "Air Conditioning-Central                              637\n",
            "Has Heating                                           582\n",
            "2 or More Units, Central, Electric                    570\n",
            "Central Air, Gas (Hot Air)                            504\n",
            "Central Electric, Zoned                               465\n",
            "Central Air, Zoned                                    452\n",
            "Solar, Refrigeration                                  427\n",
            "Name: count, dtype: int64\n"
          ]
        }
      ],
      "source": [
        "# Посмотрим топ 30 уникальных значений\n",
        "top_30_сooling = data_6['Cooling'].value_counts().nlargest(30)\n",
        "\n",
        "print(top_30_сooling)"
      ]
    },
    {
      "cell_type": "markdown",
      "metadata": {
        "id": "UzuVEhOK_ld2"
      },
      "source": [
        "При выводе топ 30 уникальных значений признака 'Cooling' видно, что есть пустое значение признака, но как пропуск это значение не читается. Судя по выводу, статус с частотой 120434 представлен пробелами. Pandas не распознает его как NaN, но при выводе value_counts() он отображается как пустая строка. Проведем преобразования ниже:"
      ]
    },
    {
      "cell_type": "code",
      "execution_count": 54,
      "metadata": {
        "colab": {
          "base_uri": "https://localhost:8080/"
        },
        "id": "7O-Pcf0rAACr",
        "outputId": "7dcd83e4-56cf-4da5-d56d-448c8bcde46f"
      },
      "outputs": [
        {
          "name": "stdout",
          "output_type": "stream",
          "text": [
            "Количество пустых строк в 'Cooling': 105799\n",
            "Cooling\n",
            "Central                                                                158754\n",
            "other                                                                  123967\n",
            "Central Air                                                             14384\n",
            "No Data                                                                 10616\n",
            "Has Cooling                                                              9730\n",
            "                                                                        ...  \n",
            "Central Gas, Propane, Zoned                                                 1\n",
            "Other (See Remarks), Panel/Floor/Wall, Window Unit                          1\n",
            "Multi Units, Zoned Cooling                                                  1\n",
            "Central Air, g-Energy Star HVAC, Gas Hot Air/Furnace, Multizone A/C         1\n",
            "Central A/C (Gas), Central Heat (Gas), Heat Pump                            1\n",
            "Name: count, Length: 1445, dtype: int64\n"
          ]
        }
      ],
      "source": [
        "# Выводим количество строк с пустым значением 'Cooling'\n",
        "empty_cooling_count = data_6['Cooling'][data_6['Cooling'] == ''].count()\n",
        "print(f\"Количество пустых строк в 'Cooling': {empty_heating_count}\")\n",
        "\n",
        "# Заменяем пустые строки на 'other'\n",
        "data_6['Cooling'] = data_6['Cooling'].replace('', 'other')\n",
        "data_6['Cooling'] = data_6['Cooling'].fillna('other') # заполняем пропуски\n",
        "\n",
        "# Проверяем результат\n",
        "cooling_counts = data_6['Cooling'].value_counts()\n",
        "print(cooling_counts)"
      ]
    },
    {
      "cell_type": "code",
      "execution_count": 55,
      "metadata": {
        "id": "ZU-cXgM2B2Po"
      },
      "outputs": [],
      "source": [
        "data_6['Cooling'] = data_6['Cooling'].fillna('other') # Заполняем пропуски 'other'\n",
        "data_6['Cooling'] = data_6['Cooling'].str.lower() # Приводим к нижнему регистру\n",
        "\n",
        "# Удаляем знаки препинания\n",
        "data_6['Cooling'] = data_6['Cooling'].apply(lambda x: re.sub(r'[^\\w\\s]', '', x))"
      ]
    },
    {
      "cell_type": "code",
      "execution_count": 56,
      "metadata": {
        "colab": {
          "base_uri": "https://localhost:8080/"
        },
        "id": "IbKNVQNTAoIe",
        "outputId": "01ccd8d7-9deb-4da9-8176-4c92727b4db8"
      },
      "outputs": [
        {
          "name": "stdout",
          "output_type": "stream",
          "text": [
            "Cooling\n",
            "central                                      158754\n",
            "other                                        125807\n",
            "central air                                   14385\n",
            "no data                                       10616\n",
            "has cooling                                    9730\n",
            "none                                           7390\n",
            "central electric                               7214\n",
            "wall                                           4018\n",
            "central gas                                    3573\n",
            "central heating                                2807\n",
            "cooling system                                 2710\n",
            "central ac                                     2130\n",
            "central ac electric central heat gas           1646\n",
            "central ac electric central heat electric      1429\n",
            "refrigeration                                  1075\n",
            "electric                                       1012\n",
            "evaporative                                    1011\n",
            "central air gas hot airfurnace                  827\n",
            "refrigeration ceiling fans                      787\n",
            "central gas zoned                               747\n",
            "central wall                                    724\n",
            "air conditioningcentral                         637\n",
            "has heating                                     582\n",
            "2 or more units central electric                570\n",
            "central air gas hot air                         504\n",
            "central electric zoned                          465\n",
            "central air zoned                               452\n",
            "solar refrigeration                             427\n",
            "central other                                   420\n",
            "ceiling fan central electric                    405\n",
            "Name: count, dtype: int64\n"
          ]
        }
      ],
      "source": [
        "# Посмотрим топ 30 уникальных значений\n",
        "top_30_cooling = data_6['Cooling'].value_counts().nlargest(30)\n",
        "\n",
        "print(top_30_cooling)"
      ]
    },
    {
      "cell_type": "code",
      "execution_count": 57,
      "metadata": {
        "id": "Tnkq8XVyBFJn"
      },
      "outputs": [],
      "source": [
        "# Создадим словарь ключевых слов\n",
        "cooling_key_words = ['central', 'cooling', 'refrigeration']"
      ]
    },
    {
      "cell_type": "code",
      "execution_count": 58,
      "metadata": {
        "id": "ZXmpYteoC8ZG"
      },
      "outputs": [],
      "source": [
        "def replace_cooling_status(status):\n",
        "    for keyword in cooling_key_words:\n",
        "        if keyword in status:\n",
        "            return keyword\n",
        "    return 'other'\n",
        "\n",
        "data_6['Cooling'] = data_6['Cooling'].apply(replace_cooling_status)"
      ]
    },
    {
      "cell_type": "code",
      "execution_count": 59,
      "metadata": {
        "colab": {
          "base_uri": "https://localhost:8080/"
        },
        "id": "8MGQVeZIDAFy",
        "outputId": "25d516d3-5309-4b67-f546-287d1c84ad21"
      },
      "outputs": [
        {
          "name": "stdout",
          "output_type": "stream",
          "text": [
            "Cooling\n",
            "central          204545\n",
            "other            157295\n",
            "cooling           12728\n",
            "refrigeration      2617\n",
            "Name: count, dtype: int64\n"
          ]
        }
      ],
      "source": [
        "# Посмотрим топ 30 уникальных значений\n",
        "top_30_cooling = data_6['Cooling'].value_counts().nlargest(30)\n",
        "\n",
        "print(top_30_cooling)"
      ]
    },
    {
      "cell_type": "code",
      "execution_count": 60,
      "metadata": {
        "colab": {
          "base_uri": "https://localhost:8080/",
          "height": 293
        },
        "id": "vU-8sl8VDQic",
        "outputId": "1d645c09-fd95-49a1-d581-d6240f7b7199"
      },
      "outputs": [
        {
          "data": {
            "text/html": [
              "<div>\n",
              "<style scoped>\n",
              "    .dataframe tbody tr th:only-of-type {\n",
              "        vertical-align: middle;\n",
              "    }\n",
              "\n",
              "    .dataframe tbody tr th {\n",
              "        vertical-align: top;\n",
              "    }\n",
              "\n",
              "    .dataframe thead th {\n",
              "        text-align: right;\n",
              "    }\n",
              "</style>\n",
              "<table border=\"1\" class=\"dataframe\">\n",
              "  <thead>\n",
              "    <tr style=\"text-align: right;\">\n",
              "      <th></th>\n",
              "      <th>status</th>\n",
              "      <th>propertytype</th>\n",
              "      <th>street</th>\n",
              "      <th>baths</th>\n",
              "      <th>city</th>\n",
              "      <th>sqft</th>\n",
              "      <th>zipcode</th>\n",
              "      <th>beds</th>\n",
              "      <th>state</th>\n",
              "      <th>target</th>\n",
              "      <th>Year built</th>\n",
              "      <th>Remodeled year</th>\n",
              "      <th>Heating</th>\n",
              "      <th>Cooling</th>\n",
              "      <th>Parking</th>\n",
              "      <th>lotsize</th>\n",
              "      <th>Price/sqft</th>\n",
              "    </tr>\n",
              "  </thead>\n",
              "  <tbody>\n",
              "    <tr>\n",
              "      <th>0</th>\n",
              "      <td>active</td>\n",
              "      <td>single</td>\n",
              "      <td>240 Heather Ln</td>\n",
              "      <td>3.5</td>\n",
              "      <td>Southern Pines</td>\n",
              "      <td>2900</td>\n",
              "      <td>28387</td>\n",
              "      <td>4.0</td>\n",
              "      <td>NC</td>\n",
              "      <td>418000.0</td>\n",
              "      <td>2019</td>\n",
              "      <td>1986</td>\n",
              "      <td>other</td>\n",
              "      <td>other</td>\n",
              "      <td></td>\n",
              "      <td>4578.0</td>\n",
              "      <td>144</td>\n",
              "    </tr>\n",
              "    <tr>\n",
              "      <th>1</th>\n",
              "      <td>sale</td>\n",
              "      <td>single</td>\n",
              "      <td>12911 E Heroy Ave</td>\n",
              "      <td>3.0</td>\n",
              "      <td>Spokane Valley</td>\n",
              "      <td>1947</td>\n",
              "      <td>99216</td>\n",
              "      <td>3.0</td>\n",
              "      <td>WA</td>\n",
              "      <td>310000.0</td>\n",
              "      <td>2019</td>\n",
              "      <td>1986</td>\n",
              "      <td>other</td>\n",
              "      <td>other</td>\n",
              "      <td></td>\n",
              "      <td>5828.0</td>\n",
              "      <td>159</td>\n",
              "    </tr>\n",
              "    <tr>\n",
              "      <th>2</th>\n",
              "      <td>sale</td>\n",
              "      <td>single</td>\n",
              "      <td>2005 Westridge Rd</td>\n",
              "      <td>2.0</td>\n",
              "      <td>Los Angeles</td>\n",
              "      <td>3000</td>\n",
              "      <td>90049</td>\n",
              "      <td>3.0</td>\n",
              "      <td>CA</td>\n",
              "      <td>2895000.0</td>\n",
              "      <td>1961</td>\n",
              "      <td>1967</td>\n",
              "      <td>other</td>\n",
              "      <td>central</td>\n",
              "      <td>Attached Garage</td>\n",
              "      <td>8626.0</td>\n",
              "      <td>965</td>\n",
              "    </tr>\n",
              "    <tr>\n",
              "      <th>3</th>\n",
              "      <td>sale</td>\n",
              "      <td>single</td>\n",
              "      <td>4311 Livingston Ave</td>\n",
              "      <td>8.0</td>\n",
              "      <td>Dallas</td>\n",
              "      <td>6457</td>\n",
              "      <td>75205</td>\n",
              "      <td>5.0</td>\n",
              "      <td>TX</td>\n",
              "      <td>2395000.0</td>\n",
              "      <td>2006</td>\n",
              "      <td>2006</td>\n",
              "      <td>other</td>\n",
              "      <td>central</td>\n",
              "      <td>Detached Garage</td>\n",
              "      <td>8220.0</td>\n",
              "      <td>371</td>\n",
              "    </tr>\n",
              "    <tr>\n",
              "      <th>4</th>\n",
              "      <td>sale</td>\n",
              "      <td>land</td>\n",
              "      <td>1524 Kiscoe St</td>\n",
              "      <td>2.5</td>\n",
              "      <td>Palm Bay</td>\n",
              "      <td>1800</td>\n",
              "      <td>32908</td>\n",
              "      <td>3.0</td>\n",
              "      <td>FL</td>\n",
              "      <td>5000.0</td>\n",
              "      <td>1985</td>\n",
              "      <td>1986</td>\n",
              "      <td>other</td>\n",
              "      <td>other</td>\n",
              "      <td></td>\n",
              "      <td>10019.0</td>\n",
              "      <td>176</td>\n",
              "    </tr>\n",
              "  </tbody>\n",
              "</table>\n",
              "</div>"
            ],
            "text/plain": [
              "   status propertytype               street  baths            city  sqft   \n",
              "0  active       single       240 Heather Ln    3.5  Southern Pines  2900  \\\n",
              "1    sale       single    12911 E Heroy Ave    3.0  Spokane Valley  1947   \n",
              "2    sale       single    2005 Westridge Rd    2.0     Los Angeles  3000   \n",
              "3    sale       single  4311 Livingston Ave    8.0          Dallas  6457   \n",
              "4    sale         land       1524 Kiscoe St    2.5        Palm Bay  1800   \n",
              "\n",
              "   zipcode  beds state     target  Year built  Remodeled year Heating   \n",
              "0    28387   4.0    NC   418000.0        2019            1986   other  \\\n",
              "1    99216   3.0    WA   310000.0        2019            1986   other   \n",
              "2    90049   3.0    CA  2895000.0        1961            1967   other   \n",
              "3    75205   5.0    TX  2395000.0        2006            2006   other   \n",
              "4    32908   3.0    FL     5000.0        1985            1986   other   \n",
              "\n",
              "   Cooling          Parking  lotsize  Price/sqft  \n",
              "0    other                    4578.0         144  \n",
              "1    other                    5828.0         159  \n",
              "2  central  Attached Garage   8626.0         965  \n",
              "3  central  Detached Garage   8220.0         371  \n",
              "4    other                   10019.0         176  "
            ]
          },
          "execution_count": 60,
          "metadata": {},
          "output_type": "execute_result"
        }
      ],
      "source": [
        "data_6.head()"
      ]
    },
    {
      "cell_type": "markdown",
      "metadata": {
        "id": "-kFU64SaDfh9"
      },
      "source": [
        "### 2.13. Преобразуем признак \"Parking\""
      ]
    },
    {
      "cell_type": "code",
      "execution_count": 61,
      "metadata": {
        "id": "oK9-hCkKDtI-"
      },
      "outputs": [],
      "source": [
        "data_6['Parking'] = data_6['Parking'].fillna('other') # Заполняем пропуски\n",
        "data_6['Parking'] = data_6['Parking'].str.lower() # Приводим к нижнему регистру\n",
        "\n",
        "# Удаляем знаки препинания\n",
        "data_6['Parking'] = data_6['Parking'].apply(lambda x: re.sub(r'[^\\w\\s]', '', x))"
      ]
    },
    {
      "cell_type": "code",
      "execution_count": 62,
      "metadata": {
        "colab": {
          "base_uri": "https://localhost:8080/"
        },
        "id": "2ax53RStEAnS",
        "outputId": "0b9b61a2-2c52-4b52-90f9-6f3bc69c49c3"
      },
      "outputs": [
        {
          "name": "stdout",
          "output_type": "stream",
          "text": [
            "Parking\n",
            "                                   171887\n",
            "attached garage                     70753\n",
            "2 spaces                            28083\n",
            "1 space                             14252\n",
            "no data                             13334\n",
            "detached garage                     13201\n",
            "carport                              7744\n",
            "off street                           5279\n",
            "3 spaces                             4724\n",
            "other                                3534\n",
            "carport attached garage              3025\n",
            "1                                    2936\n",
            "4 spaces                             2917\n",
            "2                                    2756\n",
            "none                                 2369\n",
            "on street                            1707\n",
            "attached garage detached garage      1354\n",
            "0                                    1114\n",
            "attached garage carport               993\n",
            "parking desc                          900\n",
            "6 spaces                              755\n",
            "detached garage attached garage       726\n",
            "driveway                              693\n",
            "5 spaces                              655\n",
            "4                                     603\n",
            "off street parking                    573\n",
            "off street attached garage            538\n",
            "parking type                          447\n",
            "3                                     444\n",
            "carport detached garage               402\n",
            "Name: count, dtype: int64\n"
          ]
        }
      ],
      "source": [
        "# Посмотрим топ 30 уникальных значений\n",
        "top_30_parking = data_6['Parking'].value_counts().nlargest(30)\n",
        "\n",
        "print(top_30_parking)"
      ]
    },
    {
      "cell_type": "code",
      "execution_count": 63,
      "metadata": {
        "colab": {
          "base_uri": "https://localhost:8080/"
        },
        "id": "VgMNdfsoExSc",
        "outputId": "e5cc7350-9a25-4dfe-b70b-58be6df69622"
      },
      "outputs": [
        {
          "name": "stdout",
          "output_type": "stream",
          "text": [
            "Количество пустых строк в 'Parking': 171887\n"
          ]
        }
      ],
      "source": [
        "# Преобразуем значение признака с частотой 171887\n",
        "# Выводим количество строк с пустым значением 'Parking'\n",
        "empty_parking_count = data_6['Parking'][data_6['Parking'] == ''].count()\n",
        "print(f\"Количество пустых строк в 'Parking': {empty_parking_count}\")\n",
        "\n",
        "# Заменяем пустые строки на 'other' (или другое значение по вашему выбору)\n",
        "data_6['Parking'] = data_6['Parking'].replace('', 'other')\n"
      ]
    },
    {
      "cell_type": "code",
      "execution_count": 64,
      "metadata": {
        "colab": {
          "base_uri": "https://localhost:8080/"
        },
        "id": "IhkHrFxmF6Ag",
        "outputId": "ed318fab-c7ff-40ad-a312-d709d4380b51"
      },
      "outputs": [
        {
          "name": "stdout",
          "output_type": "stream",
          "text": [
            "Parking\n",
            "other                              175421\n",
            "attached garage                     70753\n",
            "2 spaces                            28083\n",
            "1 space                             14252\n",
            "no data                             13334\n",
            "detached garage                     13201\n",
            "carport                              7744\n",
            "off street                           5279\n",
            "3 spaces                             4724\n",
            "carport attached garage              3025\n",
            "1                                    2936\n",
            "4 spaces                             2917\n",
            "2                                    2756\n",
            "none                                 2369\n",
            "on street                            1707\n",
            "attached garage detached garage      1354\n",
            "0                                    1114\n",
            "attached garage carport               993\n",
            "parking desc                          900\n",
            "6 spaces                              755\n",
            "detached garage attached garage       726\n",
            "driveway                              693\n",
            "5 spaces                              655\n",
            "4                                     603\n",
            "off street parking                    573\n",
            "off street attached garage            538\n",
            "parking type                          447\n",
            "3                                     444\n",
            "carport detached garage               402\n",
            "attached garage garage  2 car         392\n",
            "Name: count, dtype: int64\n"
          ]
        }
      ],
      "source": [
        "# Посмотрим топ 30 уникальных значений\n",
        "top_30_parking = data_6['Parking'].value_counts().nlargest(30)\n",
        "\n",
        "print(top_30_parking)"
      ]
    },
    {
      "cell_type": "code",
      "execution_count": 65,
      "metadata": {
        "id": "cd0z4m-BGL2p"
      },
      "outputs": [],
      "source": [
        "# Создадим словарь ключевых слов\n",
        "parking_key_words = ['garage', '1', '2', '3', '4', '5', '6', 'carport', 'off', 'on', 'parking', 'driveway']"
      ]
    },
    {
      "cell_type": "code",
      "execution_count": 66,
      "metadata": {
        "id": "CIy-fkKOHXxI"
      },
      "outputs": [],
      "source": [
        "def replace_parking_status(status):\n",
        "    for keyword in parking_key_words:\n",
        "        if keyword in status:\n",
        "            return keyword\n",
        "    return 'other'\n",
        "\n",
        "data_6['Parking'] = data_6['Parking'].apply(replace_parking_status)"
      ]
    },
    {
      "cell_type": "code",
      "execution_count": 67,
      "metadata": {
        "colab": {
          "base_uri": "https://localhost:8080/"
        },
        "id": "oPorngbDHftA",
        "outputId": "fe06cc08-0ea1-49a9-a61f-aa3430f813e5"
      },
      "outputs": [
        {
          "name": "stdout",
          "output_type": "stream",
          "text": [
            "Parking\n",
            "other       193020\n",
            "garage       99405\n",
            "2            31391\n",
            "1            17902\n",
            "carport       8494\n",
            "off           6809\n",
            "on            5477\n",
            "3             5284\n",
            "4             3616\n",
            "parking       3074\n",
            "6              967\n",
            "driveway       937\n",
            "5              809\n",
            "Name: count, dtype: int64\n"
          ]
        }
      ],
      "source": [
        "# Посмотрим топ 30 уникальных значений\n",
        "top_30_parking = data_6['Parking'].value_counts().nlargest(30)\n",
        "\n",
        "print(top_30_parking)"
      ]
    },
    {
      "cell_type": "code",
      "execution_count": 68,
      "metadata": {
        "colab": {
          "base_uri": "https://localhost:8080/",
          "height": 206
        },
        "id": "WZpevPiAHnea",
        "outputId": "d97755a8-2b94-468a-ebb1-f6eefd34c82f"
      },
      "outputs": [
        {
          "data": {
            "text/html": [
              "<div>\n",
              "<style scoped>\n",
              "    .dataframe tbody tr th:only-of-type {\n",
              "        vertical-align: middle;\n",
              "    }\n",
              "\n",
              "    .dataframe tbody tr th {\n",
              "        vertical-align: top;\n",
              "    }\n",
              "\n",
              "    .dataframe thead th {\n",
              "        text-align: right;\n",
              "    }\n",
              "</style>\n",
              "<table border=\"1\" class=\"dataframe\">\n",
              "  <thead>\n",
              "    <tr style=\"text-align: right;\">\n",
              "      <th></th>\n",
              "      <th>status</th>\n",
              "      <th>propertytype</th>\n",
              "      <th>street</th>\n",
              "      <th>baths</th>\n",
              "      <th>city</th>\n",
              "      <th>sqft</th>\n",
              "      <th>zipcode</th>\n",
              "      <th>beds</th>\n",
              "      <th>state</th>\n",
              "      <th>target</th>\n",
              "      <th>Year built</th>\n",
              "      <th>Remodeled year</th>\n",
              "      <th>Heating</th>\n",
              "      <th>Cooling</th>\n",
              "      <th>Parking</th>\n",
              "      <th>lotsize</th>\n",
              "      <th>Price/sqft</th>\n",
              "    </tr>\n",
              "  </thead>\n",
              "  <tbody>\n",
              "    <tr>\n",
              "      <th>0</th>\n",
              "      <td>active</td>\n",
              "      <td>single</td>\n",
              "      <td>240 Heather Ln</td>\n",
              "      <td>3.5</td>\n",
              "      <td>Southern Pines</td>\n",
              "      <td>2900</td>\n",
              "      <td>28387</td>\n",
              "      <td>4.0</td>\n",
              "      <td>NC</td>\n",
              "      <td>418000.0</td>\n",
              "      <td>2019</td>\n",
              "      <td>1986</td>\n",
              "      <td>other</td>\n",
              "      <td>other</td>\n",
              "      <td>other</td>\n",
              "      <td>4578.0</td>\n",
              "      <td>144</td>\n",
              "    </tr>\n",
              "    <tr>\n",
              "      <th>1</th>\n",
              "      <td>sale</td>\n",
              "      <td>single</td>\n",
              "      <td>12911 E Heroy Ave</td>\n",
              "      <td>3.0</td>\n",
              "      <td>Spokane Valley</td>\n",
              "      <td>1947</td>\n",
              "      <td>99216</td>\n",
              "      <td>3.0</td>\n",
              "      <td>WA</td>\n",
              "      <td>310000.0</td>\n",
              "      <td>2019</td>\n",
              "      <td>1986</td>\n",
              "      <td>other</td>\n",
              "      <td>other</td>\n",
              "      <td>other</td>\n",
              "      <td>5828.0</td>\n",
              "      <td>159</td>\n",
              "    </tr>\n",
              "    <tr>\n",
              "      <th>2</th>\n",
              "      <td>sale</td>\n",
              "      <td>single</td>\n",
              "      <td>2005 Westridge Rd</td>\n",
              "      <td>2.0</td>\n",
              "      <td>Los Angeles</td>\n",
              "      <td>3000</td>\n",
              "      <td>90049</td>\n",
              "      <td>3.0</td>\n",
              "      <td>CA</td>\n",
              "      <td>2895000.0</td>\n",
              "      <td>1961</td>\n",
              "      <td>1967</td>\n",
              "      <td>other</td>\n",
              "      <td>central</td>\n",
              "      <td>garage</td>\n",
              "      <td>8626.0</td>\n",
              "      <td>965</td>\n",
              "    </tr>\n",
              "    <tr>\n",
              "      <th>3</th>\n",
              "      <td>sale</td>\n",
              "      <td>single</td>\n",
              "      <td>4311 Livingston Ave</td>\n",
              "      <td>8.0</td>\n",
              "      <td>Dallas</td>\n",
              "      <td>6457</td>\n",
              "      <td>75205</td>\n",
              "      <td>5.0</td>\n",
              "      <td>TX</td>\n",
              "      <td>2395000.0</td>\n",
              "      <td>2006</td>\n",
              "      <td>2006</td>\n",
              "      <td>other</td>\n",
              "      <td>central</td>\n",
              "      <td>garage</td>\n",
              "      <td>8220.0</td>\n",
              "      <td>371</td>\n",
              "    </tr>\n",
              "    <tr>\n",
              "      <th>4</th>\n",
              "      <td>sale</td>\n",
              "      <td>land</td>\n",
              "      <td>1524 Kiscoe St</td>\n",
              "      <td>2.5</td>\n",
              "      <td>Palm Bay</td>\n",
              "      <td>1800</td>\n",
              "      <td>32908</td>\n",
              "      <td>3.0</td>\n",
              "      <td>FL</td>\n",
              "      <td>5000.0</td>\n",
              "      <td>1985</td>\n",
              "      <td>1986</td>\n",
              "      <td>other</td>\n",
              "      <td>other</td>\n",
              "      <td>other</td>\n",
              "      <td>10019.0</td>\n",
              "      <td>176</td>\n",
              "    </tr>\n",
              "  </tbody>\n",
              "</table>\n",
              "</div>"
            ],
            "text/plain": [
              "   status propertytype               street  baths            city  sqft   \n",
              "0  active       single       240 Heather Ln    3.5  Southern Pines  2900  \\\n",
              "1    sale       single    12911 E Heroy Ave    3.0  Spokane Valley  1947   \n",
              "2    sale       single    2005 Westridge Rd    2.0     Los Angeles  3000   \n",
              "3    sale       single  4311 Livingston Ave    8.0          Dallas  6457   \n",
              "4    sale         land       1524 Kiscoe St    2.5        Palm Bay  1800   \n",
              "\n",
              "   zipcode  beds state     target  Year built  Remodeled year Heating   \n",
              "0    28387   4.0    NC   418000.0        2019            1986   other  \\\n",
              "1    99216   3.0    WA   310000.0        2019            1986   other   \n",
              "2    90049   3.0    CA  2895000.0        1961            1967   other   \n",
              "3    75205   5.0    TX  2395000.0        2006            2006   other   \n",
              "4    32908   3.0    FL     5000.0        1985            1986   other   \n",
              "\n",
              "   Cooling Parking  lotsize  Price/sqft  \n",
              "0    other   other   4578.0         144  \n",
              "1    other   other   5828.0         159  \n",
              "2  central  garage   8626.0         965  \n",
              "3  central  garage   8220.0         371  \n",
              "4    other   other  10019.0         176  "
            ]
          },
          "execution_count": 68,
          "metadata": {},
          "output_type": "execute_result"
        }
      ],
      "source": [
        "data_6.head()"
      ]
    },
    {
      "cell_type": "code",
      "execution_count": 69,
      "metadata": {
        "colab": {
          "base_uri": "https://localhost:8080/"
        },
        "id": "tsWvzX7tHsHa",
        "outputId": "3d0eb032-1d55-4634-f1fe-c8f6cf7e251f"
      },
      "outputs": [
        {
          "name": "stdout",
          "output_type": "stream",
          "text": [
            "<class 'pandas.core.frame.DataFrame'>\n",
            "RangeIndex: 377185 entries, 0 to 377184\n",
            "Data columns (total 17 columns):\n",
            " #   Column          Non-Null Count   Dtype  \n",
            "---  ------          --------------   -----  \n",
            " 0   status          377185 non-null  object \n",
            " 1   propertytype    377185 non-null  object \n",
            " 2   street          377185 non-null  object \n",
            " 3   baths           377185 non-null  float64\n",
            " 4   city            377185 non-null  object \n",
            " 5   sqft            377185 non-null  int32  \n",
            " 6   zipcode         377185 non-null  int32  \n",
            " 7   beds            377185 non-null  float64\n",
            " 8   state           377185 non-null  object \n",
            " 9   target          374704 non-null  float64\n",
            " 10  Year built      377185 non-null  int32  \n",
            " 11  Remodeled year  377185 non-null  int32  \n",
            " 12  Heating         377185 non-null  object \n",
            " 13  Cooling         377185 non-null  object \n",
            " 14  Parking         377185 non-null  object \n",
            " 15  lotsize         377185 non-null  float64\n",
            " 16  Price/sqft      377185 non-null  int32  \n",
            "dtypes: float64(4), int32(5), object(8)\n",
            "memory usage: 41.7+ MB\n"
          ]
        }
      ],
      "source": [
        "data_6.info()"
      ]
    },
    {
      "cell_type": "code",
      "execution_count": 70,
      "metadata": {
        "id": "BXOyjlaWIOAv"
      },
      "outputs": [],
      "source": [
        "data_6.to_csv('data_7.csv', index=False)"
      ]
    },
    {
      "cell_type": "code",
      "execution_count": 71,
      "metadata": {
        "id": "TqlkY_YtIdRh"
      },
      "outputs": [],
      "source": [
        "data_7 = pd.read_csv('data_7.csv')"
      ]
    },
    {
      "cell_type": "code",
      "execution_count": 72,
      "metadata": {
        "colab": {
          "base_uri": "https://localhost:8080/",
          "height": 206
        },
        "id": "HLAkU3DqImKm",
        "outputId": "0c637f5b-33f2-4909-93dd-4be0f53a50a5"
      },
      "outputs": [
        {
          "data": {
            "text/html": [
              "<div>\n",
              "<style scoped>\n",
              "    .dataframe tbody tr th:only-of-type {\n",
              "        vertical-align: middle;\n",
              "    }\n",
              "\n",
              "    .dataframe tbody tr th {\n",
              "        vertical-align: top;\n",
              "    }\n",
              "\n",
              "    .dataframe thead th {\n",
              "        text-align: right;\n",
              "    }\n",
              "</style>\n",
              "<table border=\"1\" class=\"dataframe\">\n",
              "  <thead>\n",
              "    <tr style=\"text-align: right;\">\n",
              "      <th></th>\n",
              "      <th>status</th>\n",
              "      <th>propertytype</th>\n",
              "      <th>street</th>\n",
              "      <th>baths</th>\n",
              "      <th>city</th>\n",
              "      <th>sqft</th>\n",
              "      <th>zipcode</th>\n",
              "      <th>beds</th>\n",
              "      <th>state</th>\n",
              "      <th>target</th>\n",
              "      <th>Year built</th>\n",
              "      <th>Remodeled year</th>\n",
              "      <th>Heating</th>\n",
              "      <th>Cooling</th>\n",
              "      <th>Parking</th>\n",
              "      <th>lotsize</th>\n",
              "      <th>Price/sqft</th>\n",
              "    </tr>\n",
              "  </thead>\n",
              "  <tbody>\n",
              "    <tr>\n",
              "      <th>0</th>\n",
              "      <td>active</td>\n",
              "      <td>single</td>\n",
              "      <td>240 Heather Ln</td>\n",
              "      <td>3.5</td>\n",
              "      <td>Southern Pines</td>\n",
              "      <td>2900</td>\n",
              "      <td>28387</td>\n",
              "      <td>4.0</td>\n",
              "      <td>NC</td>\n",
              "      <td>418000.0</td>\n",
              "      <td>2019</td>\n",
              "      <td>1986</td>\n",
              "      <td>other</td>\n",
              "      <td>other</td>\n",
              "      <td>other</td>\n",
              "      <td>4578.0</td>\n",
              "      <td>144</td>\n",
              "    </tr>\n",
              "    <tr>\n",
              "      <th>1</th>\n",
              "      <td>sale</td>\n",
              "      <td>single</td>\n",
              "      <td>12911 E Heroy Ave</td>\n",
              "      <td>3.0</td>\n",
              "      <td>Spokane Valley</td>\n",
              "      <td>1947</td>\n",
              "      <td>99216</td>\n",
              "      <td>3.0</td>\n",
              "      <td>WA</td>\n",
              "      <td>310000.0</td>\n",
              "      <td>2019</td>\n",
              "      <td>1986</td>\n",
              "      <td>other</td>\n",
              "      <td>other</td>\n",
              "      <td>other</td>\n",
              "      <td>5828.0</td>\n",
              "      <td>159</td>\n",
              "    </tr>\n",
              "    <tr>\n",
              "      <th>2</th>\n",
              "      <td>sale</td>\n",
              "      <td>single</td>\n",
              "      <td>2005 Westridge Rd</td>\n",
              "      <td>2.0</td>\n",
              "      <td>Los Angeles</td>\n",
              "      <td>3000</td>\n",
              "      <td>90049</td>\n",
              "      <td>3.0</td>\n",
              "      <td>CA</td>\n",
              "      <td>2895000.0</td>\n",
              "      <td>1961</td>\n",
              "      <td>1967</td>\n",
              "      <td>other</td>\n",
              "      <td>central</td>\n",
              "      <td>garage</td>\n",
              "      <td>8626.0</td>\n",
              "      <td>965</td>\n",
              "    </tr>\n",
              "    <tr>\n",
              "      <th>3</th>\n",
              "      <td>sale</td>\n",
              "      <td>single</td>\n",
              "      <td>4311 Livingston Ave</td>\n",
              "      <td>8.0</td>\n",
              "      <td>Dallas</td>\n",
              "      <td>6457</td>\n",
              "      <td>75205</td>\n",
              "      <td>5.0</td>\n",
              "      <td>TX</td>\n",
              "      <td>2395000.0</td>\n",
              "      <td>2006</td>\n",
              "      <td>2006</td>\n",
              "      <td>other</td>\n",
              "      <td>central</td>\n",
              "      <td>garage</td>\n",
              "      <td>8220.0</td>\n",
              "      <td>371</td>\n",
              "    </tr>\n",
              "    <tr>\n",
              "      <th>4</th>\n",
              "      <td>sale</td>\n",
              "      <td>land</td>\n",
              "      <td>1524 Kiscoe St</td>\n",
              "      <td>2.5</td>\n",
              "      <td>Palm Bay</td>\n",
              "      <td>1800</td>\n",
              "      <td>32908</td>\n",
              "      <td>3.0</td>\n",
              "      <td>FL</td>\n",
              "      <td>5000.0</td>\n",
              "      <td>1985</td>\n",
              "      <td>1986</td>\n",
              "      <td>other</td>\n",
              "      <td>other</td>\n",
              "      <td>other</td>\n",
              "      <td>10019.0</td>\n",
              "      <td>176</td>\n",
              "    </tr>\n",
              "  </tbody>\n",
              "</table>\n",
              "</div>"
            ],
            "text/plain": [
              "   status propertytype               street  baths            city  sqft   \n",
              "0  active       single       240 Heather Ln    3.5  Southern Pines  2900  \\\n",
              "1    sale       single    12911 E Heroy Ave    3.0  Spokane Valley  1947   \n",
              "2    sale       single    2005 Westridge Rd    2.0     Los Angeles  3000   \n",
              "3    sale       single  4311 Livingston Ave    8.0          Dallas  6457   \n",
              "4    sale         land       1524 Kiscoe St    2.5        Palm Bay  1800   \n",
              "\n",
              "   zipcode  beds state     target  Year built  Remodeled year Heating   \n",
              "0    28387   4.0    NC   418000.0        2019            1986   other  \\\n",
              "1    99216   3.0    WA   310000.0        2019            1986   other   \n",
              "2    90049   3.0    CA  2895000.0        1961            1967   other   \n",
              "3    75205   5.0    TX  2395000.0        2006            2006   other   \n",
              "4    32908   3.0    FL     5000.0        1985            1986   other   \n",
              "\n",
              "   Cooling Parking  lotsize  Price/sqft  \n",
              "0    other   other   4578.0         144  \n",
              "1    other   other   5828.0         159  \n",
              "2  central  garage   8626.0         965  \n",
              "3  central  garage   8220.0         371  \n",
              "4    other   other  10019.0         176  "
            ]
          },
          "execution_count": 72,
          "metadata": {},
          "output_type": "execute_result"
        }
      ],
      "source": [
        "data_7.head()"
      ]
    },
    {
      "cell_type": "code",
      "execution_count": 73,
      "metadata": {
        "id": "HYGGe0xiJ_qL"
      },
      "outputs": [],
      "source": [
        "# Или медианой:\n",
        "median_target = data_7['target'].median()\n",
        "data_7['target'] = data_7['target'].fillna(median_target)\n"
      ]
    },
    {
      "cell_type": "code",
      "execution_count": 74,
      "metadata": {
        "colab": {
          "base_uri": "https://localhost:8080/"
        },
        "id": "hRFViTKpJLAl",
        "outputId": "bb9666ef-e718-463a-a77f-42221677f0cd"
      },
      "outputs": [
        {
          "name": "stdout",
          "output_type": "stream",
          "text": [
            "<class 'pandas.core.frame.DataFrame'>\n",
            "RangeIndex: 377185 entries, 0 to 377184\n",
            "Data columns (total 17 columns):\n",
            " #   Column          Non-Null Count   Dtype  \n",
            "---  ------          --------------   -----  \n",
            " 0   status          377185 non-null  object \n",
            " 1   propertytype    377185 non-null  object \n",
            " 2   street          377185 non-null  object \n",
            " 3   baths           377185 non-null  float64\n",
            " 4   city            377185 non-null  object \n",
            " 5   sqft            377185 non-null  int64  \n",
            " 6   zipcode         377185 non-null  int64  \n",
            " 7   beds            377185 non-null  float64\n",
            " 8   state           377185 non-null  object \n",
            " 9   target          377185 non-null  float64\n",
            " 10  Year built      377185 non-null  int64  \n",
            " 11  Remodeled year  377185 non-null  int64  \n",
            " 12  Heating         377185 non-null  object \n",
            " 13  Cooling         377185 non-null  object \n",
            " 14  Parking         377185 non-null  object \n",
            " 15  lotsize         377185 non-null  float64\n",
            " 16  Price/sqft      377185 non-null  int64  \n",
            "dtypes: float64(4), int64(5), object(8)\n",
            "memory usage: 48.9+ MB\n"
          ]
        }
      ],
      "source": [
        "data_7.info()"
      ]
    },
    {
      "cell_type": "markdown",
      "metadata": {
        "id": "25bM92Bf1izi"
      },
      "source": [
        "### 2.13.Проверка числовых признаков на выбросы"
      ]
    },
    {
      "cell_type": "code",
      "execution_count": 75,
      "metadata": {
        "colab": {
          "base_uri": "https://localhost:8080/"
        },
        "id": "8aqumZup62ww",
        "outputId": "bada1190-1e3b-434b-c265-3fafe7752ef5"
      },
      "outputs": [
        {
          "name": "stdout",
          "output_type": "stream",
          "text": [
            "Процент выбросов для baths (IQR): 10.00%\n",
            "Процент выбросов для sqft (IQR): 6.21%\n",
            "Процент выбросов для beds (IQR): 5.66%\n",
            "Процент выбросов для Year built (IQR): 0.99%\n",
            "Процент выбросов для Remodeled year (IQR): 39.59%\n",
            "Процент выбросов для lotsize (IQR): 4.45%\n",
            "Процент выбросов для Price/sqft (IQR): 14.57%\n",
            "Процент выбросов для target (IQR): 10.22%\n"
          ]
        }
      ],
      "source": [
        "numerical_features = ['baths', 'sqft', 'beds', 'Year built', 'Remodeled year', 'lotsize', 'Price/sqft', 'target']\n",
        "\n",
        "\n",
        "# 1. Метод межквартильного размаха (IQR):\n",
        "for feature in numerical_features:\n",
        "    Q1 = data_7[feature].quantile(0.25)\n",
        "    Q3 = data_7[feature].quantile(0.75)\n",
        "    IQR = Q3 - Q1\n",
        "    lower_bound = Q1 - 1.5 * IQR\n",
        "    upper_bound = Q3 + 1.5 * IQR\n",
        "    outliers = data_7[(data_7[feature] < lower_bound) | (data_7[feature] > upper_bound)]\n",
        "    percentage = (len(outliers) / len(data_7)) * 100\n",
        "    print(f\"Процент выбросов для {feature} (IQR): {percentage:.2f}%\")"
      ]
    },
    {
      "cell_type": "markdown",
      "metadata": {
        "id": "wDsJAVAz7cfT"
      },
      "source": [
        "Выводы:\n",
        "\n",
        "* `baths` (10.00%): Достаточно высокий процент. Можно применить winsorization (винзоризацию) – ограничение значений сверху и снизу определенными квантилями (например, 95% и 5%). Это позволит сохранить информацию о распределении, но ограничить влияние крайних значений.\n",
        "\n",
        "* `sqft` (6.21%): Умеренный процент. Winsorization также подходит, или можно попробовать логарифмическое преобразование, если распределение скошено.\n",
        "\n",
        "* `beds` (5.66%): Похоже на `sqft`, winsorization или логарифмическое преобразование.\n",
        "\n",
        "* `Year built` (0.99%): Очень низкий процент. Можно удалить эти выбросы, так как их мало и они вряд ли сильно повлияют на результаты.\n",
        "\n",
        "* `Remodeled year` (39.59%): Аномально высокий процент. Возможно, есть проблема с данными (например, год указан неверно или используется заполнитель для пропущенных значений). Лучше рассмотреть удаление признака целиком.\n",
        "\n",
        "* `lotsize` (4.45%): Низкий процент. Winsorization.\n",
        "\n",
        "* `Price/sqft` (14.57%): Достаточно высокий процент. Winsorization или логарифмическое преобразование."
      ]
    },
    {
      "cell_type": "code",
      "execution_count": 76,
      "metadata": {
        "id": "S6Tpg4SG-KL5"
      },
      "outputs": [],
      "source": [
        "# Вычисление границ для 'Year built' (метод IQR)\n",
        "Q1_year_built = data_7['Year built'].quantile(0.25)\n",
        "Q3_year_built = data_7['Year built'].quantile(0.75)\n",
        "IQR_year_built = Q3_year_built - Q1_year_built\n",
        "lower_bound_year_built = Q1_year_built - 1.5 * IQR_year_built\n",
        "upper_bound_year_built = Q3_year_built + 1.5 * IQR_year_built"
      ]
    },
    {
      "cell_type": "code",
      "execution_count": 77,
      "metadata": {
        "id": "0H_rga2c8vHn"
      },
      "outputs": [],
      "source": [
        "from scipy.stats.mstats import winsorize\n",
        "\n",
        "# Winsorization:\n",
        "data_7['baths'] = winsorize(data_7['baths'], limits=[0.05, 0.05]) # 5% сверху и снизу\n",
        "data_7['target'] = winsorize(data_7['target'], limits=[0.05, 0.05]) # 5% сверху и снизу\n",
        "data_7['sqft'] = winsorize(data_7['sqft'], limits=[0.05, 0.05])\n",
        "data_7['beds'] = winsorize(data_7['beds'], limits=[0.05, 0.05])\n",
        "data_7['lotsize'] = winsorize(data_7['lotsize'], limits=[0.05, 0.05])\n",
        "data_7['Price/sqft'] = winsorize(data_7['Price/sqft'], limits=[0.05, 0.05])\n",
        "data_7['Year built'] = winsorize(data_7['Year built'], limits=[0.05, 0.05])\n",
        "# Логарифмическое преобразование:\n",
        "data_7['sqft'] = np.log1p(data_7['sqft']) # np.log1p() обрабатывает нулевые значения\n",
        "\n",
        "# Удаление:\n",
        "#data_7 = data_7[data_7['Year built'].between(lower_bound_year_built, upper_bound_year_built)]\n",
        "\n",
        "# Удаление признака:\n",
        "data_7 = data_7.drop('Remodeled year', axis=1)\n"
      ]
    },
    {
      "cell_type": "code",
      "execution_count": 78,
      "metadata": {
        "colab": {
          "base_uri": "https://localhost:8080/",
          "height": 206
        },
        "id": "eIvoV6Ra-cTf",
        "outputId": "7797020c-e560-4eff-9c0b-b457022dece0"
      },
      "outputs": [
        {
          "data": {
            "text/html": [
              "<div>\n",
              "<style scoped>\n",
              "    .dataframe tbody tr th:only-of-type {\n",
              "        vertical-align: middle;\n",
              "    }\n",
              "\n",
              "    .dataframe tbody tr th {\n",
              "        vertical-align: top;\n",
              "    }\n",
              "\n",
              "    .dataframe thead th {\n",
              "        text-align: right;\n",
              "    }\n",
              "</style>\n",
              "<table border=\"1\" class=\"dataframe\">\n",
              "  <thead>\n",
              "    <tr style=\"text-align: right;\">\n",
              "      <th></th>\n",
              "      <th>status</th>\n",
              "      <th>propertytype</th>\n",
              "      <th>street</th>\n",
              "      <th>baths</th>\n",
              "      <th>city</th>\n",
              "      <th>sqft</th>\n",
              "      <th>zipcode</th>\n",
              "      <th>beds</th>\n",
              "      <th>state</th>\n",
              "      <th>target</th>\n",
              "      <th>Year built</th>\n",
              "      <th>Heating</th>\n",
              "      <th>Cooling</th>\n",
              "      <th>Parking</th>\n",
              "      <th>lotsize</th>\n",
              "      <th>Price/sqft</th>\n",
              "    </tr>\n",
              "  </thead>\n",
              "  <tbody>\n",
              "    <tr>\n",
              "      <th>0</th>\n",
              "      <td>active</td>\n",
              "      <td>single</td>\n",
              "      <td>240 Heather Ln</td>\n",
              "      <td>3.5</td>\n",
              "      <td>Southern Pines</td>\n",
              "      <td>7.972811</td>\n",
              "      <td>28387</td>\n",
              "      <td>4.0</td>\n",
              "      <td>NC</td>\n",
              "      <td>418000.0</td>\n",
              "      <td>2019</td>\n",
              "      <td>other</td>\n",
              "      <td>other</td>\n",
              "      <td>other</td>\n",
              "      <td>4578.0</td>\n",
              "      <td>144</td>\n",
              "    </tr>\n",
              "    <tr>\n",
              "      <th>1</th>\n",
              "      <td>sale</td>\n",
              "      <td>single</td>\n",
              "      <td>12911 E Heroy Ave</td>\n",
              "      <td>3.0</td>\n",
              "      <td>Spokane Valley</td>\n",
              "      <td>7.574558</td>\n",
              "      <td>99216</td>\n",
              "      <td>3.0</td>\n",
              "      <td>WA</td>\n",
              "      <td>310000.0</td>\n",
              "      <td>2019</td>\n",
              "      <td>other</td>\n",
              "      <td>other</td>\n",
              "      <td>other</td>\n",
              "      <td>5828.0</td>\n",
              "      <td>159</td>\n",
              "    </tr>\n",
              "    <tr>\n",
              "      <th>2</th>\n",
              "      <td>sale</td>\n",
              "      <td>single</td>\n",
              "      <td>2005 Westridge Rd</td>\n",
              "      <td>2.0</td>\n",
              "      <td>Los Angeles</td>\n",
              "      <td>8.006701</td>\n",
              "      <td>90049</td>\n",
              "      <td>3.0</td>\n",
              "      <td>CA</td>\n",
              "      <td>1950000.0</td>\n",
              "      <td>1961</td>\n",
              "      <td>other</td>\n",
              "      <td>central</td>\n",
              "      <td>garage</td>\n",
              "      <td>8626.0</td>\n",
              "      <td>636</td>\n",
              "    </tr>\n",
              "    <tr>\n",
              "      <th>3</th>\n",
              "      <td>sale</td>\n",
              "      <td>single</td>\n",
              "      <td>4311 Livingston Ave</td>\n",
              "      <td>7.0</td>\n",
              "      <td>Dallas</td>\n",
              "      <td>8.415603</td>\n",
              "      <td>75205</td>\n",
              "      <td>5.0</td>\n",
              "      <td>TX</td>\n",
              "      <td>1950000.0</td>\n",
              "      <td>2006</td>\n",
              "      <td>other</td>\n",
              "      <td>central</td>\n",
              "      <td>garage</td>\n",
              "      <td>8220.0</td>\n",
              "      <td>371</td>\n",
              "    </tr>\n",
              "    <tr>\n",
              "      <th>4</th>\n",
              "      <td>sale</td>\n",
              "      <td>land</td>\n",
              "      <td>1524 Kiscoe St</td>\n",
              "      <td>2.5</td>\n",
              "      <td>Palm Bay</td>\n",
              "      <td>7.496097</td>\n",
              "      <td>32908</td>\n",
              "      <td>3.0</td>\n",
              "      <td>FL</td>\n",
              "      <td>36500.0</td>\n",
              "      <td>1985</td>\n",
              "      <td>other</td>\n",
              "      <td>other</td>\n",
              "      <td>other</td>\n",
              "      <td>10019.0</td>\n",
              "      <td>176</td>\n",
              "    </tr>\n",
              "  </tbody>\n",
              "</table>\n",
              "</div>"
            ],
            "text/plain": [
              "   status propertytype               street  baths            city      sqft   \n",
              "0  active       single       240 Heather Ln    3.5  Southern Pines  7.972811  \\\n",
              "1    sale       single    12911 E Heroy Ave    3.0  Spokane Valley  7.574558   \n",
              "2    sale       single    2005 Westridge Rd    2.0     Los Angeles  8.006701   \n",
              "3    sale       single  4311 Livingston Ave    7.0          Dallas  8.415603   \n",
              "4    sale         land       1524 Kiscoe St    2.5        Palm Bay  7.496097   \n",
              "\n",
              "   zipcode  beds state     target  Year built Heating  Cooling Parking   \n",
              "0    28387   4.0    NC   418000.0        2019   other    other   other  \\\n",
              "1    99216   3.0    WA   310000.0        2019   other    other   other   \n",
              "2    90049   3.0    CA  1950000.0        1961   other  central  garage   \n",
              "3    75205   5.0    TX  1950000.0        2006   other  central  garage   \n",
              "4    32908   3.0    FL    36500.0        1985   other    other   other   \n",
              "\n",
              "   lotsize  Price/sqft  \n",
              "0   4578.0         144  \n",
              "1   5828.0         159  \n",
              "2   8626.0         636  \n",
              "3   8220.0         371  \n",
              "4  10019.0         176  "
            ]
          },
          "execution_count": 78,
          "metadata": {},
          "output_type": "execute_result"
        }
      ],
      "source": [
        "data_7.head()"
      ]
    },
    {
      "cell_type": "markdown",
      "metadata": {
        "id": "zNBqxs3N-q1F"
      },
      "source": [
        "### 2.14. Маштабирование числовых признаков"
      ]
    },
    {
      "cell_type": "code",
      "execution_count": 79,
      "metadata": {
        "id": "f5ZIzTXv_-BI"
      },
      "outputs": [],
      "source": [
        "from sklearn.preprocessing import MinMaxScaler, StandardScaler, RobustScaler\n",
        "\n",
        "# Выбираем числовые признаки для масштабирования\n",
        "numerical_features = ['baths', 'sqft', 'beds', 'Year built', 'lotsize', 'Price/sqft', 'target']\n",
        "\n",
        "# Способ 1: MinMaxScaler (масштабирование от 0 до 1)\n",
        "scaler_minmax = MinMaxScaler()\n",
        "data_7[numerical_features] = scaler_minmax.fit_transform(data_7[numerical_features])"
      ]
    },
    {
      "cell_type": "code",
      "execution_count": 80,
      "metadata": {
        "colab": {
          "base_uri": "https://localhost:8080/"
        },
        "id": "xEWnSZCQCrNW",
        "outputId": "488c0ae2-69db-4e7d-ecc7-3f9dfa5e509b"
      },
      "outputs": [
        {
          "name": "stdout",
          "output_type": "stream",
          "text": [
            "<class 'pandas.core.frame.DataFrame'>\n",
            "RangeIndex: 377185 entries, 0 to 377184\n",
            "Data columns (total 16 columns):\n",
            " #   Column        Non-Null Count   Dtype  \n",
            "---  ------        --------------   -----  \n",
            " 0   status        377185 non-null  object \n",
            " 1   propertytype  377185 non-null  object \n",
            " 2   street        377185 non-null  object \n",
            " 3   baths         377185 non-null  float64\n",
            " 4   city          377185 non-null  object \n",
            " 5   sqft          377185 non-null  float64\n",
            " 6   zipcode       377185 non-null  int64  \n",
            " 7   beds          377185 non-null  float64\n",
            " 8   state         377185 non-null  object \n",
            " 9   target        377185 non-null  float64\n",
            " 10  Year built    377185 non-null  float64\n",
            " 11  Heating       377185 non-null  object \n",
            " 12  Cooling       377185 non-null  object \n",
            " 13  Parking       377185 non-null  object \n",
            " 14  lotsize       377185 non-null  float64\n",
            " 15  Price/sqft    377185 non-null  float64\n",
            "dtypes: float64(7), int64(1), object(8)\n",
            "memory usage: 46.0+ MB\n"
          ]
        }
      ],
      "source": [
        "data_7.info()"
      ]
    },
    {
      "cell_type": "markdown",
      "metadata": {
        "id": "XU-6nV8nB73H"
      },
      "source": [
        "### 2.15. Кодирование категориальных признаков"
      ]
    },
    {
      "cell_type": "markdown",
      "metadata": {
        "id": "DTCNmZdlD09b"
      },
      "source": [
        "Выбор методов для каждого признака:\n",
        "\n",
        "* `status`: Это бинарный признак (например, \"продано\"/\"не продано\"). Используем One-Hot Encoding, так как значений больше двух.\n",
        "\n",
        "* `propertytype`: Здесь несколько категорий (например, \"дом\", \"квартира\", \"таунхаус\"). Так как нет явной иерархии между категориями, используем One-Hot Encoding.\n",
        "\n",
        "* `street`, `city`, `state`: Эти признаки содержат много уникальных значений. Target Encoding или Frequency Encoding могут быть хорошими вариантами для уменьшения размерности.\n",
        "\n",
        "* `Heating`, `Cooling`, `Parking`: Здесь ограниченное количество категорий. One-Hot Encoding подойдет, так как категорий немного, т.е. меньше 15.\n"
      ]
    },
    {
      "cell_type": "code",
      "execution_count": 81,
      "metadata": {
        "colab": {
          "base_uri": "https://localhost:8080/"
        },
        "collapsed": true,
        "id": "wYLsz-DCIFRt",
        "outputId": "3330e7a9-1a70-4b38-c1b1-59165dfbefbd"
      },
      "outputs": [],
      "source": [
        "#pip install category-encoders\n"
      ]
    },
    {
      "cell_type": "code",
      "execution_count": 82,
      "metadata": {
        "id": "QvrV-0R3E_bh"
      },
      "outputs": [],
      "source": [
        "from sklearn.preprocessing import LabelEncoder, OneHotEncoder, TargetEncoder\n",
        "from category_encoders import HashingEncoder\n",
        "from category_encoders import TargetEncoder\n",
        "from sklearn.preprocessing import LabelEncoder\n",
        "\n",
        "# One-Hot Encoding для status\n",
        "ohe_status = OneHotEncoder(handle_unknown='ignore', sparse_output=False)\n",
        "encoded_status = ohe_status.fit_transform(data_7[['status']])\n",
        "encoded_status_df = pd.DataFrame(encoded_status, columns=ohe_status.get_feature_names_out(['status']))\n",
        "data_7 = data_7.drop('status', axis=1)\n",
        "data_7 = pd.concat([data_7, encoded_status_df], axis=1)\n",
        "\n",
        "# One-Hot Encoding для propertytype, Heating, Cooling, Parking\n",
        "ohe_features = ['propertytype', 'Heating', 'Cooling', 'Parking']\n",
        "ohe = OneHotEncoder(handle_unknown='ignore', sparse_output=False) # sparse=False для numpy массива\n",
        "encoded_features = ohe.fit_transform(data_7[ohe_features])\n",
        "encoded_df = pd.DataFrame(encoded_features, columns=ohe.get_feature_names_out(ohe_features))\n",
        "data_7 = data_7.drop(ohe_features, axis=1)\n",
        "data_7 = pd.concat([data_7, encoded_df], axis=1)\n",
        "\n",
        "'''# Target Encoding для street, city, state\n",
        "te = TargetEncoder()\n",
        "data_7['street'] = te.fit_transform(data_7[['street']], data_7['target'])\n",
        "data_7['city'] = te.fit_transform(data_7[['city']], data_7['target'])\n",
        "data_7['state'] = te.fit_transform(data_7[['state']], data_7['target'])'''\n",
        "# Создаем экземпляр LabelEncoder\n",
        "le_street = LabelEncoder()\n",
        "le_city = LabelEncoder()\n",
        "le_state = LabelEncoder()\n",
        "\n",
        "# Применяем LabelEncoder к каждому столбцу\n",
        "data_7['street'] = le_street.fit_transform(data_7['street'])\n",
        "data_7['city'] = le_city.fit_transform(data_7['city'])\n",
        "data_7['state'] = le_state.fit_transform(data_7['state'])\n",
        "\n",
        "\n"
      ]
    },
    {
      "cell_type": "code",
      "execution_count": 83,
      "metadata": {
        "colab": {
          "base_uri": "https://localhost:8080/",
          "height": 273
        },
        "id": "q6mAAoimNGVT",
        "outputId": "d68d4aba-40e8-4ead-9d23-f7a83d2e9d35"
      },
      "outputs": [
        {
          "data": {
            "text/html": [
              "<div>\n",
              "<style scoped>\n",
              "    .dataframe tbody tr th:only-of-type {\n",
              "        vertical-align: middle;\n",
              "    }\n",
              "\n",
              "    .dataframe tbody tr th {\n",
              "        vertical-align: top;\n",
              "    }\n",
              "\n",
              "    .dataframe thead th {\n",
              "        text-align: right;\n",
              "    }\n",
              "</style>\n",
              "<table border=\"1\" class=\"dataframe\">\n",
              "  <thead>\n",
              "    <tr style=\"text-align: right;\">\n",
              "      <th></th>\n",
              "      <th>street</th>\n",
              "      <th>baths</th>\n",
              "      <th>city</th>\n",
              "      <th>sqft</th>\n",
              "      <th>zipcode</th>\n",
              "      <th>beds</th>\n",
              "      <th>state</th>\n",
              "      <th>target</th>\n",
              "      <th>Year built</th>\n",
              "      <th>lotsize</th>\n",
              "      <th>...</th>\n",
              "      <th>Parking_4</th>\n",
              "      <th>Parking_5</th>\n",
              "      <th>Parking_6</th>\n",
              "      <th>Parking_carport</th>\n",
              "      <th>Parking_driveway</th>\n",
              "      <th>Parking_garage</th>\n",
              "      <th>Parking_off</th>\n",
              "      <th>Parking_on</th>\n",
              "      <th>Parking_other</th>\n",
              "      <th>Parking_parking</th>\n",
              "    </tr>\n",
              "  </thead>\n",
              "  <tbody>\n",
              "    <tr>\n",
              "      <th>0</th>\n",
              "      <td>125809</td>\n",
              "      <td>0.416667</td>\n",
              "      <td>1711</td>\n",
              "      <td>0.767787</td>\n",
              "      <td>28387</td>\n",
              "      <td>0.666667</td>\n",
              "      <td>21</td>\n",
              "      <td>0.199373</td>\n",
              "      <td>1.000000</td>\n",
              "      <td>0.404186</td>\n",
              "      <td>...</td>\n",
              "      <td>0.0</td>\n",
              "      <td>0.0</td>\n",
              "      <td>0.0</td>\n",
              "      <td>0.0</td>\n",
              "      <td>0.0</td>\n",
              "      <td>0.0</td>\n",
              "      <td>0.0</td>\n",
              "      <td>0.0</td>\n",
              "      <td>1.0</td>\n",
              "      <td>0.0</td>\n",
              "    </tr>\n",
              "    <tr>\n",
              "      <th>1</th>\n",
              "      <td>43707</td>\n",
              "      <td>0.333333</td>\n",
              "      <td>1721</td>\n",
              "      <td>0.558931</td>\n",
              "      <td>99216</td>\n",
              "      <td>0.333333</td>\n",
              "      <td>37</td>\n",
              "      <td>0.142932</td>\n",
              "      <td>1.000000</td>\n",
              "      <td>0.514555</td>\n",
              "      <td>...</td>\n",
              "      <td>0.0</td>\n",
              "      <td>0.0</td>\n",
              "      <td>0.0</td>\n",
              "      <td>0.0</td>\n",
              "      <td>0.0</td>\n",
              "      <td>0.0</td>\n",
              "      <td>0.0</td>\n",
              "      <td>0.0</td>\n",
              "      <td>1.0</td>\n",
              "      <td>0.0</td>\n",
              "    </tr>\n",
              "    <tr>\n",
              "      <th>2</th>\n",
              "      <td>103028</td>\n",
              "      <td>0.166667</td>\n",
              "      <td>1034</td>\n",
              "      <td>0.785559</td>\n",
              "      <td>90049</td>\n",
              "      <td>0.333333</td>\n",
              "      <td>3</td>\n",
              "      <td>1.000000</td>\n",
              "      <td>0.414141</td>\n",
              "      <td>0.761604</td>\n",
              "      <td>...</td>\n",
              "      <td>0.0</td>\n",
              "      <td>0.0</td>\n",
              "      <td>0.0</td>\n",
              "      <td>0.0</td>\n",
              "      <td>0.0</td>\n",
              "      <td>1.0</td>\n",
              "      <td>0.0</td>\n",
              "      <td>0.0</td>\n",
              "      <td>0.0</td>\n",
              "      <td>0.0</td>\n",
              "    </tr>\n",
              "    <tr>\n",
              "      <th>3</th>\n",
              "      <td>199505</td>\n",
              "      <td>1.000000</td>\n",
              "      <td>433</td>\n",
              "      <td>1.000000</td>\n",
              "      <td>75205</td>\n",
              "      <td>1.000000</td>\n",
              "      <td>33</td>\n",
              "      <td>1.000000</td>\n",
              "      <td>0.868687</td>\n",
              "      <td>0.725756</td>\n",
              "      <td>...</td>\n",
              "      <td>0.0</td>\n",
              "      <td>0.0</td>\n",
              "      <td>0.0</td>\n",
              "      <td>0.0</td>\n",
              "      <td>0.0</td>\n",
              "      <td>1.0</td>\n",
              "      <td>0.0</td>\n",
              "      <td>0.0</td>\n",
              "      <td>0.0</td>\n",
              "      <td>0.0</td>\n",
              "    </tr>\n",
              "    <tr>\n",
              "      <th>4</th>\n",
              "      <td>68528</td>\n",
              "      <td>0.250000</td>\n",
              "      <td>1344</td>\n",
              "      <td>0.517784</td>\n",
              "      <td>32908</td>\n",
              "      <td>0.333333</td>\n",
              "      <td>7</td>\n",
              "      <td>0.000000</td>\n",
              "      <td>0.656566</td>\n",
              "      <td>0.884599</td>\n",
              "      <td>...</td>\n",
              "      <td>0.0</td>\n",
              "      <td>0.0</td>\n",
              "      <td>0.0</td>\n",
              "      <td>0.0</td>\n",
              "      <td>0.0</td>\n",
              "      <td>0.0</td>\n",
              "      <td>0.0</td>\n",
              "      <td>0.0</td>\n",
              "      <td>1.0</td>\n",
              "      <td>0.0</td>\n",
              "    </tr>\n",
              "  </tbody>\n",
              "</table>\n",
              "<p>5 rows × 55 columns</p>\n",
              "</div>"
            ],
            "text/plain": [
              "   street     baths  city      sqft  zipcode      beds  state    target   \n",
              "0  125809  0.416667  1711  0.767787    28387  0.666667     21  0.199373  \\\n",
              "1   43707  0.333333  1721  0.558931    99216  0.333333     37  0.142932   \n",
              "2  103028  0.166667  1034  0.785559    90049  0.333333      3  1.000000   \n",
              "3  199505  1.000000   433  1.000000    75205  1.000000     33  1.000000   \n",
              "4   68528  0.250000  1344  0.517784    32908  0.333333      7  0.000000   \n",
              "\n",
              "   Year built   lotsize  ...  Parking_4  Parking_5  Parking_6   \n",
              "0    1.000000  0.404186  ...        0.0        0.0        0.0  \\\n",
              "1    1.000000  0.514555  ...        0.0        0.0        0.0   \n",
              "2    0.414141  0.761604  ...        0.0        0.0        0.0   \n",
              "3    0.868687  0.725756  ...        0.0        0.0        0.0   \n",
              "4    0.656566  0.884599  ...        0.0        0.0        0.0   \n",
              "\n",
              "   Parking_carport  Parking_driveway  Parking_garage  Parking_off  Parking_on   \n",
              "0              0.0               0.0             0.0          0.0         0.0  \\\n",
              "1              0.0               0.0             0.0          0.0         0.0   \n",
              "2              0.0               0.0             1.0          0.0         0.0   \n",
              "3              0.0               0.0             1.0          0.0         0.0   \n",
              "4              0.0               0.0             0.0          0.0         0.0   \n",
              "\n",
              "   Parking_other  Parking_parking  \n",
              "0            1.0              0.0  \n",
              "1            1.0              0.0  \n",
              "2            0.0              0.0  \n",
              "3            0.0              0.0  \n",
              "4            1.0              0.0  \n",
              "\n",
              "[5 rows x 55 columns]"
            ]
          },
          "execution_count": 83,
          "metadata": {},
          "output_type": "execute_result"
        }
      ],
      "source": [
        "data_7.head()"
      ]
    },
    {
      "cell_type": "code",
      "execution_count": 84,
      "metadata": {
        "colab": {
          "base_uri": "https://localhost:8080/"
        },
        "id": "DWE5zMAcNiPq",
        "outputId": "adb7d9c5-5160-4e8f-f821-62574e87b171"
      },
      "outputs": [
        {
          "name": "stdout",
          "output_type": "stream",
          "text": [
            "<class 'pandas.core.frame.DataFrame'>\n",
            "RangeIndex: 377185 entries, 0 to 377184\n",
            "Data columns (total 55 columns):\n",
            " #   Column                    Non-Null Count   Dtype  \n",
            "---  ------                    --------------   -----  \n",
            " 0   street                    377185 non-null  int32  \n",
            " 1   baths                     377185 non-null  float64\n",
            " 2   city                      377185 non-null  int32  \n",
            " 3   sqft                      377185 non-null  float64\n",
            " 4   zipcode                   377185 non-null  int64  \n",
            " 5   beds                      377185 non-null  float64\n",
            " 6   state                     377185 non-null  int32  \n",
            " 7   target                    377185 non-null  float64\n",
            " 8   Year built                377185 non-null  float64\n",
            " 9   lotsize                   377185 non-null  float64\n",
            " 10  Price/sqft                377185 non-null  float64\n",
            " 11  status_active             377185 non-null  float64\n",
            " 12  status_auction            377185 non-null  float64\n",
            " 13  status_contract           377185 non-null  float64\n",
            " 14  status_foreclosure        377185 non-null  float64\n",
            " 15  status_new                377185 non-null  float64\n",
            " 16  status_other              377185 non-null  float64\n",
            " 17  status_pending            377185 non-null  float64\n",
            " 18  status_rent               377185 non-null  float64\n",
            " 19  status_sale               377185 non-null  float64\n",
            " 20  status_sold               377185 non-null  float64\n",
            " 21  propertytype_apartment    377185 non-null  float64\n",
            " 22  propertytype_condo        377185 non-null  float64\n",
            " 23  propertytype_coop         377185 non-null  float64\n",
            " 24  propertytype_detached     377185 non-null  float64\n",
            " 25  propertytype_land         377185 non-null  float64\n",
            " 26  propertytype_multi        377185 non-null  float64\n",
            " 27  propertytype_other        377185 non-null  float64\n",
            " 28  propertytype_ranch        377185 non-null  float64\n",
            " 29  propertytype_rise         377185 non-null  float64\n",
            " 30  propertytype_single       377185 non-null  float64\n",
            " 31  propertytype_townhouse    377185 non-null  float64\n",
            " 32  propertytype_traditional  377185 non-null  float64\n",
            " 33  Heating_central           377185 non-null  float64\n",
            " 34  Heating_electric          377185 non-null  float64\n",
            " 35  Heating_gas               377185 non-null  float64\n",
            " 36  Heating_other             377185 non-null  float64\n",
            " 37  Heating_pump              377185 non-null  float64\n",
            " 38  Cooling_central           377185 non-null  float64\n",
            " 39  Cooling_cooling           377185 non-null  float64\n",
            " 40  Cooling_other             377185 non-null  float64\n",
            " 41  Cooling_refrigeration     377185 non-null  float64\n",
            " 42  Parking_1                 377185 non-null  float64\n",
            " 43  Parking_2                 377185 non-null  float64\n",
            " 44  Parking_3                 377185 non-null  float64\n",
            " 45  Parking_4                 377185 non-null  float64\n",
            " 46  Parking_5                 377185 non-null  float64\n",
            " 47  Parking_6                 377185 non-null  float64\n",
            " 48  Parking_carport           377185 non-null  float64\n",
            " 49  Parking_driveway          377185 non-null  float64\n",
            " 50  Parking_garage            377185 non-null  float64\n",
            " 51  Parking_off               377185 non-null  float64\n",
            " 52  Parking_on                377185 non-null  float64\n",
            " 53  Parking_other             377185 non-null  float64\n",
            " 54  Parking_parking           377185 non-null  float64\n",
            "dtypes: float64(51), int32(3), int64(1)\n",
            "memory usage: 154.0 MB\n"
          ]
        }
      ],
      "source": [
        "data_7.info()"
      ]
    },
    {
      "cell_type": "markdown",
      "metadata": {
        "id": "VnqEPex6NSKY"
      },
      "source": [
        "###2.16. Отбор наиболее значимых признаков на основе анализа мультиколлинеарности."
      ]
    },
    {
      "cell_type": "code",
      "execution_count": 85,
      "metadata": {},
      "outputs": [
        {
          "name": "stdout",
          "output_type": "stream",
          "text": [
            "1.6.1\n"
          ]
        }
      ],
      "source": [
        "import sklearn\n",
        "print(sklearn.__version__)\n",
        "   \n"
      ]
    },
    {
      "cell_type": "code",
      "execution_count": 86,
      "metadata": {
        "colab": {
          "base_uri": "https://localhost:8080/"
        },
        "id": "KuqCFa6iOU6B",
        "outputId": "6beab69d-79b7-4c23-d9f2-748996891c91"
      },
      "outputs": [],
      "source": [
        "#from sklearn.feature_selection import RFE\n",
        "#from sklearn.linear_model import LinearRegression\n",
        "\n",
        "\n",
        "# Корреляция\n",
        "#correlations = data_7.corr()['target'].abs().sort_values(ascending=False)\n",
        "#print(correlations)"
      ]
    },
    {
      "cell_type": "markdown",
      "metadata": {
        "id": "ucCiQLOkO7-j"
      },
      "source": [
        "Вывод по результатам корреляции признаков с целевой переменной `target`:\n",
        "\n",
        "* Сильная положительная корреляция: `Price/sqft`, `city`, `sqft`, `street`, `state`, `baths` имеют наибольшую корреляцию с `target`, что указывает на сильную линейную зависимость. Увеличение значений этих признаков, вероятно, связано с увеличением `target`. Особенно выделяется `Price/sqft`, имеющая очень высокую корреляцию.\n",
        "\n",
        "* Средняя положительная корреляция: `beds`, `propertytype_land`, `lotsize`, `propertytype_multi` показывают умеренную корреляцию. Влияние этих признаков на `target` менее выражено, чем у предыдущей группы.\n",
        "\n",
        "* Слабая корреляция: Остальные признаки имеют очень низкую корреляцию с `target`. Это suggests, что линейная связь между этими признаками и целевой переменной очень слабая или отсутствует. Это не обязательно означает, что эти признаки бесполезны, возможно, зависимость нелинейная, или эти признаки важны во взаимодействии с другими.\n",
        "\n"
      ]
    },
    {
      "cell_type": "markdown",
      "metadata": {
        "id": "WOtInJytAzYw"
      },
      "source": [
        "Анализ корреляции данных на основе метода Пирсона, Спирмана и Кендалла"
      ]
    },
    {
      "cell_type": "code",
      "execution_count": 87,
      "metadata": {
        "colab": {
          "base_uri": "https://localhost:8080/",
          "height": 721
        },
        "id": "fEsZx2sIBBkA",
        "outputId": "8d7d35a3-6baa-4814-9393-c6a25736757e"
      },
      "outputs": [
        {
          "data": {
            "image/png": "[encoded data removed]",
            "text/plain": [
              "<Figure size 2000x800 with 6 Axes>"
            ]
          },
          "metadata": {},
          "output_type": "display_data"
        }
      ],
      "source": [
        "import matplotlib.pyplot as plt\n",
        "import seaborn as sns\n",
        "\n",
        "# Список признаков для анализа\n",
        "selected_features = ['target', 'Price/sqft', 'city', 'sqft', 'street', 'state', 'baths', 'beds']\n",
        "\n",
        "# Создаем подвыборку DataFrame, содержащую только выбранные признаки\n",
        "data_subset = data_7[selected_features]\n",
        "\n",
        "\n",
        "fig, axes = plt.subplots(nrows=1, ncols=3, figsize=(20, 8))\n",
        "fig.suptitle('Анализ мультиколлинеарности')\n",
        "\n",
        "# Вычисляем корреляцию только для выбранных признаков\n",
        "cor_1 = sns.heatmap(data_subset.corr(method='pearson'), annot=True, ax=axes[0])\n",
        "cor_1.set_title('по методу Пирсона')\n",
        "\n",
        "cor_2 = sns.heatmap(data_subset.corr(method='spearman'), annot=True, ax=axes[1])\n",
        "cor_2.set_title('по методу Спирмана')\n",
        "\n",
        "cor_3 = sns.heatmap(data_subset.corr(method='kendall'), annot=True, ax=axes[2])\n",
        "cor_3.set_title('по методу Кендалла')\n",
        "\n",
        "plt.show()\n"
      ]
    },
    {
      "cell_type": "markdown",
      "metadata": {
        "id": "giMDQSxkHFBZ"
      },
      "source": [
        "Коэффициент корреляции от 0.6 до 0.64 указывает на умеренную положительную корреляцию между анализируемыми признаками. Это означает, что существует определенная тенденция к тому, что при увеличении значения одного признака, значение другого тоже tends to увеличиваться, но эта связь не очень сильная и не всегда однозначная.\n",
        "\n",
        "Вот несколько важных моментов, которые следует учитывать:\n",
        "\n",
        "* Умеренная сила связи: Корреляция 0.6-0.64 не настолько высока, чтобы говорить о сильной линейной зависимости, как, например, при значениях близких к 1. Это значит, что, хотя общая тенденция прослеживается, существуют значительные отклонения от нее. Изменение одного признака не позволяет точно предсказать изменение другого.\n",
        "\n",
        "* Положительная корреляция: Положительный знак указывает на то, что направление изменения признаков совпадает. Если один признак растет, то и другой *скорее всего* тоже растет.\n",
        "\n",
        "* Не причинно-следственная связь: Корреляция не означает причинно-следственной связи. Даже если два признака сильно коррелируют, это не значит, что один является причиной изменения другого. Может существовать третий, скрытый фактор, влияющий на оба признака.\n",
        "\n",
        "* Контекст: Интерпретация корреляции 0.6-0.64 зависит от контекста. В некоторых областях исследований это может считаться значимой корреляцией, в других — нет. Важно сравнивать полученное значение с типичными значениями корреляции для аналогичных данных и задач."
      ]
    },
    {
      "cell_type": "code",
      "execution_count": 88,
      "metadata": {},
      "outputs": [
        {
          "name": "stdout",
          "output_type": "stream",
          "text": [
            "target                      1.000000\n",
            "Price/sqft                  0.603102\n",
            "sqft                        0.464078\n",
            "baths                       0.382027\n",
            "beds                        0.263086\n",
            "propertytype_multi          0.100802\n",
            "Parking_3                   0.060096\n",
            "Parking_garage              0.058890\n",
            "Parking_4                   0.055298\n",
            "propertytype_condo          0.051373\n",
            "Parking_5                   0.047190\n",
            "propertytype_detached       0.044796\n",
            "Parking_6                   0.042617\n",
            "Cooling_cooling             0.039578\n",
            "Cooling_central             0.039405\n",
            "Year built                  0.037026\n",
            "status_new                  0.032887\n",
            "status_sale                 0.030877\n",
            "propertytype_rise           0.030805\n",
            "propertytype_coop           0.028685\n",
            "propertytype_other          0.027096\n",
            "propertytype_apartment      0.016724\n",
            "street                      0.011224\n",
            "status_active               0.008614\n",
            "Heating_gas                 0.007350\n",
            "Heating_pump                0.004144\n",
            "Heating_electric            0.003893\n",
            "Parking_2                   0.001941\n",
            "Parking_parking             0.001481\n",
            "Parking_off                 0.001433\n",
            "Heating_central            -0.000596\n",
            "zipcode                    -0.003804\n",
            "Heating_other              -0.004972\n",
            "status_other               -0.005686\n",
            "propertytype_traditional   -0.008453\n",
            "status_sold                -0.009552\n",
            "propertytype_single        -0.010203\n",
            "Parking_driveway           -0.012288\n",
            "status_auction             -0.012861\n",
            "propertytype_ranch         -0.014551\n",
            "Parking_on                 -0.017998\n",
            "status_contract            -0.018041\n",
            "city                       -0.021550\n",
            "propertytype_townhouse     -0.025257\n",
            "Cooling_refrigeration      -0.029273\n",
            "Parking_1                  -0.029939\n",
            "status_rent                -0.030584\n",
            "Parking_carport            -0.037449\n",
            "status_pending             -0.041852\n",
            "Cooling_other              -0.049383\n",
            "Parking_other              -0.057830\n",
            "state                      -0.061874\n",
            "status_foreclosure         -0.079253\n",
            "lotsize                    -0.112461\n",
            "propertytype_land          -0.150998\n",
            "Name: target, dtype: float64\n"
          ]
        }
      ],
      "source": [
        "# Вычисление корреляции с целевой переменной 'target'\n",
        "correlations = data_7.corr()['target']\n",
        "\n",
        "# Сортировка корреляций от большего к меньшему\n",
        "sorted_correlations = correlations.sort_values(ascending=False)\n",
        "\n",
        "# Вывод отсортированных коэффициентов корреляции\n",
        "print(sorted_correlations)\n",
        "\n",
        "\n",
        "\n"
      ]
    },
    {
      "cell_type": "code",
      "execution_count": 89,
      "metadata": {},
      "outputs": [
        {
          "name": "stdout",
          "output_type": "stream",
          "text": [
            "<class 'pandas.core.frame.DataFrame'>\n",
            "RangeIndex: 377185 entries, 0 to 377184\n",
            "Data columns (total 23 columns):\n",
            " #   Column                  Non-Null Count   Dtype  \n",
            "---  ------                  --------------   -----  \n",
            " 0   target                  377185 non-null  float64\n",
            " 1   Price/sqft              377185 non-null  float64\n",
            " 2   sqft                    377185 non-null  float64\n",
            " 3   baths                   377185 non-null  float64\n",
            " 4   beds                    377185 non-null  float64\n",
            " 5   propertytype_multi      377185 non-null  float64\n",
            " 6   Parking_3               377185 non-null  float64\n",
            " 7   Parking_garage          377185 non-null  float64\n",
            " 8   Parking_4               377185 non-null  float64\n",
            " 9   propertytype_condo      377185 non-null  float64\n",
            " 10  Parking_5               377185 non-null  float64\n",
            " 11  propertytype_detached   377185 non-null  float64\n",
            " 12  Parking_6               377185 non-null  float64\n",
            " 13  Cooling_cooling         377185 non-null  float64\n",
            " 14  Cooling_central         377185 non-null  float64\n",
            " 15  Year built              377185 non-null  float64\n",
            " 16  status_new              377185 non-null  float64\n",
            " 17  status_sale             377185 non-null  float64\n",
            " 18  propertytype_rise       377185 non-null  float64\n",
            " 19  propertytype_coop       377185 non-null  float64\n",
            " 20  propertytype_other      377185 non-null  float64\n",
            " 21  propertytype_apartment  377185 non-null  float64\n",
            " 22  street                  377185 non-null  int32  \n",
            "dtypes: float64(22), int32(1)\n",
            "memory usage: 64.7 MB\n",
            "None\n"
          ]
        }
      ],
      "source": [
        "# Список признаков, которые нужно оставить\n",
        "features_to_keep = [\n",
        "    \"target\", \"Price/sqft\", \"sqft\", \"baths\", \"beds\", \"propertytype_multi\", \n",
        "    \"Parking_3\", \"Parking_garage\", \"Parking_4\", \"propertytype_condo\",\n",
        "    \"Parking_5\", \"propertytype_detached\", \"Parking_6\", \"Cooling_cooling\",\n",
        "    \"Cooling_central\", \"Year built\", \"status_new\", \"status_sale\",\n",
        "    \"propertytype_rise\", \"propertytype_coop\", \"propertytype_other\",\n",
        "    \"propertytype_apartment\", \"street\"\n",
        "]\n",
        "\n",
        "# Создание нового DataFrame с выбранными признаками\n",
        "data_7_selected = data_7[features_to_keep]\n",
        "\n",
        "# Проверка результата (необязательно)\n",
        "print(data_7_selected.info())\n",
        "\n",
        "# Сохранение нового DataFrame (необязательно)\n",
        "data_7_selected.to_csv(\"data_7_selected.csv\", index=False)"
      ]
    },
    {
      "cell_type": "markdown",
      "metadata": {
        "id": "BBwetOo2IoTK"
      },
      "source": [
        "## 3. Разделение данных"
      ]
    },
    {
      "cell_type": "markdown",
      "metadata": {
        "id": "5hLKDtciIyUE"
      },
      "source": [
        "### 3.1 Разделим данные на обучающую, валидационную и тестовую выборки 70/15/15"
      ]
    },
    {
      "cell_type": "code",
      "execution_count": 90,
      "metadata": {
        "colab": {
          "base_uri": "https://localhost:8080/"
        },
        "id": "LoNkEGH7I85a",
        "outputId": "70656e01-fdee-45a7-95d6-47a8a9f16054"
      },
      "outputs": [
        {
          "name": "stdout",
          "output_type": "stream",
          "text": [
            "<class 'pandas.core.frame.DataFrame'>\n",
            "RangeIndex: 377185 entries, 0 to 377184\n",
            "Data columns (total 23 columns):\n",
            " #   Column                  Non-Null Count   Dtype  \n",
            "---  ------                  --------------   -----  \n",
            " 0   target                  377185 non-null  float64\n",
            " 1   Price/sqft              377185 non-null  float64\n",
            " 2   sqft                    377185 non-null  float64\n",
            " 3   baths                   377185 non-null  float64\n",
            " 4   beds                    377185 non-null  float64\n",
            " 5   propertytype_multi      377185 non-null  float64\n",
            " 6   Parking_3               377185 non-null  float64\n",
            " 7   Parking_garage          377185 non-null  float64\n",
            " 8   Parking_4               377185 non-null  float64\n",
            " 9   propertytype_condo      377185 non-null  float64\n",
            " 10  Parking_5               377185 non-null  float64\n",
            " 11  propertytype_detached   377185 non-null  float64\n",
            " 12  Parking_6               377185 non-null  float64\n",
            " 13  Cooling_cooling         377185 non-null  float64\n",
            " 14  Cooling_central         377185 non-null  float64\n",
            " 15  Year built              377185 non-null  float64\n",
            " 16  status_new              377185 non-null  float64\n",
            " 17  status_sale             377185 non-null  float64\n",
            " 18  propertytype_rise       377185 non-null  float64\n",
            " 19  propertytype_coop       377185 non-null  float64\n",
            " 20  propertytype_other      377185 non-null  float64\n",
            " 21  propertytype_apartment  377185 non-null  float64\n",
            " 22  street                  377185 non-null  int32  \n",
            "dtypes: float64(22), int32(1)\n",
            "memory usage: 64.7 MB\n"
          ]
        }
      ],
      "source": [
        "data_7_selected.info()"
      ]
    },
    {
      "cell_type": "code",
      "execution_count": 91,
      "metadata": {
        "colab": {
          "base_uri": "https://localhost:8080/"
        },
        "id": "oZic-bJAJsDQ",
        "outputId": "35aa3d9d-b66e-4b9a-df5f-c99c6db46f63"
      },
      "outputs": [
        {
          "name": "stdout",
          "output_type": "stream",
          "text": [
            "Обучающая выборка: (264029, 22), (264029,)\n",
            "Валидационная выборка: (56578, 22), (56578,)\n",
            "Тестовая выборка: (56578, 22), (56578,)\n"
          ]
        }
      ],
      "source": [
        "from sklearn.model_selection import train_test_split\n",
        "\n",
        "# 1. Отделяем признаки (X) от целевой переменной (y)\n",
        "X = data_7_selected.drop('target', axis=1) # Удаляем 'target' из признаков\n",
        "y = data_7_selected['target']\n",
        "\n",
        "# 2. Разделяем на обучающую и оставшуюся часть (валидация + тест)\n",
        "X_train, X_rem, y_train, y_rem = train_test_split(X, y, train_size=0.7, random_state=42)\n",
        "\n",
        "# 3. Разделяем оставшуюся часть на валидационную и тестовую\n",
        "X_valid, X_test, y_valid, y_test = train_test_split(X_rem, y_rem, test_size=0.5, random_state=42)\n",
        "\n",
        "# Выводим размеры выборок для проверки\n",
        "print(f\"Обучающая выборка: {X_train.shape}, {y_train.shape}\")\n",
        "print(f\"Валидационная выборка: {X_valid.shape}, {y_valid.shape}\")\n",
        "print(f\"Тестовая выборка: {X_test.shape}, {y_test.shape}\")\n"
      ]
    },
    {
      "cell_type": "markdown",
      "metadata": {
        "id": "bhhfUVTWKCfy"
      },
      "source": [
        "# III. Обучение и оценка модели"
      ]
    },
    {
      "cell_type": "markdown",
      "metadata": {
        "id": "uaDswAbPMgsv"
      },
      "source": [
        "## 1. Реализация модели регрессии"
      ]
    },
    {
      "cell_type": "markdown",
      "metadata": {
        "id": "NVeE1yzgMzGY"
      },
      "source": [
        "<div align='justify'>Модели регрессии являются одним из основных типов задач машинного обучения. Они используются для предсказания числовых значений на основе входных данных. Например, в нашем случае, модель регрессии будет использоваться для предсказания цены дома на основе его характеристик (размер, количество спален, расположение и т.д.).</div><br>\n",
        "\n",
        "<div align='justify'>Существует несколько видов моделей регрессии:</div>\n",
        "\n",
        "1) Линейная регрессия: это наиболее простой и распространенный вид регрессии. Он используется для предсказания значения на основе линейной зависимости между входными данными и результатом.<br>\n",
        "2) Логистическая регрессия: используется для предсказания вероятности принадлежности к определенному классу. Она обычно используется для классификации двоичных или многоклассовых данных.<br>\n",
        "3) Регрессия опорных векторов (SVR): этот метод строит гиперплоскость в пространстве признаков, которая отделяет положительные примеры от отрицательных. SVR находит оптимальную гиперплоскость, минимизируя расстояние до ближайших точек (опорных векторов).<br>\n",
        "4) Деревья решений: деревья решений используются для прогнозирования значений путем разделения данных на подмножества на основе входных признаков.<br>\n",
        "5) Нейронные сети: нейронные сети представляют собой класс алгоритмов машинного обучения, которые имитируют работу человеческого мозга."
      ]
    },
    {
      "cell_type": "code",
      "execution_count": 92,
      "metadata": {
        "colab": {
          "base_uri": "https://localhost:8080/"
        },
        "id": "AQ1oRj0oLGii",
        "outputId": "62d1c358-b244-42b9-fb4f-3bce9da93ea9"
      },
      "outputs": [],
      "source": [
        "#!pip install optuna\n"
      ]
    },
    {
      "cell_type": "code",
      "execution_count": 93,
      "metadata": {
        "id": "TEqbzUiVK0TF"
      },
      "outputs": [],
      "source": [
        "import matplotlib.pyplot as plt\n",
        "from sklearn.metrics import confusion_matrix\n",
        "from sklearn.metrics import ConfusionMatrixDisplay\n",
        "\n",
        "from sklearn.feature_selection import SelectKBest, f_classif\n",
        "from sklearn.model_selection import train_test_split\n",
        "from sklearn.feature_selection import chi2\n",
        "\n",
        "from sklearn import preprocessing\n",
        "from sklearn import linear_model\n",
        "from sklearn import tree\n",
        "from sklearn import ensemble\n",
        "from sklearn.neural_network import MLPClassifier\n",
        "from sklearn.preprocessing import StandardScaler\n",
        "from sklearn import metrics\n",
        "import statsmodels.formula.api as smf\n",
        "\n",
        "from sklearn.preprocessing import PolynomialFeatures\n",
        "\n",
        "from sklearn.model_selection import GridSearchCV\n",
        "from sklearn.model_selection import RandomizedSearchCV\n",
        "\n",
        "import optuna\n",
        "\n",
        "import warnings\n",
        "warnings.filterwarnings(\"ignore\")"
      ]
    },
    {
      "cell_type": "code",
      "execution_count": 94,
      "metadata": {
        "id": "48DXDevpKqlm"
      },
      "outputs": [],
      "source": [
        "# Функция для вычисления метрик задач регрессии\n",
        "def regression_metrics(y_train, y_train_predict, y_test, y_test_predict):\n",
        "\n",
        "    print('train r2_score: {:.3f}'.format(metrics.r2_score(y_train, y_train_predict)))\n",
        "    print('train mean_absolute_error: {:.3f}'.format(metrics.mean_absolute_error(y_train, y_train_predict)))\n",
        "    #print('train mean_absolute_percentage_error: {:.3f}'.format(metrics.mean_absolute_percentage_error(y_train, y_train_predict)*100), '\\n')\n",
        "\n",
        "    print('test r2_score: {:.3f}'.format(metrics.r2_score(y_test, y_test_predict)))\n",
        "    print('test mean_absolute_error: {:.3f}'.format(metrics.mean_absolute_error(y_test, y_test_predict)))\n",
        "    #print('test mean_absolute_percentage_error:  {:.3f}'.format(metrics.mean_absolute_percentage_error(y_test, y_test_predict)*100))"
      ]
    },
    {
      "cell_type": "markdown",
      "metadata": {
        "id": "d7PxpHN2NZ0C"
      },
      "source": [
        "### 1.1. Выбор моделей регрессии\n",
        "\n",
        "Для решения текущей задачи будем использовать следующие модели:\n",
        "\n",
        "*   Линейная регрессия\n",
        "*   Полиномиальная регрессия\n",
        "*   Регрессия дерева решений\n",
        "*   Регрессия случайного леса\n",
        "*   Модель градиентного бустинга\n",
        " \n",
        "\n",
        "\n"
      ]
    },
    {
      "cell_type": "code",
      "execution_count": 95,
      "metadata": {
        "colab": {
          "base_uri": "https://localhost:8080/"
        },
        "id": "jUN3MbRhO3t0",
        "outputId": "a40658cb-7c15-4473-e137-a206e4e3a559"
      },
      "outputs": [
        {
          "name": "stdout",
          "output_type": "stream",
          "text": [
            "train r2_score: 0.624\n",
            "train mean_absolute_error: 0.096\n",
            "test r2_score: 0.627\n",
            "test mean_absolute_error: 0.095\n"
          ]
        }
      ],
      "source": [
        "# Модель линейной регрессии\n",
        "\n",
        "lr = linear_model.LinearRegression()\n",
        "lr.fit(X_train, y_train)\n",
        "\n",
        "y_train_predict = lr.predict(X_train)\n",
        "y_test_predict = lr.predict(X_test)\n",
        "\n",
        "# Вывод метрик на экран\n",
        "regression_metrics(y_train, y_train_predict, y_test, y_test_predict)"
      ]
    },
    {
      "cell_type": "markdown",
      "metadata": {},
      "source": [
        "Эти метрики показывают, что модель достаточно хорошо обобщает, так как значения r2_score и MAE практически одинаковы на обучающей и тестовой выборках. Это значит, что нет значительного переобучения. Однако, значения r2_score около 0.62 указывают на то, что модель объясняет только 62% дисперсии данных, что может быть недостаточно для некоторых задач."
      ]
    },
    {
      "cell_type": "code",
      "execution_count": 96,
      "metadata": {
        "id": "p9ZZyvolPPTq"
      },
      "outputs": [
        {
          "name": "stdout",
          "output_type": "stream",
          "text": [
            "train r2_score: 0.472\n",
            "train mean_absolute_error: 0.120\n",
            "test r2_score: 0.477\n",
            "test mean_absolute_error: 0.119\n"
          ]
        }
      ],
      "source": [
        "# Модель полиномиальной регрессии\n",
        "\n",
        "poly_features = PolynomialFeatures(degree=2)\n",
        "\n",
        "X_poly_train = poly_features.fit_transform(X_train)\n",
        "X_poly_test = poly_features.fit_transform(X_test)\n",
        "\n",
        "poly_model = linear_model.LinearRegression()\n",
        "poly_model.fit(X_poly_train, y_train)\n",
        "\n",
        "y_train_predict = poly_model.predict(X_poly_train)\n",
        "y_test_predict = poly_model.predict(X_poly_test)\n",
        "\n",
        "# Вывод метрик на экран\n",
        "regression_metrics(y_train, y_train_predict, y_test, y_test_predict)"
      ]
    },
    {
      "cell_type": "markdown",
      "metadata": {},
      "source": [
        "Вывод:\n",
        "Метрики указывают на недообучение (underfitting). Модель показывает одинаково низкое качество как на обучающей, так и на тестовой выборках (r2_score около 0.47, MAE около 0.12). Это означает, что модель недостаточно сложная, чтобы уловить закономерности в данных."
      ]
    },
    {
      "cell_type": "code",
      "execution_count": 97,
      "metadata": {},
      "outputs": [
        {
          "name": "stdout",
          "output_type": "stream",
          "text": [
            "train r2_score: 0.999\n",
            "train mean_absolute_error: 0.000\n",
            "test r2_score: 0.641\n",
            "test mean_absolute_error: 0.054\n"
          ]
        }
      ],
      "source": [
        "# Модель дерева решений\n",
        "\n",
        "dt = tree.DecisionTreeRegressor(random_state=42)\n",
        "dt.fit(X_train, y_train)\n",
        "\n",
        "y_train_predict = dt.predict(X_train)\n",
        "y_test_predict = dt.predict(X_test)\n",
        "\n",
        "# Вывод метрик на экран\n",
        "regression_metrics(y_train, y_train_predict, y_test, y_test_predict)"
      ]
    },
    {
      "cell_type": "markdown",
      "metadata": {},
      "source": [
        "Вывод:\n",
        "Такие метрики указывают на явное переобучение (overfitting). Модель практически идеально предсказывает значения на обучающей выборке (r2_score = 0.999, MAE = 0.000), но ее качество значительно снижается на тестовой выборке (r2_score = 0.641, MAE = 0.054). Это значит, что модель \"запомнила\" обучающие данные и не может обобщать на новые, невидимые ранее данные."
      ]
    },
    {
      "cell_type": "code",
      "execution_count": 98,
      "metadata": {},
      "outputs": [
        {
          "name": "stdout",
          "output_type": "stream",
          "text": [
            "train r2_score: 0.782\n",
            "train mean_absolute_error: 0.053\n",
            "test r2_score: 0.783\n",
            "test mean_absolute_error: 0.053\n"
          ]
        }
      ],
      "source": [
        "# Модель случайного леса\n",
        "\n",
        "rf = ensemble.RandomForestRegressor(\n",
        "    n_estimators=100,\n",
        "    max_depth=10,\n",
        "    random_state=42\n",
        ")\n",
        "\n",
        "rf.fit(X_train, y_train)\n",
        "\n",
        "y_train_predict = rf.predict(X_train)\n",
        "y_test_predict = rf.predict(X_test)\n",
        "\n",
        "# Вывод метрик на экран\n",
        "regression_metrics(y_train, y_train_predict, y_test, y_test_predict)"
      ]
    },
    {
      "cell_type": "markdown",
      "metadata": {},
      "source": [
        "Выводы:\n",
        "\n",
        "* Модель достаточно хорошо обучена и обобщает на тестовые данные: Значения `r2_score` близки на обучающей и тестовой выборках (0.782 и 0.783 соответственно), что говорит об отсутствии переобучения. Значение R-квадрат около 0.78 считается довольно хорошим показателем, указывая на то, что модель объясняет значительную часть дисперсии в целевой переменной.\n",
        "\n",
        "* Ошибка предсказания относительно невелика: `mean_absolute_error` (MAE) также близка на обучающей и тестовой выборках (0.053). Это означает, что в среднем модель ошибается на 0.053 единицы целевой переменной. В зависимости от масштаба целевой переменной, это значение может быть приемлемым.\n",
        "\n",
        "* Проблема с `mean_absolute_percentage_error` (MAPE): Огромные значения MAPE (2177278620445482.000 и 2141467137119689.000) сигнализируют о проблеме. MAPE очень чувствителен к маленьким значениям целевой переменной. Если в ваших данных `y` близко или равно нулю, MAPE может \"взрываться\" и становиться бессмысленным. "
      ]
    },
    {
      "cell_type": "code",
      "execution_count": 99,
      "metadata": {},
      "outputs": [
        {
          "name": "stdout",
          "output_type": "stream",
          "text": [
            "train r2_score: 0.804\n",
            "train mean_absolute_error: 0.050\n",
            "test r2_score: 0.801\n",
            "test mean_absolute_error: 0.050\n",
            "CPU times: total: 4min 14s\n",
            "Wall time: 4min 15s\n"
          ]
        }
      ],
      "source": [
        "%%time\n",
        "# Модель градиентного бустинга\n",
        "\n",
        "gb = ensemble.GradientBoostingRegressor(\n",
        "    n_estimators=300,\n",
        "    max_depth=5,\n",
        "    random_state=42\n",
        ")\n",
        "gb.fit(X_train, y_train)\n",
        "\n",
        "y_train_predict = gb.predict(X_train)\n",
        "y_test_predict = gb.predict(X_test)\n",
        "\n",
        "# Вывод метрик на экран\n",
        "regression_metrics(y_train, y_train_predict, y_test, y_test_predict)"
      ]
    },
    {
      "cell_type": "markdown",
      "metadata": {},
      "source": [
        "Вывод:\n",
        "\n",
        "* Модель хорошо обучена и обобщает на тестовые данные: Значения `r2_score` (коэффициент детерминации) близки на обучающей и тестовой выборках (0.804 и 0.801 соответственно). Это свидетельствует о хорошем качестве модели и отсутствии переобучения (overfitting). R-квадрат около 0.80 означает, что модель объясняет 80% дисперсии целевой переменной, что является довольно высоким показателем.\n",
        "\n",
        "* Ошибка предсказания относительно невелика и стабильна: `mean_absolute_error` (MAE, средняя абсолютная ошибка) также близка на обучающей и тестовой выборках (0.050). Это говорит о том, что в среднем модель ошибается на 0.050 единиц целевой переменной. Стабильность MAE на обеих выборках подтверждает отсутствие переобучения.\n",
        "\n",
        "В целом, модель демонстрирует хорошие результаты. Улучшение метрик по сравнению с предыдущими значениями (r2_score ~0.78) указывает на то, что оптимизация параметров модели была успешной."
      ]
    },
    {
      "cell_type": "markdown",
      "metadata": {},
      "source": [
        "### 1.2. Настройка гиперпараметров\n",
        "Использование метода поиска гиперпараметров Optuna для оптимизации модели."
      ]
    },
    {
      "cell_type": "code",
      "execution_count": 100,
      "metadata": {},
      "outputs": [
        {
          "data": {
            "text/plain": [
              "'%%time\\n# Алгоритм оптимизации на основе Optuna\\n\\ndef optuna_rf(trial):\\n    \\n    # Гиперпараметры для оптимизации\\n    n_estimators = trial.suggest_int(\\'n_estimators\\', 100, 200, 1)\\n    max_depth = trial.suggest_int(\\'max_depth\\', 10, 30, 1)\\n    min_samples_leaf = trial.suggest_int(\\'min_samples_leaf\\', 2, 10, 1)\\n    \\n    # Модель для оптимизации\\n    model = ensemble.RandomForestRegressor(n_estimators=n_estimators,\\n                                           max_depth=max_depth,\\n                                           min_samples_leaf=min_samples_leaf,\\n                                           random_state=42)\\n    # Обучение модели\\n    model.fit(X_train, y_train)\\n    mae_score = metrics.mean_absolute_error(y_train, model.predict(X_train))\\n    return mae_score\\n\\n# Cоздание нового исследования и оптимизация\\nstudy = optuna.create_study()\\nstudy.optimize(optuna_rf, n_trials=20)\\n\\nmodel = ensemble.RandomForestRegressor(**study.best_params, random_state=42)\\nmodel.fit(X_train, y_train)\\n\\ny_train_predict = model.predict(X_train) # Исправлено!\\ny_test_predict = model.predict(X_test)    # Исправлено!\\n\\nprint(\"Наилучшие значения параметров: {}\".format(study.best_params), \\'\\n\\')\\n\\n# Вывод метрик на экран\\nregression_metrics(y_train, y_train_predict, y_test, y_test_predict)'"
            ]
          },
          "execution_count": 100,
          "metadata": {},
          "output_type": "execute_result"
        }
      ],
      "source": [
        "'''%%time\n",
        "# Алгоритм оптимизации на основе Optuna\n",
        "\n",
        "def optuna_rf(trial):\n",
        "    \n",
        "    # Гиперпараметры для оптимизации\n",
        "    n_estimators = trial.suggest_int('n_estimators', 100, 200, 1)\n",
        "    max_depth = trial.suggest_int('max_depth', 10, 30, 1)\n",
        "    min_samples_leaf = trial.suggest_int('min_samples_leaf', 2, 10, 1)\n",
        "    \n",
        "    # Модель для оптимизации\n",
        "    model = ensemble.RandomForestRegressor(n_estimators=n_estimators,\n",
        "                                           max_depth=max_depth,\n",
        "                                           min_samples_leaf=min_samples_leaf,\n",
        "                                           random_state=42)\n",
        "    # Обучение модели\n",
        "    model.fit(X_train, y_train)\n",
        "    mae_score = metrics.mean_absolute_error(y_train, model.predict(X_train))\n",
        "    return mae_score\n",
        "\n",
        "# Cоздание нового исследования и оптимизация\n",
        "study = optuna.create_study()\n",
        "study.optimize(optuna_rf, n_trials=20)\n",
        "\n",
        "model = ensemble.RandomForestRegressor(**study.best_params, random_state=42)\n",
        "model.fit(X_train, y_train)\n",
        "\n",
        "y_train_predict = model.predict(X_train) # Исправлено!\n",
        "y_test_predict = model.predict(X_test)    # Исправлено!\n",
        "\n",
        "print(\"Наилучшие значения параметров: {}\".format(study.best_params), '\\n')\n",
        "\n",
        "# Вывод метрик на экран\n",
        "regression_metrics(y_train, y_train_predict, y_test, y_test_predict)'''"
      ]
    },
    {
      "cell_type": "markdown",
      "metadata": {},
      "source": [
        "Вывод:\n",
        "Метрики показывают, что модель немного переобучается. R-квадрат и средняя абсолютная ошибка (MAE) на обучающей выборке лучше, чем на тестовой. Это означает, что модель слишком хорошо подстроилась под обучающие данные и не обобщает достаточно хорошо на новые, невидимые данные. Разница, однако, не слишком большая, поэтому переобучение умеренное.\n",
        "\n",
        "train r2_score: 0.879\n",
        "train mean_absolute_error: 0.033\n",
        "\n",
        "test r2_score: 0.804\n",
        "test mean_absolute_error: 0.044\n",
        "\n",
        "CPU times: total: 1h 35min 31s\n",
        "Wall time: 1h 35min 45s\n"
      ]
    },
    {
      "cell_type": "markdown",
      "metadata": {},
      "source": [
        "## 2. Интерпретация модели\n",
        "Использование метода интерпретации моделей SHAP values для объяснения предсказаний.\n",
        "\n",
        "SHAP (SHapley Additive exPlanations):\n",
        "\n",
        "* Как это работает: SHAP значения объясняют предсказание каждого отдельного наблюдения, распределяя вклад каждого признака. SHAP основан на теории игр и предоставляет локальные объяснения.\n",
        "* Как использовать: Библиотека SHAP (`pip install shap`).\n",
        "* Интерпретация: SHAP значения показывают, как каждый признак влияет на предсказание для конкретного наблюдения, по сравнению с базовым значением (средним предсказанием).\n",
        "* Визуализация: SHAP предоставляет различные варианты визуализации, включая force plots, summary plots, dependence plots."
      ]
    },
    {
      "cell_type": "code",
      "execution_count": 101,
      "metadata": {},
      "outputs": [
        {
          "data": {
            "image/png": "[encoded data removed]",
            "text/plain": [
              "<Figure size 800x950 with 2 Axes>"
            ]
          },
          "metadata": {},
          "output_type": "display_data"
        }
      ],
      "source": [
        "import shap\n",
        "\n",
        "\n",
        "# создаем explainer\n",
        "explainer = shap.TreeExplainer(gb)\n",
        "\n",
        "# вычисляем SHAP значения для нескольких наблюдений\n",
        "shap_values = explainer.shap_values(X_test[:100]) # например, для первых 100 наблюдений\n",
        "\n",
        "# строим summary plot\n",
        "shap.summary_plot(shap_values, X_test[:100])"
      ]
    },
    {
      "cell_type": "markdown",
      "metadata": {},
      "source": [
        "Выводы:\n",
        "\n",
        "График представляет собой SHAP-диаграмму (SHapley Additive exPlanations), которая используется для объяснения предсказаний модели машинного обучения. В данном случае, модель предсказывает цену недвижимости, основываясь на различных характеристиках. Структура графика:\n",
        "\n",
        "⦁ SHAP value (impact on model output): По оси X показаны значения SHAP, которые отражают вклад каждой характеристики в предсказание модели. Положительные значения SHAP увеличивают предсказываемую цену, а отрицательные значения уменьшают её. Чем дальше значение от нуля, тем больше влияние характеристики.\n",
        "\n",
        "⦁ Feature value: Цвет точек соответствует значению характеристики. Синий цвет обозначает низкие значения, а красный - высокие.\n",
        "\n",
        "⦁ Характеристики (Features): На графике перечислены характеристики, используемые моделью. Рассмотрим некоторые из них:\n",
        "\n",
        "    ⦁ Price/sqft (Цена за квадратный фут): Ожидаемо, эта характеристика имеет самое большое влияние на предсказываемую цену. Чем выше цена за квадратный фут, тем выше предсказываемая цена.\n",
        "\n",
        "    ⦁ sqft (Площадь в квадратных футах): Влияние площади неоднозначно. Большая площадь может как увеличивать, так и уменьшать предсказываемую цену, вероятно, в зависимости от других факторов, таких как местоположение и тип недвижимости.\n",
        "\n",
        "    ⦁ Year built (Год постройки): Более новые дома, как правило, имеют более высокую предсказываемую цену.\n",
        "\n",
        "    ⦁ baths (Количество ванных комнат): Больше ванных комнат обычно означает более высокую цену.\n",
        "\n",
        "    ⦁ beds (Количество спален): Аналогично ванным комнатам, больше спален обычно коррелирует с более высокой ценой.\n",
        "\n",
        "    ⦁ propertytype (Тип недвижимости): Различные типы недвижимости (condo, coop, detached, rise, multi, apartment) по-разному влияют на цену.\n",
        "\n",
        "    ⦁ Cooling_central (Центральное охлаждение): Наличие центрального охлаждения положительно влияет на цену.\n",
        "\n",
        "    ⦁ Parking garage (Гараж): Наличие гаража также увеличивает предсказываемую цену.\n",
        "\n",
        "    ⦁ status_sale (Статус продажи) и status_new (Статус новый): Эти характеристики бинарные (1 - продается, 0 - не продается; 1 - новый, 0 - не новый) оказывают  влияние на цену.\n",
        "\n",
        "В целом, график показывает, какие характеристики наиболее важны для модели при предсказании цены недвижимости. Он позволяет понять, как различные факторы влияют на цену, и какие из них являются наиболее значимыми. Например, цена за квадратный фут и год постройки являются сильными предикторами цены, в то время как влияние площади может быть более сложным и зависеть от других факторов. Важно помнить, что SHAP значения показывают только ассоциации, а не причинно-следственные связи."
      ]
    },
    {
      "cell_type": "markdown",
      "metadata": {},
      "source": [
        "# IV. Развертывание и мониторинг"
      ]
    },
    {
      "cell_type": "markdown",
      "metadata": {},
      "source": [
        "## 1. Подготовка к развертыванию\n",
        "\n",
        "### 1.1. Оптимизация модели для повышения производительности."
      ]
    }
  ],
  "metadata": {
    "colab": {
      "provenance": [],
      "toc_visible": true
    },
    "kernelspec": {
      "display_name": "Python 3",
      "name": "python3"
    },
    "language_info": {
      "codemirror_mode": {
        "name": "ipython",
        "version": 3
      },
      "file_extension": ".py",
      "mimetype": "text/x-python",
      "name": "python",
      "nbconvert_exporter": "python",
      "pygments_lexer": "ipython3",
      "version": "3.9.10"
    }
  },
  "nbformat": 4,
  "nbformat_minor": 0
}
